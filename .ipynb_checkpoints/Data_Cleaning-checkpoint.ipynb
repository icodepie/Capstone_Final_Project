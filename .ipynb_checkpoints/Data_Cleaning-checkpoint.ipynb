{
 "cells": [
  {
   "cell_type": "code",
   "execution_count": 1,
   "id": "46496b20",
   "metadata": {
    "scrolled": false
   },
   "outputs": [],
   "source": [
    "import pandas as pd\n",
    "import numpy as np\n",
    "from numpy import asarray\n",
    "import seaborn as sns"
   ]
  },
  {
   "cell_type": "code",
   "execution_count": 2,
   "id": "56e6d03c",
   "metadata": {},
   "outputs": [],
   "source": [
    "df = pd.read_csv('./data/train.csv',low_memory=False)"
   ]
  },
  {
   "cell_type": "code",
   "execution_count": 3,
   "id": "0c9ee81e",
   "metadata": {
    "scrolled": true
   },
   "outputs": [
    {
     "name": "stdout",
     "output_type": "stream",
     "text": [
      "<class 'pandas.core.frame.DataFrame'>\n",
      "RangeIndex: 100000 entries, 0 to 99999\n",
      "Data columns (total 28 columns):\n",
      " #   Column                    Non-Null Count   Dtype  \n",
      "---  ------                    --------------   -----  \n",
      " 0   ID                        100000 non-null  object \n",
      " 1   Customer_ID               100000 non-null  object \n",
      " 2   Month                     100000 non-null  object \n",
      " 3   Name                      90015 non-null   object \n",
      " 4   Age                       100000 non-null  object \n",
      " 5   SSN                       100000 non-null  object \n",
      " 6   Occupation                100000 non-null  object \n",
      " 7   Annual_Income             100000 non-null  object \n",
      " 8   Monthly_Inhand_Salary     84998 non-null   float64\n",
      " 9   Num_Bank_Accounts         100000 non-null  int64  \n",
      " 10  Num_Credit_Card           100000 non-null  int64  \n",
      " 11  Interest_Rate             100000 non-null  int64  \n",
      " 12  Num_of_Loan               100000 non-null  object \n",
      " 13  Type_of_Loan              88592 non-null   object \n",
      " 14  Delay_from_due_date       100000 non-null  int64  \n",
      " 15  Num_of_Delayed_Payment    92998 non-null   object \n",
      " 16  Changed_Credit_Limit      100000 non-null  object \n",
      " 17  Num_Credit_Inquiries      98035 non-null   float64\n",
      " 18  Credit_Mix                100000 non-null  object \n",
      " 19  Outstanding_Debt          100000 non-null  object \n",
      " 20  Credit_Utilization_Ratio  100000 non-null  float64\n",
      " 21  Credit_History_Age        90970 non-null   object \n",
      " 22  Payment_of_Min_Amount     100000 non-null  object \n",
      " 23  Total_EMI_per_month       100000 non-null  float64\n",
      " 24  Amount_invested_monthly   95521 non-null   object \n",
      " 25  Payment_Behaviour         100000 non-null  object \n",
      " 26  Monthly_Balance           98800 non-null   object \n",
      " 27  Credit_Score              100000 non-null  object \n",
      "dtypes: float64(4), int64(4), object(20)\n",
      "memory usage: 21.4+ MB\n"
     ]
    }
   ],
   "source": [
    "df.info()"
   ]
  },
  {
   "cell_type": "code",
   "execution_count": 4,
   "id": "de82dfe6",
   "metadata": {
    "scrolled": true
   },
   "outputs": [],
   "source": [
    "df.dropna(inplace=True)"
   ]
  },
  {
   "cell_type": "code",
   "execution_count": 5,
   "id": "fcf22616",
   "metadata": {},
   "outputs": [
    {
     "name": "stdout",
     "output_type": "stream",
     "text": [
      "<class 'pandas.core.frame.DataFrame'>\n",
      "Int64Index: 53049 entries, 0 to 99999\n",
      "Data columns (total 28 columns):\n",
      " #   Column                    Non-Null Count  Dtype  \n",
      "---  ------                    --------------  -----  \n",
      " 0   ID                        53049 non-null  object \n",
      " 1   Customer_ID               53049 non-null  object \n",
      " 2   Month                     53049 non-null  object \n",
      " 3   Name                      53049 non-null  object \n",
      " 4   Age                       53049 non-null  object \n",
      " 5   SSN                       53049 non-null  object \n",
      " 6   Occupation                53049 non-null  object \n",
      " 7   Annual_Income             53049 non-null  object \n",
      " 8   Monthly_Inhand_Salary     53049 non-null  float64\n",
      " 9   Num_Bank_Accounts         53049 non-null  int64  \n",
      " 10  Num_Credit_Card           53049 non-null  int64  \n",
      " 11  Interest_Rate             53049 non-null  int64  \n",
      " 12  Num_of_Loan               53049 non-null  object \n",
      " 13  Type_of_Loan              53049 non-null  object \n",
      " 14  Delay_from_due_date       53049 non-null  int64  \n",
      " 15  Num_of_Delayed_Payment    53049 non-null  object \n",
      " 16  Changed_Credit_Limit      53049 non-null  object \n",
      " 17  Num_Credit_Inquiries      53049 non-null  float64\n",
      " 18  Credit_Mix                53049 non-null  object \n",
      " 19  Outstanding_Debt          53049 non-null  object \n",
      " 20  Credit_Utilization_Ratio  53049 non-null  float64\n",
      " 21  Credit_History_Age        53049 non-null  object \n",
      " 22  Payment_of_Min_Amount     53049 non-null  object \n",
      " 23  Total_EMI_per_month       53049 non-null  float64\n",
      " 24  Amount_invested_monthly   53049 non-null  object \n",
      " 25  Payment_Behaviour         53049 non-null  object \n",
      " 26  Monthly_Balance           53049 non-null  object \n",
      " 27  Credit_Score              53049 non-null  object \n",
      "dtypes: float64(4), int64(4), object(20)\n",
      "memory usage: 11.7+ MB\n"
     ]
    }
   ],
   "source": [
    "df.info()"
   ]
  },
  {
   "cell_type": "code",
   "execution_count": 6,
   "id": "cc23cd29",
   "metadata": {},
   "outputs": [
    {
     "data": {
      "text/html": [
       "<div>\n",
       "<style scoped>\n",
       "    .dataframe tbody tr th:only-of-type {\n",
       "        vertical-align: middle;\n",
       "    }\n",
       "\n",
       "    .dataframe tbody tr th {\n",
       "        vertical-align: top;\n",
       "    }\n",
       "\n",
       "    .dataframe thead th {\n",
       "        text-align: right;\n",
       "    }\n",
       "</style>\n",
       "<table border=\"1\" class=\"dataframe\">\n",
       "  <thead>\n",
       "    <tr style=\"text-align: right;\">\n",
       "      <th></th>\n",
       "      <th>ID</th>\n",
       "      <th>Customer_ID</th>\n",
       "      <th>Month</th>\n",
       "      <th>Name</th>\n",
       "      <th>Age</th>\n",
       "      <th>SSN</th>\n",
       "      <th>Occupation</th>\n",
       "      <th>Annual_Income</th>\n",
       "      <th>Monthly_Inhand_Salary</th>\n",
       "      <th>Num_Bank_Accounts</th>\n",
       "      <th>...</th>\n",
       "      <th>Credit_Mix</th>\n",
       "      <th>Outstanding_Debt</th>\n",
       "      <th>Credit_Utilization_Ratio</th>\n",
       "      <th>Credit_History_Age</th>\n",
       "      <th>Payment_of_Min_Amount</th>\n",
       "      <th>Total_EMI_per_month</th>\n",
       "      <th>Amount_invested_monthly</th>\n",
       "      <th>Payment_Behaviour</th>\n",
       "      <th>Monthly_Balance</th>\n",
       "      <th>Credit_Score</th>\n",
       "    </tr>\n",
       "  </thead>\n",
       "  <tbody>\n",
       "    <tr>\n",
       "      <th>0</th>\n",
       "      <td>0x1602</td>\n",
       "      <td>CUS_0xd40</td>\n",
       "      <td>January</td>\n",
       "      <td>Aaron Maashoh</td>\n",
       "      <td>23</td>\n",
       "      <td>821-00-0265</td>\n",
       "      <td>Scientist</td>\n",
       "      <td>19114.12</td>\n",
       "      <td>1824.843333</td>\n",
       "      <td>3</td>\n",
       "      <td>...</td>\n",
       "      <td>_</td>\n",
       "      <td>809.98</td>\n",
       "      <td>26.822620</td>\n",
       "      <td>22 Years and 1 Months</td>\n",
       "      <td>No</td>\n",
       "      <td>49.574949</td>\n",
       "      <td>80.41529543900253</td>\n",
       "      <td>High_spent_Small_value_payments</td>\n",
       "      <td>312.49408867943663</td>\n",
       "      <td>Good</td>\n",
       "    </tr>\n",
       "    <tr>\n",
       "      <th>6</th>\n",
       "      <td>0x1608</td>\n",
       "      <td>CUS_0xd40</td>\n",
       "      <td>July</td>\n",
       "      <td>Aaron Maashoh</td>\n",
       "      <td>23</td>\n",
       "      <td>821-00-0265</td>\n",
       "      <td>Scientist</td>\n",
       "      <td>19114.12</td>\n",
       "      <td>1824.843333</td>\n",
       "      <td>3</td>\n",
       "      <td>...</td>\n",
       "      <td>Good</td>\n",
       "      <td>809.98</td>\n",
       "      <td>22.537593</td>\n",
       "      <td>22 Years and 7 Months</td>\n",
       "      <td>No</td>\n",
       "      <td>49.574949</td>\n",
       "      <td>178.3440674122349</td>\n",
       "      <td>Low_spent_Small_value_payments</td>\n",
       "      <td>244.5653167062043</td>\n",
       "      <td>Good</td>\n",
       "    </tr>\n",
       "    <tr>\n",
       "      <th>8</th>\n",
       "      <td>0x160e</td>\n",
       "      <td>CUS_0x21b1</td>\n",
       "      <td>January</td>\n",
       "      <td>Rick Rothackerj</td>\n",
       "      <td>28_</td>\n",
       "      <td>004-07-5839</td>\n",
       "      <td>_______</td>\n",
       "      <td>34847.84</td>\n",
       "      <td>3037.986667</td>\n",
       "      <td>2</td>\n",
       "      <td>...</td>\n",
       "      <td>Good</td>\n",
       "      <td>605.03</td>\n",
       "      <td>24.464031</td>\n",
       "      <td>26 Years and 7 Months</td>\n",
       "      <td>No</td>\n",
       "      <td>18.816215</td>\n",
       "      <td>104.291825168246</td>\n",
       "      <td>Low_spent_Small_value_payments</td>\n",
       "      <td>470.69062692529184</td>\n",
       "      <td>Standard</td>\n",
       "    </tr>\n",
       "    <tr>\n",
       "      <th>9</th>\n",
       "      <td>0x160f</td>\n",
       "      <td>CUS_0x21b1</td>\n",
       "      <td>February</td>\n",
       "      <td>Rick Rothackerj</td>\n",
       "      <td>28</td>\n",
       "      <td>004-07-5839</td>\n",
       "      <td>Teacher</td>\n",
       "      <td>34847.84</td>\n",
       "      <td>3037.986667</td>\n",
       "      <td>2</td>\n",
       "      <td>...</td>\n",
       "      <td>Good</td>\n",
       "      <td>605.03</td>\n",
       "      <td>38.550848</td>\n",
       "      <td>26 Years and 8 Months</td>\n",
       "      <td>No</td>\n",
       "      <td>18.816215</td>\n",
       "      <td>40.39123782853101</td>\n",
       "      <td>High_spent_Large_value_payments</td>\n",
       "      <td>484.5912142650067</td>\n",
       "      <td>Good</td>\n",
       "    </tr>\n",
       "    <tr>\n",
       "      <th>10</th>\n",
       "      <td>0x1610</td>\n",
       "      <td>CUS_0x21b1</td>\n",
       "      <td>March</td>\n",
       "      <td>Rick Rothackerj</td>\n",
       "      <td>28</td>\n",
       "      <td>004-07-5839</td>\n",
       "      <td>Teacher</td>\n",
       "      <td>34847.84_</td>\n",
       "      <td>3037.986667</td>\n",
       "      <td>2</td>\n",
       "      <td>...</td>\n",
       "      <td>_</td>\n",
       "      <td>605.03</td>\n",
       "      <td>33.224951</td>\n",
       "      <td>26 Years and 9 Months</td>\n",
       "      <td>No</td>\n",
       "      <td>18.816215</td>\n",
       "      <td>58.51597569589465</td>\n",
       "      <td>High_spent_Large_value_payments</td>\n",
       "      <td>466.46647639764313</td>\n",
       "      <td>Standard</td>\n",
       "    </tr>\n",
       "  </tbody>\n",
       "</table>\n",
       "<p>5 rows × 28 columns</p>\n",
       "</div>"
      ],
      "text/plain": [
       "        ID Customer_ID     Month             Name  Age          SSN  \\\n",
       "0   0x1602   CUS_0xd40   January    Aaron Maashoh   23  821-00-0265   \n",
       "6   0x1608   CUS_0xd40      July    Aaron Maashoh   23  821-00-0265   \n",
       "8   0x160e  CUS_0x21b1   January  Rick Rothackerj  28_  004-07-5839   \n",
       "9   0x160f  CUS_0x21b1  February  Rick Rothackerj   28  004-07-5839   \n",
       "10  0x1610  CUS_0x21b1     March  Rick Rothackerj   28  004-07-5839   \n",
       "\n",
       "   Occupation Annual_Income  Monthly_Inhand_Salary  Num_Bank_Accounts  ...  \\\n",
       "0   Scientist      19114.12            1824.843333                  3  ...   \n",
       "6   Scientist      19114.12            1824.843333                  3  ...   \n",
       "8     _______      34847.84            3037.986667                  2  ...   \n",
       "9     Teacher      34847.84            3037.986667                  2  ...   \n",
       "10    Teacher     34847.84_            3037.986667                  2  ...   \n",
       "\n",
       "    Credit_Mix  Outstanding_Debt Credit_Utilization_Ratio  \\\n",
       "0            _            809.98                26.822620   \n",
       "6         Good            809.98                22.537593   \n",
       "8         Good            605.03                24.464031   \n",
       "9         Good            605.03                38.550848   \n",
       "10           _            605.03                33.224951   \n",
       "\n",
       "       Credit_History_Age  Payment_of_Min_Amount Total_EMI_per_month  \\\n",
       "0   22 Years and 1 Months                     No           49.574949   \n",
       "6   22 Years and 7 Months                     No           49.574949   \n",
       "8   26 Years and 7 Months                     No           18.816215   \n",
       "9   26 Years and 8 Months                     No           18.816215   \n",
       "10  26 Years and 9 Months                     No           18.816215   \n",
       "\n",
       "   Amount_invested_monthly                Payment_Behaviour  \\\n",
       "0        80.41529543900253  High_spent_Small_value_payments   \n",
       "6        178.3440674122349   Low_spent_Small_value_payments   \n",
       "8         104.291825168246   Low_spent_Small_value_payments   \n",
       "9        40.39123782853101  High_spent_Large_value_payments   \n",
       "10       58.51597569589465  High_spent_Large_value_payments   \n",
       "\n",
       "       Monthly_Balance Credit_Score  \n",
       "0   312.49408867943663         Good  \n",
       "6    244.5653167062043         Good  \n",
       "8   470.69062692529184     Standard  \n",
       "9    484.5912142650067         Good  \n",
       "10  466.46647639764313     Standard  \n",
       "\n",
       "[5 rows x 28 columns]"
      ]
     },
     "execution_count": 6,
     "metadata": {},
     "output_type": "execute_result"
    }
   ],
   "source": [
    "df.head()"
   ]
  },
  {
   "cell_type": "code",
   "execution_count": 7,
   "id": "bd20173e",
   "metadata": {},
   "outputs": [],
   "source": [
    "df.drop(['ID','Customer_ID','Month','Name','SSN','Type_of_Loan','Monthly_Balance'],inplace=True, axis=1)"
   ]
  },
  {
   "cell_type": "code",
   "execution_count": 8,
   "id": "aea2f05b",
   "metadata": {
    "scrolled": true
   },
   "outputs": [
    {
     "name": "stdout",
     "output_type": "stream",
     "text": [
      "<class 'pandas.core.frame.DataFrame'>\n",
      "Int64Index: 53049 entries, 0 to 99999\n",
      "Data columns (total 21 columns):\n",
      " #   Column                    Non-Null Count  Dtype  \n",
      "---  ------                    --------------  -----  \n",
      " 0   Age                       53049 non-null  object \n",
      " 1   Occupation                53049 non-null  object \n",
      " 2   Annual_Income             53049 non-null  object \n",
      " 3   Monthly_Inhand_Salary     53049 non-null  float64\n",
      " 4   Num_Bank_Accounts         53049 non-null  int64  \n",
      " 5   Num_Credit_Card           53049 non-null  int64  \n",
      " 6   Interest_Rate             53049 non-null  int64  \n",
      " 7   Num_of_Loan               53049 non-null  object \n",
      " 8   Delay_from_due_date       53049 non-null  int64  \n",
      " 9   Num_of_Delayed_Payment    53049 non-null  object \n",
      " 10  Changed_Credit_Limit      53049 non-null  object \n",
      " 11  Num_Credit_Inquiries      53049 non-null  float64\n",
      " 12  Credit_Mix                53049 non-null  object \n",
      " 13  Outstanding_Debt          53049 non-null  object \n",
      " 14  Credit_Utilization_Ratio  53049 non-null  float64\n",
      " 15  Credit_History_Age        53049 non-null  object \n",
      " 16  Payment_of_Min_Amount     53049 non-null  object \n",
      " 17  Total_EMI_per_month       53049 non-null  float64\n",
      " 18  Amount_invested_monthly   53049 non-null  object \n",
      " 19  Payment_Behaviour         53049 non-null  object \n",
      " 20  Credit_Score              53049 non-null  object \n",
      "dtypes: float64(4), int64(4), object(13)\n",
      "memory usage: 8.9+ MB\n"
     ]
    }
   ],
   "source": [
    "df.info()"
   ]
  },
  {
   "cell_type": "code",
   "execution_count": 9,
   "id": "b4ab275b",
   "metadata": {},
   "outputs": [],
   "source": [
    "df['Age'] = df.Age.str.replace('_','')"
   ]
  },
  {
   "cell_type": "code",
   "execution_count": 10,
   "id": "e51d87df",
   "metadata": {},
   "outputs": [],
   "source": [
    "df['Age'] = df.Age.astype(float)"
   ]
  },
  {
   "cell_type": "code",
   "execution_count": 11,
   "id": "5f10ee83",
   "metadata": {},
   "outputs": [],
   "source": [
    "df = df.loc[(df['Age'] > 16) & (df['Age'] < 90)]"
   ]
  },
  {
   "cell_type": "code",
   "execution_count": 12,
   "id": "54aecbf1",
   "metadata": {},
   "outputs": [
    {
     "data": {
      "text/plain": [
       "38.0    1657\n",
       "28.0    1590\n",
       "26.0    1558\n",
       "34.0    1542\n",
       "31.0    1541\n",
       "27.0    1540\n",
       "36.0    1539\n",
       "35.0    1530\n",
       "44.0    1529\n",
       "25.0    1525\n",
       "32.0    1518\n",
       "43.0    1515\n",
       "37.0    1509\n",
       "39.0    1506\n",
       "19.0    1501\n",
       "22.0    1490\n",
       "24.0    1490\n",
       "41.0    1488\n",
       "30.0    1449\n",
       "23.0    1446\n",
       "21.0    1440\n",
       "29.0    1435\n",
       "20.0    1417\n",
       "45.0    1407\n",
       "42.0    1383\n",
       "40.0    1370\n",
       "18.0    1359\n",
       "33.0    1334\n",
       "17.0     875\n",
       "46.0     802\n",
       "52.0     659\n",
       "50.0     655\n",
       "55.0     646\n",
       "49.0     643\n",
       "48.0     641\n",
       "47.0     607\n",
       "54.0     607\n",
       "53.0     595\n",
       "51.0     575\n",
       "56.0     167\n",
       "Name: Age, dtype: int64"
      ]
     },
     "execution_count": 12,
     "metadata": {},
     "output_type": "execute_result"
    }
   ],
   "source": [
    "df['Age'].value_counts()"
   ]
  },
  {
   "cell_type": "code",
   "execution_count": 13,
   "id": "600dcf44",
   "metadata": {},
   "outputs": [
    {
     "data": {
      "text/plain": [
       "_______          3446\n",
       "Lawyer           3303\n",
       "Mechanic         3129\n",
       "Architect        3115\n",
       "Doctor           3096\n",
       "Accountant       3076\n",
       "Engineer         3072\n",
       "Entrepreneur     3066\n",
       "Teacher          3050\n",
       "Media_Manager    3047\n",
       "Scientist        3036\n",
       "Developer        3026\n",
       "Journalist       2938\n",
       "Writer           2924\n",
       "Musician         2921\n",
       "Manager          2835\n",
       "Name: Occupation, dtype: int64"
      ]
     },
     "execution_count": 13,
     "metadata": {},
     "output_type": "execute_result"
    }
   ],
   "source": [
    "df['Occupation'].value_counts()"
   ]
  },
  {
   "cell_type": "code",
   "execution_count": 14,
   "id": "a99c6b7e",
   "metadata": {},
   "outputs": [],
   "source": [
    "df['Occupation'] = df.Occupation.str.replace('_______','other')"
   ]
  },
  {
   "cell_type": "code",
   "execution_count": 15,
   "id": "38f577ac",
   "metadata": {
    "scrolled": true
   },
   "outputs": [
    {
     "name": "stdout",
     "output_type": "stream",
     "text": [
      "<class 'pandas.core.frame.DataFrame'>\n",
      "Int64Index: 49080 entries, 0 to 99999\n",
      "Data columns (total 21 columns):\n",
      " #   Column                    Non-Null Count  Dtype  \n",
      "---  ------                    --------------  -----  \n",
      " 0   Age                       49080 non-null  float64\n",
      " 1   Occupation                49080 non-null  object \n",
      " 2   Annual_Income             49080 non-null  object \n",
      " 3   Monthly_Inhand_Salary     49080 non-null  float64\n",
      " 4   Num_Bank_Accounts         49080 non-null  int64  \n",
      " 5   Num_Credit_Card           49080 non-null  int64  \n",
      " 6   Interest_Rate             49080 non-null  int64  \n",
      " 7   Num_of_Loan               49080 non-null  object \n",
      " 8   Delay_from_due_date       49080 non-null  int64  \n",
      " 9   Num_of_Delayed_Payment    49080 non-null  object \n",
      " 10  Changed_Credit_Limit      49080 non-null  object \n",
      " 11  Num_Credit_Inquiries      49080 non-null  float64\n",
      " 12  Credit_Mix                49080 non-null  object \n",
      " 13  Outstanding_Debt          49080 non-null  object \n",
      " 14  Credit_Utilization_Ratio  49080 non-null  float64\n",
      " 15  Credit_History_Age        49080 non-null  object \n",
      " 16  Payment_of_Min_Amount     49080 non-null  object \n",
      " 17  Total_EMI_per_month       49080 non-null  float64\n",
      " 18  Amount_invested_monthly   49080 non-null  object \n",
      " 19  Payment_Behaviour         49080 non-null  object \n",
      " 20  Credit_Score              49080 non-null  object \n",
      "dtypes: float64(5), int64(4), object(12)\n",
      "memory usage: 8.2+ MB\n"
     ]
    }
   ],
   "source": [
    "df.info()"
   ]
  },
  {
   "cell_type": "code",
   "execution_count": 16,
   "id": "20493333",
   "metadata": {},
   "outputs": [],
   "source": [
    "df['Annual_Income'] = df.Annual_Income.str.replace('_','')"
   ]
  },
  {
   "cell_type": "code",
   "execution_count": 17,
   "id": "23c70343",
   "metadata": {},
   "outputs": [
    {
     "data": {
      "text/plain": [
       "40341.16      13\n",
       "20867.67      11\n",
       "36585.12      10\n",
       "9141.63       10\n",
       "17816.75      10\n",
       "              ..\n",
       "19706755.0     1\n",
       "3252194.0      1\n",
       "14532812.0     1\n",
       "4442389.0      1\n",
       "13547543.0     1\n",
       "Name: Annual_Income, Length: 11078, dtype: int64"
      ]
     },
     "execution_count": 17,
     "metadata": {},
     "output_type": "execute_result"
    }
   ],
   "source": [
    "df['Annual_Income'].value_counts()"
   ]
  },
  {
   "cell_type": "code",
   "execution_count": 18,
   "id": "8629fd38",
   "metadata": {},
   "outputs": [],
   "source": [
    "df['Annual_Income'] = df.Annual_Income.astype(float)"
   ]
  },
  {
   "cell_type": "code",
   "execution_count": 19,
   "id": "75bef51a",
   "metadata": {},
   "outputs": [
    {
     "name": "stdout",
     "output_type": "stream",
     "text": [
      "<class 'pandas.core.frame.DataFrame'>\n",
      "Int64Index: 49080 entries, 0 to 99999\n",
      "Data columns (total 21 columns):\n",
      " #   Column                    Non-Null Count  Dtype  \n",
      "---  ------                    --------------  -----  \n",
      " 0   Age                       49080 non-null  float64\n",
      " 1   Occupation                49080 non-null  object \n",
      " 2   Annual_Income             49080 non-null  float64\n",
      " 3   Monthly_Inhand_Salary     49080 non-null  float64\n",
      " 4   Num_Bank_Accounts         49080 non-null  int64  \n",
      " 5   Num_Credit_Card           49080 non-null  int64  \n",
      " 6   Interest_Rate             49080 non-null  int64  \n",
      " 7   Num_of_Loan               49080 non-null  object \n",
      " 8   Delay_from_due_date       49080 non-null  int64  \n",
      " 9   Num_of_Delayed_Payment    49080 non-null  object \n",
      " 10  Changed_Credit_Limit      49080 non-null  object \n",
      " 11  Num_Credit_Inquiries      49080 non-null  float64\n",
      " 12  Credit_Mix                49080 non-null  object \n",
      " 13  Outstanding_Debt          49080 non-null  object \n",
      " 14  Credit_Utilization_Ratio  49080 non-null  float64\n",
      " 15  Credit_History_Age        49080 non-null  object \n",
      " 16  Payment_of_Min_Amount     49080 non-null  object \n",
      " 17  Total_EMI_per_month       49080 non-null  float64\n",
      " 18  Amount_invested_monthly   49080 non-null  object \n",
      " 19  Payment_Behaviour         49080 non-null  object \n",
      " 20  Credit_Score              49080 non-null  object \n",
      "dtypes: float64(6), int64(4), object(11)\n",
      "memory usage: 8.2+ MB\n"
     ]
    }
   ],
   "source": [
    "df.info()"
   ]
  },
  {
   "cell_type": "code",
   "execution_count": 20,
   "id": "6b20dd66",
   "metadata": {},
   "outputs": [],
   "source": [
    "df['Num_of_Loan'] = df.Num_of_Loan.str.replace('_','')"
   ]
  },
  {
   "cell_type": "code",
   "execution_count": 21,
   "id": "402c5139",
   "metadata": {},
   "outputs": [],
   "source": [
    "df['Num_of_Loan'] = df.Num_of_Loan.astype(float)"
   ]
  },
  {
   "cell_type": "code",
   "execution_count": 22,
   "id": "ae04aaca",
   "metadata": {},
   "outputs": [],
   "source": [
    "df = df.loc[(df['Num_of_Loan'] > 1) & (df['Num_of_Loan'] < 100)]"
   ]
  },
  {
   "cell_type": "code",
   "execution_count": 23,
   "id": "c6bb0bfe",
   "metadata": {},
   "outputs": [
    {
     "name": "stdout",
     "output_type": "stream",
     "text": [
      "<class 'pandas.core.frame.DataFrame'>\n",
      "Int64Index: 40736 entries, 0 to 99999\n",
      "Data columns (total 21 columns):\n",
      " #   Column                    Non-Null Count  Dtype  \n",
      "---  ------                    --------------  -----  \n",
      " 0   Age                       40736 non-null  float64\n",
      " 1   Occupation                40736 non-null  object \n",
      " 2   Annual_Income             40736 non-null  float64\n",
      " 3   Monthly_Inhand_Salary     40736 non-null  float64\n",
      " 4   Num_Bank_Accounts         40736 non-null  int64  \n",
      " 5   Num_Credit_Card           40736 non-null  int64  \n",
      " 6   Interest_Rate             40736 non-null  int64  \n",
      " 7   Num_of_Loan               40736 non-null  float64\n",
      " 8   Delay_from_due_date       40736 non-null  int64  \n",
      " 9   Num_of_Delayed_Payment    40736 non-null  object \n",
      " 10  Changed_Credit_Limit      40736 non-null  object \n",
      " 11  Num_Credit_Inquiries      40736 non-null  float64\n",
      " 12  Credit_Mix                40736 non-null  object \n",
      " 13  Outstanding_Debt          40736 non-null  object \n",
      " 14  Credit_Utilization_Ratio  40736 non-null  float64\n",
      " 15  Credit_History_Age        40736 non-null  object \n",
      " 16  Payment_of_Min_Amount     40736 non-null  object \n",
      " 17  Total_EMI_per_month       40736 non-null  float64\n",
      " 18  Amount_invested_monthly   40736 non-null  object \n",
      " 19  Payment_Behaviour         40736 non-null  object \n",
      " 20  Credit_Score              40736 non-null  object \n",
      "dtypes: float64(7), int64(4), object(10)\n",
      "memory usage: 6.8+ MB\n"
     ]
    }
   ],
   "source": [
    "df.info()"
   ]
  },
  {
   "cell_type": "code",
   "execution_count": 24,
   "id": "c7cfcea7",
   "metadata": {},
   "outputs": [
    {
     "data": {
      "text/plain": [
       "19      2588\n",
       "16      2444\n",
       "17      2434\n",
       "18      2415\n",
       "20      2366\n",
       "        ... \n",
       "848_       1\n",
       "3489       1\n",
       "1685       1\n",
       "1673       1\n",
       "2047       1\n",
       "Name: Num_of_Delayed_Payment, Length: 375, dtype: int64"
      ]
     },
     "execution_count": 24,
     "metadata": {},
     "output_type": "execute_result"
    }
   ],
   "source": [
    "df['Num_of_Delayed_Payment'].value_counts()"
   ]
  },
  {
   "cell_type": "code",
   "execution_count": 25,
   "id": "aea75c01",
   "metadata": {},
   "outputs": [],
   "source": [
    "df['Num_of_Delayed_Payment'] = df.Num_of_Delayed_Payment.str.replace('_','')"
   ]
  },
  {
   "cell_type": "code",
   "execution_count": 26,
   "id": "6046f6fb",
   "metadata": {},
   "outputs": [],
   "source": [
    "df['Num_of_Delayed_Payment'] = df.Num_of_Delayed_Payment.astype(float)"
   ]
  },
  {
   "cell_type": "code",
   "execution_count": 27,
   "id": "ff9b9d25",
   "metadata": {},
   "outputs": [
    {
     "name": "stdout",
     "output_type": "stream",
     "text": [
      "<class 'pandas.core.frame.DataFrame'>\n",
      "Int64Index: 40736 entries, 0 to 99999\n",
      "Data columns (total 21 columns):\n",
      " #   Column                    Non-Null Count  Dtype  \n",
      "---  ------                    --------------  -----  \n",
      " 0   Age                       40736 non-null  float64\n",
      " 1   Occupation                40736 non-null  object \n",
      " 2   Annual_Income             40736 non-null  float64\n",
      " 3   Monthly_Inhand_Salary     40736 non-null  float64\n",
      " 4   Num_Bank_Accounts         40736 non-null  int64  \n",
      " 5   Num_Credit_Card           40736 non-null  int64  \n",
      " 6   Interest_Rate             40736 non-null  int64  \n",
      " 7   Num_of_Loan               40736 non-null  float64\n",
      " 8   Delay_from_due_date       40736 non-null  int64  \n",
      " 9   Num_of_Delayed_Payment    40736 non-null  float64\n",
      " 10  Changed_Credit_Limit      40736 non-null  object \n",
      " 11  Num_Credit_Inquiries      40736 non-null  float64\n",
      " 12  Credit_Mix                40736 non-null  object \n",
      " 13  Outstanding_Debt          40736 non-null  object \n",
      " 14  Credit_Utilization_Ratio  40736 non-null  float64\n",
      " 15  Credit_History_Age        40736 non-null  object \n",
      " 16  Payment_of_Min_Amount     40736 non-null  object \n",
      " 17  Total_EMI_per_month       40736 non-null  float64\n",
      " 18  Amount_invested_monthly   40736 non-null  object \n",
      " 19  Payment_Behaviour         40736 non-null  object \n",
      " 20  Credit_Score              40736 non-null  object \n",
      "dtypes: float64(8), int64(4), object(9)\n",
      "memory usage: 6.8+ MB\n"
     ]
    }
   ],
   "source": [
    "df.info()"
   ]
  },
  {
   "cell_type": "code",
   "execution_count": 28,
   "id": "3f56ccf6",
   "metadata": {},
   "outputs": [
    {
     "data": {
      "text/plain": [
       "_        838\n",
       "8.22      73\n",
       "11.5      72\n",
       "10.54     51\n",
       "7.64      50\n",
       "        ... \n",
       "-3.28      1\n",
       "22.53      1\n",
       "-6.2       1\n",
       "30.91      1\n",
       "-3.41      1\n",
       "Name: Changed_Credit_Limit, Length: 3796, dtype: int64"
      ]
     },
     "execution_count": 28,
     "metadata": {},
     "output_type": "execute_result"
    }
   ],
   "source": [
    "df['Changed_Credit_Limit'].value_counts()"
   ]
  },
  {
   "cell_type": "code",
   "execution_count": 29,
   "id": "d27892cb",
   "metadata": {},
   "outputs": [],
   "source": [
    "df.Changed_Credit_Limit.replace('_', np.nan, inplace=True)"
   ]
  },
  {
   "cell_type": "code",
   "execution_count": 30,
   "id": "c4f78ff3",
   "metadata": {},
   "outputs": [],
   "source": [
    "df['Changed_Credit_Limit'] = df.Changed_Credit_Limit.astype(float)"
   ]
  },
  {
   "cell_type": "code",
   "execution_count": 31,
   "id": "1a8b6bb3",
   "metadata": {},
   "outputs": [
    {
     "data": {
      "text/plain": [
       " 8.22     73\n",
       " 11.50    72\n",
       " 10.54    51\n",
       " 7.64     50\n",
       " 11.63    49\n",
       "          ..\n",
       "-3.28      1\n",
       " 22.53     1\n",
       "-6.20      1\n",
       " 30.91     1\n",
       "-3.41      1\n",
       "Name: Changed_Credit_Limit, Length: 3795, dtype: int64"
      ]
     },
     "execution_count": 31,
     "metadata": {},
     "output_type": "execute_result"
    }
   ],
   "source": [
    "df['Changed_Credit_Limit'].value_counts()"
   ]
  },
  {
   "cell_type": "code",
   "execution_count": 32,
   "id": "f98a50a8",
   "metadata": {},
   "outputs": [],
   "source": [
    "df.dropna(inplace=True)"
   ]
  },
  {
   "cell_type": "code",
   "execution_count": 33,
   "id": "8be3f72a",
   "metadata": {},
   "outputs": [
    {
     "name": "stdout",
     "output_type": "stream",
     "text": [
      "<class 'pandas.core.frame.DataFrame'>\n",
      "Int64Index: 39898 entries, 0 to 99999\n",
      "Data columns (total 21 columns):\n",
      " #   Column                    Non-Null Count  Dtype  \n",
      "---  ------                    --------------  -----  \n",
      " 0   Age                       39898 non-null  float64\n",
      " 1   Occupation                39898 non-null  object \n",
      " 2   Annual_Income             39898 non-null  float64\n",
      " 3   Monthly_Inhand_Salary     39898 non-null  float64\n",
      " 4   Num_Bank_Accounts         39898 non-null  int64  \n",
      " 5   Num_Credit_Card           39898 non-null  int64  \n",
      " 6   Interest_Rate             39898 non-null  int64  \n",
      " 7   Num_of_Loan               39898 non-null  float64\n",
      " 8   Delay_from_due_date       39898 non-null  int64  \n",
      " 9   Num_of_Delayed_Payment    39898 non-null  float64\n",
      " 10  Changed_Credit_Limit      39898 non-null  float64\n",
      " 11  Num_Credit_Inquiries      39898 non-null  float64\n",
      " 12  Credit_Mix                39898 non-null  object \n",
      " 13  Outstanding_Debt          39898 non-null  object \n",
      " 14  Credit_Utilization_Ratio  39898 non-null  float64\n",
      " 15  Credit_History_Age        39898 non-null  object \n",
      " 16  Payment_of_Min_Amount     39898 non-null  object \n",
      " 17  Total_EMI_per_month       39898 non-null  float64\n",
      " 18  Amount_invested_monthly   39898 non-null  object \n",
      " 19  Payment_Behaviour         39898 non-null  object \n",
      " 20  Credit_Score              39898 non-null  object \n",
      "dtypes: float64(9), int64(4), object(8)\n",
      "memory usage: 6.7+ MB\n"
     ]
    }
   ],
   "source": [
    "df.info()"
   ]
  },
  {
   "cell_type": "code",
   "execution_count": 34,
   "id": "5f8497c2",
   "metadata": {},
   "outputs": [],
   "source": [
    "df['Credit_Mix'] = df.Credit_Mix.str.replace('_','other')"
   ]
  },
  {
   "cell_type": "code",
   "execution_count": 35,
   "id": "24394690",
   "metadata": {},
   "outputs": [
    {
     "data": {
      "text/plain": [
       "Standard    14452\n",
       "Bad          9448\n",
       "other        8115\n",
       "Good         7883\n",
       "Name: Credit_Mix, dtype: int64"
      ]
     },
     "execution_count": 35,
     "metadata": {},
     "output_type": "execute_result"
    }
   ],
   "source": [
    "df['Credit_Mix'].value_counts()"
   ]
  },
  {
   "cell_type": "code",
   "execution_count": 36,
   "id": "ee8fe874",
   "metadata": {},
   "outputs": [],
   "source": [
    "df['Outstanding_Debt'] = df.Outstanding_Debt.str.replace('_','')"
   ]
  },
  {
   "cell_type": "code",
   "execution_count": 37,
   "id": "88ada297",
   "metadata": {},
   "outputs": [],
   "source": [
    "df['Outstanding_Debt'] = df.Outstanding_Debt.astype(float)"
   ]
  },
  {
   "cell_type": "code",
   "execution_count": 38,
   "id": "5a9f7e1b",
   "metadata": {
    "scrolled": false
   },
   "outputs": [
    {
     "name": "stdout",
     "output_type": "stream",
     "text": [
      "<class 'pandas.core.frame.DataFrame'>\n",
      "Int64Index: 39898 entries, 0 to 99999\n",
      "Data columns (total 21 columns):\n",
      " #   Column                    Non-Null Count  Dtype  \n",
      "---  ------                    --------------  -----  \n",
      " 0   Age                       39898 non-null  float64\n",
      " 1   Occupation                39898 non-null  object \n",
      " 2   Annual_Income             39898 non-null  float64\n",
      " 3   Monthly_Inhand_Salary     39898 non-null  float64\n",
      " 4   Num_Bank_Accounts         39898 non-null  int64  \n",
      " 5   Num_Credit_Card           39898 non-null  int64  \n",
      " 6   Interest_Rate             39898 non-null  int64  \n",
      " 7   Num_of_Loan               39898 non-null  float64\n",
      " 8   Delay_from_due_date       39898 non-null  int64  \n",
      " 9   Num_of_Delayed_Payment    39898 non-null  float64\n",
      " 10  Changed_Credit_Limit      39898 non-null  float64\n",
      " 11  Num_Credit_Inquiries      39898 non-null  float64\n",
      " 12  Credit_Mix                39898 non-null  object \n",
      " 13  Outstanding_Debt          39898 non-null  float64\n",
      " 14  Credit_Utilization_Ratio  39898 non-null  float64\n",
      " 15  Credit_History_Age        39898 non-null  object \n",
      " 16  Payment_of_Min_Amount     39898 non-null  object \n",
      " 17  Total_EMI_per_month       39898 non-null  float64\n",
      " 18  Amount_invested_monthly   39898 non-null  object \n",
      " 19  Payment_Behaviour         39898 non-null  object \n",
      " 20  Credit_Score              39898 non-null  object \n",
      "dtypes: float64(10), int64(4), object(7)\n",
      "memory usage: 6.7+ MB\n"
     ]
    }
   ],
   "source": [
    "df.info()"
   ]
  },
  {
   "cell_type": "code",
   "execution_count": 39,
   "id": "248adf58",
   "metadata": {
    "scrolled": true
   },
   "outputs": [],
   "source": [
    "df['Credit_History_Age'] = df['Credit_History_Age'].str[:2]"
   ]
  },
  {
   "cell_type": "code",
   "execution_count": 40,
   "id": "e547f083",
   "metadata": {},
   "outputs": [],
   "source": [
    "df['Credit_History_Age']= df.Credit_History_Age.astype(float)"
   ]
  },
  {
   "cell_type": "code",
   "execution_count": 41,
   "id": "537ecf72",
   "metadata": {},
   "outputs": [
    {
     "name": "stdout",
     "output_type": "stream",
     "text": [
      "<class 'pandas.core.frame.DataFrame'>\n",
      "Int64Index: 39898 entries, 0 to 99999\n",
      "Data columns (total 21 columns):\n",
      " #   Column                    Non-Null Count  Dtype  \n",
      "---  ------                    --------------  -----  \n",
      " 0   Age                       39898 non-null  float64\n",
      " 1   Occupation                39898 non-null  object \n",
      " 2   Annual_Income             39898 non-null  float64\n",
      " 3   Monthly_Inhand_Salary     39898 non-null  float64\n",
      " 4   Num_Bank_Accounts         39898 non-null  int64  \n",
      " 5   Num_Credit_Card           39898 non-null  int64  \n",
      " 6   Interest_Rate             39898 non-null  int64  \n",
      " 7   Num_of_Loan               39898 non-null  float64\n",
      " 8   Delay_from_due_date       39898 non-null  int64  \n",
      " 9   Num_of_Delayed_Payment    39898 non-null  float64\n",
      " 10  Changed_Credit_Limit      39898 non-null  float64\n",
      " 11  Num_Credit_Inquiries      39898 non-null  float64\n",
      " 12  Credit_Mix                39898 non-null  object \n",
      " 13  Outstanding_Debt          39898 non-null  float64\n",
      " 14  Credit_Utilization_Ratio  39898 non-null  float64\n",
      " 15  Credit_History_Age        39898 non-null  float64\n",
      " 16  Payment_of_Min_Amount     39898 non-null  object \n",
      " 17  Total_EMI_per_month       39898 non-null  float64\n",
      " 18  Amount_invested_monthly   39898 non-null  object \n",
      " 19  Payment_Behaviour         39898 non-null  object \n",
      " 20  Credit_Score              39898 non-null  object \n",
      "dtypes: float64(11), int64(4), object(6)\n",
      "memory usage: 6.7+ MB\n"
     ]
    }
   ],
   "source": [
    "df.info()"
   ]
  },
  {
   "cell_type": "code",
   "execution_count": 42,
   "id": "67c49664",
   "metadata": {},
   "outputs": [
    {
     "data": {
      "text/plain": [
       "Yes    23514\n",
       "No     11649\n",
       "NM      4735\n",
       "Name: Payment_of_Min_Amount, dtype: int64"
      ]
     },
     "execution_count": 42,
     "metadata": {},
     "output_type": "execute_result"
    }
   ],
   "source": [
    "df['Payment_of_Min_Amount'].value_counts()"
   ]
  },
  {
   "cell_type": "code",
   "execution_count": 43,
   "id": "5c3f5b08",
   "metadata": {},
   "outputs": [
    {
     "data": {
      "text/plain": [
       "__10000__             1774\n",
       "0.0                     82\n",
       "80.41529543900253        1\n",
       "465.5475059350328        1\n",
       "84.24536179382086        1\n",
       "                      ... \n",
       "232.63472555013408       1\n",
       "355.75712170015504       1\n",
       "74.16157614915758        1\n",
       "268.6482203525983        1\n",
       "167.1638651610451        1\n",
       "Name: Amount_invested_monthly, Length: 38044, dtype: int64"
      ]
     },
     "execution_count": 43,
     "metadata": {},
     "output_type": "execute_result"
    }
   ],
   "source": [
    "df['Amount_invested_monthly'].value_counts()"
   ]
  },
  {
   "cell_type": "code",
   "execution_count": 44,
   "id": "307eafd7",
   "metadata": {},
   "outputs": [],
   "source": [
    "df['Amount_invested_monthly'] = df.Amount_invested_monthly.str.replace('_','')"
   ]
  },
  {
   "cell_type": "code",
   "execution_count": 45,
   "id": "13ea42f9",
   "metadata": {},
   "outputs": [],
   "source": [
    "df['Amount_invested_monthly']= df.Amount_invested_monthly.astype(float)"
   ]
  },
  {
   "cell_type": "code",
   "execution_count": 46,
   "id": "d12f9d5e",
   "metadata": {},
   "outputs": [
    {
     "name": "stdout",
     "output_type": "stream",
     "text": [
      "<class 'pandas.core.frame.DataFrame'>\n",
      "Int64Index: 39898 entries, 0 to 99999\n",
      "Data columns (total 21 columns):\n",
      " #   Column                    Non-Null Count  Dtype  \n",
      "---  ------                    --------------  -----  \n",
      " 0   Age                       39898 non-null  float64\n",
      " 1   Occupation                39898 non-null  object \n",
      " 2   Annual_Income             39898 non-null  float64\n",
      " 3   Monthly_Inhand_Salary     39898 non-null  float64\n",
      " 4   Num_Bank_Accounts         39898 non-null  int64  \n",
      " 5   Num_Credit_Card           39898 non-null  int64  \n",
      " 6   Interest_Rate             39898 non-null  int64  \n",
      " 7   Num_of_Loan               39898 non-null  float64\n",
      " 8   Delay_from_due_date       39898 non-null  int64  \n",
      " 9   Num_of_Delayed_Payment    39898 non-null  float64\n",
      " 10  Changed_Credit_Limit      39898 non-null  float64\n",
      " 11  Num_Credit_Inquiries      39898 non-null  float64\n",
      " 12  Credit_Mix                39898 non-null  object \n",
      " 13  Outstanding_Debt          39898 non-null  float64\n",
      " 14  Credit_Utilization_Ratio  39898 non-null  float64\n",
      " 15  Credit_History_Age        39898 non-null  float64\n",
      " 16  Payment_of_Min_Amount     39898 non-null  object \n",
      " 17  Total_EMI_per_month       39898 non-null  float64\n",
      " 18  Amount_invested_monthly   39898 non-null  float64\n",
      " 19  Payment_Behaviour         39898 non-null  object \n",
      " 20  Credit_Score              39898 non-null  object \n",
      "dtypes: float64(12), int64(4), object(5)\n",
      "memory usage: 6.7+ MB\n"
     ]
    }
   ],
   "source": [
    "df.info()"
   ]
  },
  {
   "cell_type": "code",
   "execution_count": 47,
   "id": "835f4291",
   "metadata": {},
   "outputs": [
    {
     "data": {
      "text/plain": [
       "Low_spent_Small_value_payments      10350\n",
       "High_spent_Medium_value_payments     7054\n",
       "Low_spent_Medium_value_payments      5461\n",
       "High_spent_Large_value_payments      5253\n",
       "High_spent_Small_value_payments      4605\n",
       "Low_spent_Large_value_payments       4228\n",
       "!@9#%8                               2947\n",
       "Name: Payment_Behaviour, dtype: int64"
      ]
     },
     "execution_count": 47,
     "metadata": {},
     "output_type": "execute_result"
    }
   ],
   "source": [
    "df['Payment_Behaviour'].value_counts()"
   ]
  },
  {
   "cell_type": "code",
   "execution_count": 48,
   "id": "ddeb8f4c",
   "metadata": {},
   "outputs": [
    {
     "data": {
      "text/plain": [
       "Standard    20650\n",
       "Poor        13281\n",
       "Good         5967\n",
       "Name: Credit_Score, dtype: int64"
      ]
     },
     "execution_count": 48,
     "metadata": {},
     "output_type": "execute_result"
    }
   ],
   "source": [
    "df['Credit_Score'].value_counts()"
   ]
  },
  {
   "cell_type": "code",
   "execution_count": 49,
   "id": "5fd8ed14",
   "metadata": {
    "scrolled": true
   },
   "outputs": [
    {
     "name": "stdout",
     "output_type": "stream",
     "text": [
      "<class 'pandas.core.frame.DataFrame'>\n",
      "Int64Index: 39898 entries, 0 to 99999\n",
      "Data columns (total 21 columns):\n",
      " #   Column                    Non-Null Count  Dtype  \n",
      "---  ------                    --------------  -----  \n",
      " 0   Age                       39898 non-null  float64\n",
      " 1   Occupation                39898 non-null  object \n",
      " 2   Annual_Income             39898 non-null  float64\n",
      " 3   Monthly_Inhand_Salary     39898 non-null  float64\n",
      " 4   Num_Bank_Accounts         39898 non-null  int64  \n",
      " 5   Num_Credit_Card           39898 non-null  int64  \n",
      " 6   Interest_Rate             39898 non-null  int64  \n",
      " 7   Num_of_Loan               39898 non-null  float64\n",
      " 8   Delay_from_due_date       39898 non-null  int64  \n",
      " 9   Num_of_Delayed_Payment    39898 non-null  float64\n",
      " 10  Changed_Credit_Limit      39898 non-null  float64\n",
      " 11  Num_Credit_Inquiries      39898 non-null  float64\n",
      " 12  Credit_Mix                39898 non-null  object \n",
      " 13  Outstanding_Debt          39898 non-null  float64\n",
      " 14  Credit_Utilization_Ratio  39898 non-null  float64\n",
      " 15  Credit_History_Age        39898 non-null  float64\n",
      " 16  Payment_of_Min_Amount     39898 non-null  object \n",
      " 17  Total_EMI_per_month       39898 non-null  float64\n",
      " 18  Amount_invested_monthly   39898 non-null  float64\n",
      " 19  Payment_Behaviour         39898 non-null  object \n",
      " 20  Credit_Score              39898 non-null  object \n",
      "dtypes: float64(12), int64(4), object(5)\n",
      "memory usage: 6.7+ MB\n"
     ]
    }
   ],
   "source": [
    "df.info()"
   ]
  },
  {
   "cell_type": "code",
   "execution_count": 50,
   "id": "69d4270d",
   "metadata": {
    "scrolled": true
   },
   "outputs": [
    {
     "data": {
      "text/plain": [
       "Standard    20650\n",
       "Poor        13281\n",
       "Good         5967\n",
       "Name: Credit_Score, dtype: int64"
      ]
     },
     "execution_count": 50,
     "metadata": {},
     "output_type": "execute_result"
    }
   ],
   "source": [
    "df.Credit_Score.value_counts()"
   ]
  },
  {
   "cell_type": "code",
   "execution_count": 51,
   "id": "bf056e7b",
   "metadata": {},
   "outputs": [],
   "source": [
    "score_mapper = {\"Poor\":1, \"Standard\":2, \"Good\":3}"
   ]
  },
  {
   "cell_type": "code",
   "execution_count": 52,
   "id": "9b818aca",
   "metadata": {},
   "outputs": [],
   "source": [
    "df[\"Credit_Score\"] = df[\"Credit_Score\"].replace(score_mapper)"
   ]
  },
  {
   "cell_type": "code",
   "execution_count": 53,
   "id": "91d5a5cd",
   "metadata": {
    "scrolled": true
   },
   "outputs": [
    {
     "data": {
      "text/html": [
       "<div>\n",
       "<style scoped>\n",
       "    .dataframe tbody tr th:only-of-type {\n",
       "        vertical-align: middle;\n",
       "    }\n",
       "\n",
       "    .dataframe tbody tr th {\n",
       "        vertical-align: top;\n",
       "    }\n",
       "\n",
       "    .dataframe thead th {\n",
       "        text-align: right;\n",
       "    }\n",
       "</style>\n",
       "<table border=\"1\" class=\"dataframe\">\n",
       "  <thead>\n",
       "    <tr style=\"text-align: right;\">\n",
       "      <th></th>\n",
       "      <th>Age</th>\n",
       "      <th>Occupation</th>\n",
       "      <th>Annual_Income</th>\n",
       "      <th>Monthly_Inhand_Salary</th>\n",
       "      <th>Num_Bank_Accounts</th>\n",
       "      <th>Num_Credit_Card</th>\n",
       "      <th>Interest_Rate</th>\n",
       "      <th>Num_of_Loan</th>\n",
       "      <th>Delay_from_due_date</th>\n",
       "      <th>Num_of_Delayed_Payment</th>\n",
       "      <th>...</th>\n",
       "      <th>Num_Credit_Inquiries</th>\n",
       "      <th>Credit_Mix</th>\n",
       "      <th>Outstanding_Debt</th>\n",
       "      <th>Credit_Utilization_Ratio</th>\n",
       "      <th>Credit_History_Age</th>\n",
       "      <th>Payment_of_Min_Amount</th>\n",
       "      <th>Total_EMI_per_month</th>\n",
       "      <th>Amount_invested_monthly</th>\n",
       "      <th>Payment_Behaviour</th>\n",
       "      <th>Credit_Score</th>\n",
       "    </tr>\n",
       "  </thead>\n",
       "  <tbody>\n",
       "    <tr>\n",
       "      <th>0</th>\n",
       "      <td>23.0</td>\n",
       "      <td>Scientist</td>\n",
       "      <td>19114.12</td>\n",
       "      <td>1824.843333</td>\n",
       "      <td>3</td>\n",
       "      <td>4</td>\n",
       "      <td>3</td>\n",
       "      <td>4.0</td>\n",
       "      <td>3</td>\n",
       "      <td>7.0</td>\n",
       "      <td>...</td>\n",
       "      <td>4.0</td>\n",
       "      <td>other</td>\n",
       "      <td>809.98</td>\n",
       "      <td>26.822620</td>\n",
       "      <td>22.0</td>\n",
       "      <td>No</td>\n",
       "      <td>49.574949</td>\n",
       "      <td>80.415295</td>\n",
       "      <td>High_spent_Small_value_payments</td>\n",
       "      <td>3</td>\n",
       "    </tr>\n",
       "    <tr>\n",
       "      <th>6</th>\n",
       "      <td>23.0</td>\n",
       "      <td>Scientist</td>\n",
       "      <td>19114.12</td>\n",
       "      <td>1824.843333</td>\n",
       "      <td>3</td>\n",
       "      <td>4</td>\n",
       "      <td>3</td>\n",
       "      <td>4.0</td>\n",
       "      <td>3</td>\n",
       "      <td>8.0</td>\n",
       "      <td>...</td>\n",
       "      <td>4.0</td>\n",
       "      <td>Good</td>\n",
       "      <td>809.98</td>\n",
       "      <td>22.537593</td>\n",
       "      <td>22.0</td>\n",
       "      <td>No</td>\n",
       "      <td>49.574949</td>\n",
       "      <td>178.344067</td>\n",
       "      <td>Low_spent_Small_value_payments</td>\n",
       "      <td>3</td>\n",
       "    </tr>\n",
       "    <tr>\n",
       "      <th>16</th>\n",
       "      <td>34.0</td>\n",
       "      <td>other</td>\n",
       "      <td>143162.64</td>\n",
       "      <td>12187.220000</td>\n",
       "      <td>1</td>\n",
       "      <td>5</td>\n",
       "      <td>8</td>\n",
       "      <td>3.0</td>\n",
       "      <td>5</td>\n",
       "      <td>8.0</td>\n",
       "      <td>...</td>\n",
       "      <td>3.0</td>\n",
       "      <td>Good</td>\n",
       "      <td>1303.01</td>\n",
       "      <td>28.616735</td>\n",
       "      <td>17.0</td>\n",
       "      <td>No</td>\n",
       "      <td>246.992319</td>\n",
       "      <td>168.413703</td>\n",
       "      <td>!@9#%8</td>\n",
       "      <td>3</td>\n",
       "    </tr>\n",
       "    <tr>\n",
       "      <th>20</th>\n",
       "      <td>34.0</td>\n",
       "      <td>other</td>\n",
       "      <td>143162.64</td>\n",
       "      <td>12187.220000</td>\n",
       "      <td>1</td>\n",
       "      <td>5</td>\n",
       "      <td>8</td>\n",
       "      <td>3.0</td>\n",
       "      <td>10</td>\n",
       "      <td>5.0</td>\n",
       "      <td>...</td>\n",
       "      <td>3.0</td>\n",
       "      <td>Good</td>\n",
       "      <td>1303.01</td>\n",
       "      <td>31.376150</td>\n",
       "      <td>18.0</td>\n",
       "      <td>No</td>\n",
       "      <td>246.992319</td>\n",
       "      <td>430.947528</td>\n",
       "      <td>Low_spent_Large_value_payments</td>\n",
       "      <td>3</td>\n",
       "    </tr>\n",
       "    <tr>\n",
       "      <th>23</th>\n",
       "      <td>34.0</td>\n",
       "      <td>Engineer</td>\n",
       "      <td>143162.64</td>\n",
       "      <td>12187.220000</td>\n",
       "      <td>1</td>\n",
       "      <td>5</td>\n",
       "      <td>8</td>\n",
       "      <td>3.0</td>\n",
       "      <td>8</td>\n",
       "      <td>6.0</td>\n",
       "      <td>...</td>\n",
       "      <td>3.0</td>\n",
       "      <td>Good</td>\n",
       "      <td>1303.01</td>\n",
       "      <td>38.374753</td>\n",
       "      <td>18.0</td>\n",
       "      <td>No</td>\n",
       "      <td>246.992319</td>\n",
       "      <td>10000.000000</td>\n",
       "      <td>High_spent_Small_value_payments</td>\n",
       "      <td>2</td>\n",
       "    </tr>\n",
       "  </tbody>\n",
       "</table>\n",
       "<p>5 rows × 21 columns</p>\n",
       "</div>"
      ],
      "text/plain": [
       "     Age Occupation  Annual_Income  Monthly_Inhand_Salary  Num_Bank_Accounts  \\\n",
       "0   23.0  Scientist       19114.12            1824.843333                  3   \n",
       "6   23.0  Scientist       19114.12            1824.843333                  3   \n",
       "16  34.0      other      143162.64           12187.220000                  1   \n",
       "20  34.0      other      143162.64           12187.220000                  1   \n",
       "23  34.0   Engineer      143162.64           12187.220000                  1   \n",
       "\n",
       "    Num_Credit_Card  Interest_Rate  Num_of_Loan  Delay_from_due_date  \\\n",
       "0                 4              3          4.0                    3   \n",
       "6                 4              3          4.0                    3   \n",
       "16                5              8          3.0                    5   \n",
       "20                5              8          3.0                   10   \n",
       "23                5              8          3.0                    8   \n",
       "\n",
       "    Num_of_Delayed_Payment  ...  Num_Credit_Inquiries  Credit_Mix  \\\n",
       "0                      7.0  ...                   4.0       other   \n",
       "6                      8.0  ...                   4.0        Good   \n",
       "16                     8.0  ...                   3.0        Good   \n",
       "20                     5.0  ...                   3.0        Good   \n",
       "23                     6.0  ...                   3.0        Good   \n",
       "\n",
       "   Outstanding_Debt  Credit_Utilization_Ratio  Credit_History_Age  \\\n",
       "0            809.98                 26.822620                22.0   \n",
       "6            809.98                 22.537593                22.0   \n",
       "16          1303.01                 28.616735                17.0   \n",
       "20          1303.01                 31.376150                18.0   \n",
       "23          1303.01                 38.374753                18.0   \n",
       "\n",
       "    Payment_of_Min_Amount Total_EMI_per_month  Amount_invested_monthly  \\\n",
       "0                      No           49.574949                80.415295   \n",
       "6                      No           49.574949               178.344067   \n",
       "16                     No          246.992319               168.413703   \n",
       "20                     No          246.992319               430.947528   \n",
       "23                     No          246.992319             10000.000000   \n",
       "\n",
       "                  Payment_Behaviour Credit_Score  \n",
       "0   High_spent_Small_value_payments            3  \n",
       "6    Low_spent_Small_value_payments            3  \n",
       "16                           !@9#%8            3  \n",
       "20   Low_spent_Large_value_payments            3  \n",
       "23  High_spent_Small_value_payments            2  \n",
       "\n",
       "[5 rows x 21 columns]"
      ]
     },
     "execution_count": 53,
     "metadata": {},
     "output_type": "execute_result"
    }
   ],
   "source": [
    "df.head()"
   ]
  },
  {
   "cell_type": "code",
   "execution_count": 54,
   "id": "7e13f354",
   "metadata": {},
   "outputs": [
    {
     "name": "stdout",
     "output_type": "stream",
     "text": [
      "<class 'pandas.core.frame.DataFrame'>\n",
      "Int64Index: 39898 entries, 0 to 99999\n",
      "Data columns (total 21 columns):\n",
      " #   Column                    Non-Null Count  Dtype  \n",
      "---  ------                    --------------  -----  \n",
      " 0   Age                       39898 non-null  float64\n",
      " 1   Occupation                39898 non-null  object \n",
      " 2   Annual_Income             39898 non-null  float64\n",
      " 3   Monthly_Inhand_Salary     39898 non-null  float64\n",
      " 4   Num_Bank_Accounts         39898 non-null  int64  \n",
      " 5   Num_Credit_Card           39898 non-null  int64  \n",
      " 6   Interest_Rate             39898 non-null  int64  \n",
      " 7   Num_of_Loan               39898 non-null  float64\n",
      " 8   Delay_from_due_date       39898 non-null  int64  \n",
      " 9   Num_of_Delayed_Payment    39898 non-null  float64\n",
      " 10  Changed_Credit_Limit      39898 non-null  float64\n",
      " 11  Num_Credit_Inquiries      39898 non-null  float64\n",
      " 12  Credit_Mix                39898 non-null  object \n",
      " 13  Outstanding_Debt          39898 non-null  float64\n",
      " 14  Credit_Utilization_Ratio  39898 non-null  float64\n",
      " 15  Credit_History_Age        39898 non-null  float64\n",
      " 16  Payment_of_Min_Amount     39898 non-null  object \n",
      " 17  Total_EMI_per_month       39898 non-null  float64\n",
      " 18  Amount_invested_monthly   39898 non-null  float64\n",
      " 19  Payment_Behaviour         39898 non-null  object \n",
      " 20  Credit_Score              39898 non-null  int64  \n",
      "dtypes: float64(12), int64(5), object(4)\n",
      "memory usage: 6.7+ MB\n"
     ]
    }
   ],
   "source": [
    "df.info()"
   ]
  },
  {
   "cell_type": "code",
   "execution_count": 55,
   "id": "f3643352",
   "metadata": {},
   "outputs": [],
   "source": [
    "df.to_csv('./data/cleaned_data.csv')"
   ]
  },
  {
   "cell_type": "code",
   "execution_count": null,
   "id": "8c08f630",
   "metadata": {},
   "outputs": [],
   "source": []
  }
 ],
 "metadata": {
  "kernelspec": {
   "display_name": "Python (learn-env)",
   "language": "python",
   "name": "learn-env"
  },
  "language_info": {
   "codemirror_mode": {
    "name": "ipython",
    "version": 3
   },
   "file_extension": ".py",
   "mimetype": "text/x-python",
   "name": "python",
   "nbconvert_exporter": "python",
   "pygments_lexer": "ipython3",
   "version": "3.8.5"
  }
 },
 "nbformat": 4,
 "nbformat_minor": 5
}
