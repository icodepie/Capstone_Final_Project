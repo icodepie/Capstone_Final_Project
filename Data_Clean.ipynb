{
 "cells": [
  {
   "cell_type": "markdown",
   "id": "c121c9a0",
   "metadata": {
    "scrolled": false
   },
   "source": [
    "# Imports and column Drops "
   ]
  },
  {
   "cell_type": "code",
   "execution_count": 1,
   "id": "8241e2db",
   "metadata": {},
   "outputs": [],
   "source": [
    "#Imports for data cleaning\n",
    "import pandas as pd\n",
    "import numpy as np\n",
    "import matplotlib.pyplot as plt\n",
    "from numpy import asarray\n",
    "import seaborn as sns\n",
    "import warnings\n",
    "warnings.filterwarnings(\"ignore\")"
   ]
  },
  {
   "cell_type": "code",
   "execution_count": 2,
   "id": "a6d82aa5",
   "metadata": {},
   "outputs": [],
   "source": [
    "#Load in file \n",
    "df = pd.read_csv('./data/train.csv',low_memory=False)"
   ]
  },
  {
   "cell_type": "code",
   "execution_count": 3,
   "id": "2f0dc0c9",
   "metadata": {
    "scrolled": true
   },
   "outputs": [
    {
     "data": {
      "text/html": [
       "<div>\n",
       "<style scoped>\n",
       "    .dataframe tbody tr th:only-of-type {\n",
       "        vertical-align: middle;\n",
       "    }\n",
       "\n",
       "    .dataframe tbody tr th {\n",
       "        vertical-align: top;\n",
       "    }\n",
       "\n",
       "    .dataframe thead th {\n",
       "        text-align: right;\n",
       "    }\n",
       "</style>\n",
       "<table border=\"1\" class=\"dataframe\">\n",
       "  <thead>\n",
       "    <tr style=\"text-align: right;\">\n",
       "      <th></th>\n",
       "      <th>ID</th>\n",
       "      <th>Customer_ID</th>\n",
       "      <th>Month</th>\n",
       "      <th>Name</th>\n",
       "      <th>Age</th>\n",
       "      <th>SSN</th>\n",
       "      <th>Occupation</th>\n",
       "      <th>Annual_Income</th>\n",
       "      <th>Monthly_Inhand_Salary</th>\n",
       "      <th>Num_Bank_Accounts</th>\n",
       "      <th>...</th>\n",
       "      <th>Credit_Mix</th>\n",
       "      <th>Outstanding_Debt</th>\n",
       "      <th>Credit_Utilization_Ratio</th>\n",
       "      <th>Credit_History_Age</th>\n",
       "      <th>Payment_of_Min_Amount</th>\n",
       "      <th>Total_EMI_per_month</th>\n",
       "      <th>Amount_invested_monthly</th>\n",
       "      <th>Payment_Behaviour</th>\n",
       "      <th>Monthly_Balance</th>\n",
       "      <th>Credit_Score</th>\n",
       "    </tr>\n",
       "  </thead>\n",
       "  <tbody>\n",
       "    <tr>\n",
       "      <th>0</th>\n",
       "      <td>0x1602</td>\n",
       "      <td>CUS_0xd40</td>\n",
       "      <td>January</td>\n",
       "      <td>Aaron Maashoh</td>\n",
       "      <td>23</td>\n",
       "      <td>821-00-0265</td>\n",
       "      <td>Scientist</td>\n",
       "      <td>19114.12</td>\n",
       "      <td>1824.843333</td>\n",
       "      <td>3</td>\n",
       "      <td>...</td>\n",
       "      <td>_</td>\n",
       "      <td>809.98</td>\n",
       "      <td>26.822620</td>\n",
       "      <td>22 Years and 1 Months</td>\n",
       "      <td>No</td>\n",
       "      <td>49.574949</td>\n",
       "      <td>80.41529543900253</td>\n",
       "      <td>High_spent_Small_value_payments</td>\n",
       "      <td>312.49408867943663</td>\n",
       "      <td>Good</td>\n",
       "    </tr>\n",
       "    <tr>\n",
       "      <th>1</th>\n",
       "      <td>0x1603</td>\n",
       "      <td>CUS_0xd40</td>\n",
       "      <td>February</td>\n",
       "      <td>Aaron Maashoh</td>\n",
       "      <td>23</td>\n",
       "      <td>821-00-0265</td>\n",
       "      <td>Scientist</td>\n",
       "      <td>19114.12</td>\n",
       "      <td>NaN</td>\n",
       "      <td>3</td>\n",
       "      <td>...</td>\n",
       "      <td>Good</td>\n",
       "      <td>809.98</td>\n",
       "      <td>31.944960</td>\n",
       "      <td>NaN</td>\n",
       "      <td>No</td>\n",
       "      <td>49.574949</td>\n",
       "      <td>118.28022162236736</td>\n",
       "      <td>Low_spent_Large_value_payments</td>\n",
       "      <td>284.62916249607184</td>\n",
       "      <td>Good</td>\n",
       "    </tr>\n",
       "    <tr>\n",
       "      <th>2</th>\n",
       "      <td>0x1604</td>\n",
       "      <td>CUS_0xd40</td>\n",
       "      <td>March</td>\n",
       "      <td>Aaron Maashoh</td>\n",
       "      <td>-500</td>\n",
       "      <td>821-00-0265</td>\n",
       "      <td>Scientist</td>\n",
       "      <td>19114.12</td>\n",
       "      <td>NaN</td>\n",
       "      <td>3</td>\n",
       "      <td>...</td>\n",
       "      <td>Good</td>\n",
       "      <td>809.98</td>\n",
       "      <td>28.609352</td>\n",
       "      <td>22 Years and 3 Months</td>\n",
       "      <td>No</td>\n",
       "      <td>49.574949</td>\n",
       "      <td>81.699521264648</td>\n",
       "      <td>Low_spent_Medium_value_payments</td>\n",
       "      <td>331.2098628537912</td>\n",
       "      <td>Good</td>\n",
       "    </tr>\n",
       "    <tr>\n",
       "      <th>3</th>\n",
       "      <td>0x1605</td>\n",
       "      <td>CUS_0xd40</td>\n",
       "      <td>April</td>\n",
       "      <td>Aaron Maashoh</td>\n",
       "      <td>23</td>\n",
       "      <td>821-00-0265</td>\n",
       "      <td>Scientist</td>\n",
       "      <td>19114.12</td>\n",
       "      <td>NaN</td>\n",
       "      <td>3</td>\n",
       "      <td>...</td>\n",
       "      <td>Good</td>\n",
       "      <td>809.98</td>\n",
       "      <td>31.377862</td>\n",
       "      <td>22 Years and 4 Months</td>\n",
       "      <td>No</td>\n",
       "      <td>49.574949</td>\n",
       "      <td>199.4580743910713</td>\n",
       "      <td>Low_spent_Small_value_payments</td>\n",
       "      <td>223.45130972736786</td>\n",
       "      <td>Good</td>\n",
       "    </tr>\n",
       "    <tr>\n",
       "      <th>4</th>\n",
       "      <td>0x1606</td>\n",
       "      <td>CUS_0xd40</td>\n",
       "      <td>May</td>\n",
       "      <td>Aaron Maashoh</td>\n",
       "      <td>23</td>\n",
       "      <td>821-00-0265</td>\n",
       "      <td>Scientist</td>\n",
       "      <td>19114.12</td>\n",
       "      <td>1824.843333</td>\n",
       "      <td>3</td>\n",
       "      <td>...</td>\n",
       "      <td>Good</td>\n",
       "      <td>809.98</td>\n",
       "      <td>24.797347</td>\n",
       "      <td>22 Years and 5 Months</td>\n",
       "      <td>No</td>\n",
       "      <td>49.574949</td>\n",
       "      <td>41.420153086217326</td>\n",
       "      <td>High_spent_Medium_value_payments</td>\n",
       "      <td>341.48923103222177</td>\n",
       "      <td>Good</td>\n",
       "    </tr>\n",
       "  </tbody>\n",
       "</table>\n",
       "<p>5 rows × 28 columns</p>\n",
       "</div>"
      ],
      "text/plain": [
       "       ID Customer_ID     Month           Name   Age          SSN Occupation  \\\n",
       "0  0x1602   CUS_0xd40   January  Aaron Maashoh    23  821-00-0265  Scientist   \n",
       "1  0x1603   CUS_0xd40  February  Aaron Maashoh    23  821-00-0265  Scientist   \n",
       "2  0x1604   CUS_0xd40     March  Aaron Maashoh  -500  821-00-0265  Scientist   \n",
       "3  0x1605   CUS_0xd40     April  Aaron Maashoh    23  821-00-0265  Scientist   \n",
       "4  0x1606   CUS_0xd40       May  Aaron Maashoh    23  821-00-0265  Scientist   \n",
       "\n",
       "  Annual_Income  Monthly_Inhand_Salary  Num_Bank_Accounts  ...  Credit_Mix  \\\n",
       "0      19114.12            1824.843333                  3  ...           _   \n",
       "1      19114.12                    NaN                  3  ...        Good   \n",
       "2      19114.12                    NaN                  3  ...        Good   \n",
       "3      19114.12                    NaN                  3  ...        Good   \n",
       "4      19114.12            1824.843333                  3  ...        Good   \n",
       "\n",
       "   Outstanding_Debt Credit_Utilization_Ratio     Credit_History_Age  \\\n",
       "0            809.98                26.822620  22 Years and 1 Months   \n",
       "1            809.98                31.944960                    NaN   \n",
       "2            809.98                28.609352  22 Years and 3 Months   \n",
       "3            809.98                31.377862  22 Years and 4 Months   \n",
       "4            809.98                24.797347  22 Years and 5 Months   \n",
       "\n",
       "   Payment_of_Min_Amount Total_EMI_per_month Amount_invested_monthly  \\\n",
       "0                     No           49.574949       80.41529543900253   \n",
       "1                     No           49.574949      118.28022162236736   \n",
       "2                     No           49.574949         81.699521264648   \n",
       "3                     No           49.574949       199.4580743910713   \n",
       "4                     No           49.574949      41.420153086217326   \n",
       "\n",
       "                  Payment_Behaviour     Monthly_Balance Credit_Score  \n",
       "0   High_spent_Small_value_payments  312.49408867943663         Good  \n",
       "1    Low_spent_Large_value_payments  284.62916249607184         Good  \n",
       "2   Low_spent_Medium_value_payments   331.2098628537912         Good  \n",
       "3    Low_spent_Small_value_payments  223.45130972736786         Good  \n",
       "4  High_spent_Medium_value_payments  341.48923103222177         Good  \n",
       "\n",
       "[5 rows x 28 columns]"
      ]
     },
     "execution_count": 3,
     "metadata": {},
     "output_type": "execute_result"
    }
   ],
   "source": [
    "df.head()"
   ]
  },
  {
   "cell_type": "code",
   "execution_count": 4,
   "id": "f5d45765",
   "metadata": {
    "scrolled": true
   },
   "outputs": [
    {
     "name": "stdout",
     "output_type": "stream",
     "text": [
      "<class 'pandas.core.frame.DataFrame'>\n",
      "RangeIndex: 100000 entries, 0 to 99999\n",
      "Data columns (total 28 columns):\n",
      " #   Column                    Non-Null Count   Dtype  \n",
      "---  ------                    --------------   -----  \n",
      " 0   ID                        100000 non-null  object \n",
      " 1   Customer_ID               100000 non-null  object \n",
      " 2   Month                     100000 non-null  object \n",
      " 3   Name                      90015 non-null   object \n",
      " 4   Age                       100000 non-null  object \n",
      " 5   SSN                       100000 non-null  object \n",
      " 6   Occupation                100000 non-null  object \n",
      " 7   Annual_Income             100000 non-null  object \n",
      " 8   Monthly_Inhand_Salary     84998 non-null   float64\n",
      " 9   Num_Bank_Accounts         100000 non-null  int64  \n",
      " 10  Num_Credit_Card           100000 non-null  int64  \n",
      " 11  Interest_Rate             100000 non-null  int64  \n",
      " 12  Num_of_Loan               100000 non-null  object \n",
      " 13  Type_of_Loan              88592 non-null   object \n",
      " 14  Delay_from_due_date       100000 non-null  int64  \n",
      " 15  Num_of_Delayed_Payment    92998 non-null   object \n",
      " 16  Changed_Credit_Limit      100000 non-null  object \n",
      " 17  Num_Credit_Inquiries      98035 non-null   float64\n",
      " 18  Credit_Mix                100000 non-null  object \n",
      " 19  Outstanding_Debt          100000 non-null  object \n",
      " 20  Credit_Utilization_Ratio  100000 non-null  float64\n",
      " 21  Credit_History_Age        90970 non-null   object \n",
      " 22  Payment_of_Min_Amount     100000 non-null  object \n",
      " 23  Total_EMI_per_month       100000 non-null  float64\n",
      " 24  Amount_invested_monthly   95521 non-null   object \n",
      " 25  Payment_Behaviour         100000 non-null  object \n",
      " 26  Monthly_Balance           98800 non-null   object \n",
      " 27  Credit_Score              100000 non-null  object \n",
      "dtypes: float64(4), int64(4), object(20)\n",
      "memory usage: 21.4+ MB\n"
     ]
    }
   ],
   "source": [
    "df.info()"
   ]
  },
  {
   "cell_type": "code",
   "execution_count": 5,
   "id": "277da765",
   "metadata": {},
   "outputs": [],
   "source": [
    "#Drop unnecessary Columns\n",
    "df.drop(['ID','Name','SSN','Customer_ID','Changed_Credit_Limit','Occupation','Total_EMI_per_month','Payment_Behaviour','Type_of_Loan'],inplace=True, axis=1)"
   ]
  },
  {
   "cell_type": "code",
   "execution_count": 6,
   "id": "1e59cd3a",
   "metadata": {
    "scrolled": false
   },
   "outputs": [
    {
     "name": "stdout",
     "output_type": "stream",
     "text": [
      "<class 'pandas.core.frame.DataFrame'>\n",
      "RangeIndex: 100000 entries, 0 to 99999\n",
      "Data columns (total 19 columns):\n",
      " #   Column                    Non-Null Count   Dtype  \n",
      "---  ------                    --------------   -----  \n",
      " 0   Month                     100000 non-null  object \n",
      " 1   Age                       100000 non-null  object \n",
      " 2   Annual_Income             100000 non-null  object \n",
      " 3   Monthly_Inhand_Salary     84998 non-null   float64\n",
      " 4   Num_Bank_Accounts         100000 non-null  int64  \n",
      " 5   Num_Credit_Card           100000 non-null  int64  \n",
      " 6   Interest_Rate             100000 non-null  int64  \n",
      " 7   Num_of_Loan               100000 non-null  object \n",
      " 8   Delay_from_due_date       100000 non-null  int64  \n",
      " 9   Num_of_Delayed_Payment    92998 non-null   object \n",
      " 10  Num_Credit_Inquiries      98035 non-null   float64\n",
      " 11  Credit_Mix                100000 non-null  object \n",
      " 12  Outstanding_Debt          100000 non-null  object \n",
      " 13  Credit_Utilization_Ratio  100000 non-null  float64\n",
      " 14  Credit_History_Age        90970 non-null   object \n",
      " 15  Payment_of_Min_Amount     100000 non-null  object \n",
      " 16  Amount_invested_monthly   95521 non-null   object \n",
      " 17  Monthly_Balance           98800 non-null   object \n",
      " 18  Credit_Score              100000 non-null  object \n",
      "dtypes: float64(3), int64(4), object(12)\n",
      "memory usage: 14.5+ MB\n"
     ]
    }
   ],
   "source": [
    "df.info()"
   ]
  },
  {
   "cell_type": "markdown",
   "id": "32835400",
   "metadata": {},
   "source": [
    "# Changing column types, removing special characters, removing outliers"
   ]
  },
  {
   "cell_type": "code",
   "execution_count": 7,
   "id": "ab657b3a",
   "metadata": {},
   "outputs": [
    {
     "data": {
      "text/plain": [
       "January     12500\n",
       "February    12500\n",
       "March       12500\n",
       "April       12500\n",
       "May         12500\n",
       "June        12500\n",
       "July        12500\n",
       "August      12500\n",
       "Name: Month, dtype: int64"
      ]
     },
     "execution_count": 7,
     "metadata": {},
     "output_type": "execute_result"
    }
   ],
   "source": [
    "df['Month'].value_counts()"
   ]
  },
  {
   "cell_type": "code",
   "execution_count": 8,
   "id": "b256aeb9",
   "metadata": {},
   "outputs": [],
   "source": [
    "#Get rid of underscores characters in Age\n",
    "df['Age'] = df.Age.str.replace('_','')"
   ]
  },
  {
   "cell_type": "code",
   "execution_count": 9,
   "id": "036c52a0",
   "metadata": {},
   "outputs": [],
   "source": [
    "#Change age type to a float\n",
    "df['Age'] = df.Age.astype(float)"
   ]
  },
  {
   "cell_type": "code",
   "execution_count": 10,
   "id": "6922d2ef",
   "metadata": {
    "scrolled": true
   },
   "outputs": [
    {
     "data": {
      "text/plain": [
       "38.0      2994\n",
       "28.0      2968\n",
       "31.0      2955\n",
       "26.0      2945\n",
       "32.0      2884\n",
       "          ... \n",
       "1908.0       1\n",
       "4583.0       1\n",
       "7549.0       1\n",
       "3119.0       1\n",
       "1342.0       1\n",
       "Name: Age, Length: 1728, dtype: int64"
      ]
     },
     "execution_count": 10,
     "metadata": {},
     "output_type": "execute_result"
    }
   ],
   "source": [
    "df.Age.value_counts()"
   ]
  },
  {
   "cell_type": "code",
   "execution_count": 11,
   "id": "8bbd301e",
   "metadata": {
    "scrolled": true
   },
   "outputs": [
    {
     "data": {
      "text/plain": [
       "<AxesSubplot:xlabel='Age'>"
      ]
     },
     "execution_count": 11,
     "metadata": {},
     "output_type": "execute_result"
    },
    {
     "data": {
      "image/png": "[encoded data removed]",
      "text/plain": [
       "<Figure size 432x288 with 1 Axes>"
      ]
     },
     "metadata": {
      "needs_background": "light"
     },
     "output_type": "display_data"
    }
   ],
   "source": [
    "sns.boxplot(df['Age'])"
   ]
  },
  {
   "cell_type": "code",
   "execution_count": 12,
   "id": "3f999a87",
   "metadata": {},
   "outputs": [],
   "source": [
    "percentile25 = df['Age'].quantile(0.25)\n",
    "percentile75 = df['Age'].quantile(0.75)\n",
    "iqr = percentile75 - percentile25\n",
    "upper_limit = percentile75 + 1.5 * iqr\n",
    "lower_limit = percentile25 - 1.5 * iqr"
   ]
  },
  {
   "cell_type": "code",
   "execution_count": 13,
   "id": "7298bc6c",
   "metadata": {},
   "outputs": [],
   "source": [
    "#Filter out extreme age outliers\n",
    "df = df.loc[(df['Age'] > lower_limit) & (df['Age'] < upper_limit)]"
   ]
  },
  {
   "cell_type": "code",
   "execution_count": 14,
   "id": "b36bc908",
   "metadata": {},
   "outputs": [
    {
     "data": {
      "text/plain": [
       "<AxesSubplot:xlabel='Age'>"
      ]
     },
     "execution_count": 14,
     "metadata": {},
     "output_type": "execute_result"
    },
    {
     "data": {
      "image/png": "[encoded data removed]",
      "text/plain": [
       "<Figure size 432x288 with 1 Axes>"
      ]
     },
     "metadata": {
      "needs_background": "light"
     },
     "output_type": "display_data"
    }
   ],
   "source": [
    "#visual to see if outliers have been filtered\n",
    "\n",
    "sns.boxplot(df['Age'])"
   ]
  },
  {
   "cell_type": "code",
   "execution_count": 15,
   "id": "cd59ac28",
   "metadata": {},
   "outputs": [
    {
     "name": "stdout",
     "output_type": "stream",
     "text": [
      "<class 'pandas.core.frame.DataFrame'>\n",
      "Int64Index: 97219 entries, 0 to 99999\n",
      "Data columns (total 19 columns):\n",
      " #   Column                    Non-Null Count  Dtype  \n",
      "---  ------                    --------------  -----  \n",
      " 0   Month                     97219 non-null  object \n",
      " 1   Age                       97219 non-null  float64\n",
      " 2   Annual_Income             97219 non-null  object \n",
      " 3   Monthly_Inhand_Salary     82623 non-null  float64\n",
      " 4   Num_Bank_Accounts         97219 non-null  int64  \n",
      " 5   Num_Credit_Card           97219 non-null  int64  \n",
      " 6   Interest_Rate             97219 non-null  int64  \n",
      " 7   Num_of_Loan               97219 non-null  object \n",
      " 8   Delay_from_due_date       97219 non-null  int64  \n",
      " 9   Num_of_Delayed_Payment    90395 non-null  object \n",
      " 10  Num_Credit_Inquiries      95313 non-null  float64\n",
      " 11  Credit_Mix                97219 non-null  object \n",
      " 12  Outstanding_Debt          97219 non-null  object \n",
      " 13  Credit_Utilization_Ratio  97219 non-null  float64\n",
      " 14  Credit_History_Age        88428 non-null  object \n",
      " 15  Payment_of_Min_Amount     97219 non-null  object \n",
      " 16  Amount_invested_monthly   92875 non-null  object \n",
      " 17  Monthly_Balance           96040 non-null  object \n",
      " 18  Credit_Score              97219 non-null  object \n",
      "dtypes: float64(4), int64(4), object(11)\n",
      "memory usage: 14.8+ MB\n"
     ]
    }
   ],
   "source": [
    "df.info()"
   ]
  },
  {
   "cell_type": "code",
   "execution_count": 16,
   "id": "305c6dba",
   "metadata": {},
   "outputs": [],
   "source": [
    "#Get rid of underscores\n",
    "df['Annual_Income'] = df.Annual_Income.str.replace('_','')"
   ]
  },
  {
   "cell_type": "code",
   "execution_count": 17,
   "id": "8e3acc9e",
   "metadata": {},
   "outputs": [],
   "source": [
    "#Change type to a float \n",
    "df['Annual_Income'] = df.Annual_Income.astype(float)"
   ]
  },
  {
   "cell_type": "code",
   "execution_count": 18,
   "id": "af3a8cd8",
   "metadata": {
    "scrolled": true
   },
   "outputs": [
    {
     "data": {
      "text/plain": [
       "<AxesSubplot:xlabel='Annual_Income'>"
      ]
     },
     "execution_count": 18,
     "metadata": {},
     "output_type": "execute_result"
    },
    {
     "data": {
      "image/png": "[encoded data removed]",
      "text/plain": [
       "<Figure size 432x288 with 1 Axes>"
      ]
     },
     "metadata": {
      "needs_background": "light"
     },
     "output_type": "display_data"
    }
   ],
   "source": [
    "#Before filter boxplot\n",
    "sns.boxplot(df['Annual_Income'])"
   ]
  },
  {
   "cell_type": "code",
   "execution_count": 19,
   "id": "ea8fee78",
   "metadata": {},
   "outputs": [],
   "source": [
    "percentile25 = df['Annual_Income'].quantile(0.25)\n",
    "percentile75 = df['Annual_Income'].quantile(0.75)\n",
    "iqr = percentile75 - percentile25\n",
    "upper_limit = percentile75 + 1.5 * iqr\n",
    "lower_limit = percentile25 - 1.5 * iqr"
   ]
  },
  {
   "cell_type": "code",
   "execution_count": 20,
   "id": "5e3dd04f",
   "metadata": {},
   "outputs": [],
   "source": [
    "#Filter out annual income extreme outliers\n",
    "df = df.loc[(df['Annual_Income'] > lower_limit) & (df['Annual_Income'] < upper_limit)]"
   ]
  },
  {
   "cell_type": "code",
   "execution_count": 21,
   "id": "3891461c",
   "metadata": {},
   "outputs": [
    {
     "data": {
      "text/plain": [
       "<AxesSubplot:xlabel='Annual_Income'>"
      ]
     },
     "execution_count": 21,
     "metadata": {},
     "output_type": "execute_result"
    },
    {
     "data": {
      "image/png": "[encoded data removed]",
      "text/plain": [
       "<Figure size 432x288 with 1 Axes>"
      ]
     },
     "metadata": {
      "needs_background": "light"
     },
     "output_type": "display_data"
    }
   ],
   "source": [
    "#After filter boxplot\n",
    "sns.boxplot(df['Annual_Income'])"
   ]
  },
  {
   "cell_type": "code",
   "execution_count": 22,
   "id": "1e332c6e",
   "metadata": {},
   "outputs": [
    {
     "name": "stdout",
     "output_type": "stream",
     "text": [
      "<class 'pandas.core.frame.DataFrame'>\n",
      "Int64Index: 94520 entries, 0 to 99999\n",
      "Data columns (total 19 columns):\n",
      " #   Column                    Non-Null Count  Dtype  \n",
      "---  ------                    --------------  -----  \n",
      " 0   Month                     94520 non-null  object \n",
      " 1   Age                       94520 non-null  float64\n",
      " 2   Annual_Income             94520 non-null  float64\n",
      " 3   Monthly_Inhand_Salary     80354 non-null  float64\n",
      " 4   Num_Bank_Accounts         94520 non-null  int64  \n",
      " 5   Num_Credit_Card           94520 non-null  int64  \n",
      " 6   Interest_Rate             94520 non-null  int64  \n",
      " 7   Num_of_Loan               94520 non-null  object \n",
      " 8   Delay_from_due_date       94520 non-null  int64  \n",
      " 9   Num_of_Delayed_Payment    87887 non-null  object \n",
      " 10  Num_Credit_Inquiries      92665 non-null  float64\n",
      " 11  Credit_Mix                94520 non-null  object \n",
      " 12  Outstanding_Debt          94520 non-null  object \n",
      " 13  Credit_Utilization_Ratio  94520 non-null  float64\n",
      " 14  Credit_History_Age        85959 non-null  object \n",
      " 15  Payment_of_Min_Amount     94520 non-null  object \n",
      " 16  Amount_invested_monthly   90308 non-null  object \n",
      " 17  Monthly_Balance           93433 non-null  object \n",
      " 18  Credit_Score              94520 non-null  object \n",
      "dtypes: float64(5), int64(4), object(10)\n",
      "memory usage: 14.4+ MB\n"
     ]
    }
   ],
   "source": [
    "df.info()"
   ]
  },
  {
   "cell_type": "code",
   "execution_count": 23,
   "id": "d2136c6f",
   "metadata": {
    "scrolled": true
   },
   "outputs": [
    {
     "data": {
      "text/plain": [
       "6082.187500     15\n",
       "6769.130000     15\n",
       "2295.058333     15\n",
       "3080.555000     14\n",
       "5766.491667     13\n",
       "                ..\n",
       "10018.500000     1\n",
       "7545.800911      1\n",
       "6450.393333      1\n",
       "3102.778454      1\n",
       "3304.807427      1\n",
       "Name: Monthly_Inhand_Salary, Length: 12990, dtype: int64"
      ]
     },
     "execution_count": 23,
     "metadata": {},
     "output_type": "execute_result"
    }
   ],
   "source": [
    "df.Monthly_Inhand_Salary.value_counts()"
   ]
  },
  {
   "cell_type": "code",
   "execution_count": 24,
   "id": "2a042977",
   "metadata": {},
   "outputs": [
    {
     "data": {
      "text/plain": [
       "<AxesSubplot:xlabel='Monthly_Inhand_Salary'>"
      ]
     },
     "execution_count": 24,
     "metadata": {},
     "output_type": "execute_result"
    },
    {
     "data": {
      "image/png": "[encoded data removed]",
      "text/plain": [
       "<Figure size 432x288 with 1 Axes>"
      ]
     },
     "metadata": {
      "needs_background": "light"
     },
     "output_type": "display_data"
    }
   ],
   "source": [
    "#Before filter boxplot\n",
    "sns.boxplot(df['Monthly_Inhand_Salary'])"
   ]
  },
  {
   "cell_type": "code",
   "execution_count": 25,
   "id": "85f8da97",
   "metadata": {},
   "outputs": [],
   "source": [
    "percentile25 = df['Monthly_Inhand_Salary'].quantile(0.25)\n",
    "percentile75 = df['Monthly_Inhand_Salary'].quantile(0.75)\n",
    "iqr = percentile75 - percentile25\n",
    "upper_limit = percentile75 + 1.5 * iqr\n",
    "lower_limit = percentile25 - 1.5 * iqr"
   ]
  },
  {
   "cell_type": "code",
   "execution_count": 26,
   "id": "98c656b6",
   "metadata": {},
   "outputs": [],
   "source": [
    "df = df.loc[(df['Monthly_Inhand_Salary'] > lower_limit) & (df['Monthly_Inhand_Salary'] < upper_limit)]"
   ]
  },
  {
   "cell_type": "code",
   "execution_count": 27,
   "id": "19f5c069",
   "metadata": {},
   "outputs": [
    {
     "data": {
      "text/plain": [
       "<AxesSubplot:xlabel='Monthly_Inhand_Salary'>"
      ]
     },
     "execution_count": 27,
     "metadata": {},
     "output_type": "execute_result"
    },
    {
     "data": {
      "image/png": "[encoded data removed]",
      "text/plain": [
       "<Figure size 432x288 with 1 Axes>"
      ]
     },
     "metadata": {
      "needs_background": "light"
     },
     "output_type": "display_data"
    }
   ],
   "source": [
    "#after filter boxplot\n",
    "sns.boxplot(df['Monthly_Inhand_Salary'])"
   ]
  },
  {
   "cell_type": "code",
   "execution_count": 28,
   "id": "00e75ee3",
   "metadata": {},
   "outputs": [
    {
     "name": "stdout",
     "output_type": "stream",
     "text": [
      "<class 'pandas.core.frame.DataFrame'>\n",
      "Int64Index: 79765 entries, 0 to 99999\n",
      "Data columns (total 19 columns):\n",
      " #   Column                    Non-Null Count  Dtype  \n",
      "---  ------                    --------------  -----  \n",
      " 0   Month                     79765 non-null  object \n",
      " 1   Age                       79765 non-null  float64\n",
      " 2   Annual_Income             79765 non-null  float64\n",
      " 3   Monthly_Inhand_Salary     79765 non-null  float64\n",
      " 4   Num_Bank_Accounts         79765 non-null  int64  \n",
      " 5   Num_Credit_Card           79765 non-null  int64  \n",
      " 6   Interest_Rate             79765 non-null  int64  \n",
      " 7   Num_of_Loan               79765 non-null  object \n",
      " 8   Delay_from_due_date       79765 non-null  int64  \n",
      " 9   Num_of_Delayed_Payment    74149 non-null  object \n",
      " 10  Num_Credit_Inquiries      78186 non-null  float64\n",
      " 11  Credit_Mix                79765 non-null  object \n",
      " 12  Outstanding_Debt          79765 non-null  object \n",
      " 13  Credit_Utilization_Ratio  79765 non-null  float64\n",
      " 14  Credit_History_Age        72510 non-null  object \n",
      " 15  Payment_of_Min_Amount     79765 non-null  object \n",
      " 16  Amount_invested_monthly   76245 non-null  object \n",
      " 17  Monthly_Balance           78848 non-null  object \n",
      " 18  Credit_Score              79765 non-null  object \n",
      "dtypes: float64(5), int64(4), object(10)\n",
      "memory usage: 12.2+ MB\n"
     ]
    }
   ],
   "source": [
    "df.info()"
   ]
  },
  {
   "cell_type": "code",
   "execution_count": 29,
   "id": "03a96462",
   "metadata": {},
   "outputs": [
    {
     "data": {
      "text/plain": [
       "6       10672\n",
       "7       10518\n",
       "8       10408\n",
       "4        9621\n",
       "5        9565\n",
       "        ...  \n",
       "583         1\n",
       "374         1\n",
       "1695        1\n",
       "274         1\n",
       "697         1\n",
       "Name: Num_Bank_Accounts, Length: 808, dtype: int64"
      ]
     },
     "execution_count": 29,
     "metadata": {},
     "output_type": "execute_result"
    }
   ],
   "source": [
    "df.Num_Bank_Accounts.value_counts()"
   ]
  },
  {
   "cell_type": "code",
   "execution_count": 30,
   "id": "582742c5",
   "metadata": {},
   "outputs": [
    {
     "data": {
      "text/plain": [
       "<AxesSubplot:xlabel='Num_Bank_Accounts'>"
      ]
     },
     "execution_count": 30,
     "metadata": {},
     "output_type": "execute_result"
    },
    {
     "data": {
      "image/png": "[encoded data removed]",
      "text/plain": [
       "<Figure size 432x288 with 1 Axes>"
      ]
     },
     "metadata": {
      "needs_background": "light"
     },
     "output_type": "display_data"
    }
   ],
   "source": [
    "sns.boxplot(df['Num_Bank_Accounts'])"
   ]
  },
  {
   "cell_type": "code",
   "execution_count": 31,
   "id": "6ce16fed",
   "metadata": {},
   "outputs": [],
   "source": [
    "percentile25 = df['Num_Bank_Accounts'].quantile(0.25)\n",
    "percentile75 = df['Num_Bank_Accounts'].quantile(0.75)\n",
    "iqr = percentile75 - percentile25\n",
    "upper_limit = percentile75 + 1.5 * iqr\n",
    "lower_limit = percentile25 - 1.5 * iqr"
   ]
  },
  {
   "cell_type": "code",
   "execution_count": 32,
   "id": "3ab7764a",
   "metadata": {},
   "outputs": [],
   "source": [
    "df = df.loc[(df['Num_Bank_Accounts'] > 0) & (df['Num_Bank_Accounts'] < upper_limit)]"
   ]
  },
  {
   "cell_type": "code",
   "execution_count": 33,
   "id": "0bf4b6b9",
   "metadata": {},
   "outputs": [
    {
     "data": {
      "text/plain": [
       "<AxesSubplot:xlabel='Num_Bank_Accounts'>"
      ]
     },
     "execution_count": 33,
     "metadata": {},
     "output_type": "execute_result"
    },
    {
     "data": {
      "image/png": "[encoded data removed]",
      "text/plain": [
       "<Figure size 432x288 with 1 Axes>"
      ]
     },
     "metadata": {
      "needs_background": "light"
     },
     "output_type": "display_data"
    }
   ],
   "source": [
    "sns.boxplot(df['Num_Bank_Accounts'])"
   ]
  },
  {
   "cell_type": "code",
   "execution_count": 34,
   "id": "599859ff",
   "metadata": {},
   "outputs": [
    {
     "name": "stdout",
     "output_type": "stream",
     "text": [
      "<class 'pandas.core.frame.DataFrame'>\n",
      "Int64Index: 75418 entries, 0 to 99999\n",
      "Data columns (total 19 columns):\n",
      " #   Column                    Non-Null Count  Dtype  \n",
      "---  ------                    --------------  -----  \n",
      " 0   Month                     75418 non-null  object \n",
      " 1   Age                       75418 non-null  float64\n",
      " 2   Annual_Income             75418 non-null  float64\n",
      " 3   Monthly_Inhand_Salary     75418 non-null  float64\n",
      " 4   Num_Bank_Accounts         75418 non-null  int64  \n",
      " 5   Num_Credit_Card           75418 non-null  int64  \n",
      " 6   Interest_Rate             75418 non-null  int64  \n",
      " 7   Num_of_Loan               75418 non-null  object \n",
      " 8   Delay_from_due_date       75418 non-null  int64  \n",
      " 9   Num_of_Delayed_Payment    70138 non-null  object \n",
      " 10  Num_Credit_Inquiries      73920 non-null  float64\n",
      " 11  Credit_Mix                75418 non-null  object \n",
      " 12  Outstanding_Debt          75418 non-null  object \n",
      " 13  Credit_Utilization_Ratio  75418 non-null  float64\n",
      " 14  Credit_History_Age        68544 non-null  object \n",
      " 15  Payment_of_Min_Amount     75418 non-null  object \n",
      " 16  Amount_invested_monthly   72103 non-null  object \n",
      " 17  Monthly_Balance           74544 non-null  object \n",
      " 18  Credit_Score              75418 non-null  object \n",
      "dtypes: float64(5), int64(4), object(10)\n",
      "memory usage: 11.5+ MB\n"
     ]
    }
   ],
   "source": [
    "df.info()"
   ]
  },
  {
   "cell_type": "code",
   "execution_count": 35,
   "id": "cc560026",
   "metadata": {},
   "outputs": [
    {
     "data": {
      "text/plain": [
       "5       13689\n",
       "6       12820\n",
       "7       12730\n",
       "4       10334\n",
       "3        9725\n",
       "        ...  \n",
       "175         1\n",
       "693         1\n",
       "1114        1\n",
       "360         1\n",
       "679         1\n",
       "Name: Num_Credit_Card, Length: 1042, dtype: int64"
      ]
     },
     "execution_count": 35,
     "metadata": {},
     "output_type": "execute_result"
    }
   ],
   "source": [
    "df.Num_Credit_Card.value_counts()"
   ]
  },
  {
   "cell_type": "code",
   "execution_count": 36,
   "id": "bd7ce79d",
   "metadata": {},
   "outputs": [
    {
     "data": {
      "text/plain": [
       "<AxesSubplot:xlabel='Num_Credit_Card'>"
      ]
     },
     "execution_count": 36,
     "metadata": {},
     "output_type": "execute_result"
    },
    {
     "data": {
      "image/png": "[encoded data removed]",
      "text/plain": [
       "<Figure size 432x288 with 1 Axes>"
      ]
     },
     "metadata": {
      "needs_background": "light"
     },
     "output_type": "display_data"
    }
   ],
   "source": [
    "sns.boxplot(df['Num_Credit_Card'])"
   ]
  },
  {
   "cell_type": "code",
   "execution_count": 37,
   "id": "57567166",
   "metadata": {},
   "outputs": [],
   "source": [
    "percentile25 = df['Num_Credit_Card'].quantile(0.25)\n",
    "percentile75 = df['Num_Credit_Card'].quantile(0.75)\n",
    "iqr = percentile75 - percentile25\n",
    "upper_limit = percentile75 + 1.5 * iqr\n",
    "lower_limit = percentile25 - 1.5 * iqr"
   ]
  },
  {
   "cell_type": "code",
   "execution_count": 38,
   "id": "5869d7c4",
   "metadata": {},
   "outputs": [],
   "source": [
    "df = df.loc[(df['Num_Credit_Card'] > lower_limit) & (df['Num_Credit_Card'] < upper_limit)]"
   ]
  },
  {
   "cell_type": "code",
   "execution_count": 39,
   "id": "a5a60e22",
   "metadata": {},
   "outputs": [
    {
     "data": {
      "text/plain": [
       "<AxesSubplot:xlabel='Num_Credit_Card'>"
      ]
     },
     "execution_count": 39,
     "metadata": {},
     "output_type": "execute_result"
    },
    {
     "data": {
      "image/png": "[encoded data removed]",
      "text/plain": [
       "<Figure size 432x288 with 1 Axes>"
      ]
     },
     "metadata": {
      "needs_background": "light"
     },
     "output_type": "display_data"
    }
   ],
   "source": [
    "sns.boxplot(df['Num_Credit_Card'])"
   ]
  },
  {
   "cell_type": "code",
   "execution_count": 40,
   "id": "5b7b78a8",
   "metadata": {},
   "outputs": [
    {
     "name": "stdout",
     "output_type": "stream",
     "text": [
      "<class 'pandas.core.frame.DataFrame'>\n",
      "Int64Index: 73695 entries, 0 to 99999\n",
      "Data columns (total 19 columns):\n",
      " #   Column                    Non-Null Count  Dtype  \n",
      "---  ------                    --------------  -----  \n",
      " 0   Month                     73695 non-null  object \n",
      " 1   Age                       73695 non-null  float64\n",
      " 2   Annual_Income             73695 non-null  float64\n",
      " 3   Monthly_Inhand_Salary     73695 non-null  float64\n",
      " 4   Num_Bank_Accounts         73695 non-null  int64  \n",
      " 5   Num_Credit_Card           73695 non-null  int64  \n",
      " 6   Interest_Rate             73695 non-null  int64  \n",
      " 7   Num_of_Loan               73695 non-null  object \n",
      " 8   Delay_from_due_date       73695 non-null  int64  \n",
      " 9   Num_of_Delayed_Payment    68535 non-null  object \n",
      " 10  Num_Credit_Inquiries      72233 non-null  float64\n",
      " 11  Credit_Mix                73695 non-null  object \n",
      " 12  Outstanding_Debt          73695 non-null  object \n",
      " 13  Credit_Utilization_Ratio  73695 non-null  float64\n",
      " 14  Credit_History_Age        66942 non-null  object \n",
      " 15  Payment_of_Min_Amount     73695 non-null  object \n",
      " 16  Amount_invested_monthly   70454 non-null  object \n",
      " 17  Monthly_Balance           72839 non-null  object \n",
      " 18  Credit_Score              73695 non-null  object \n",
      "dtypes: float64(5), int64(4), object(10)\n",
      "memory usage: 11.2+ MB\n"
     ]
    }
   ],
   "source": [
    "df.info()"
   ]
  },
  {
   "cell_type": "code",
   "execution_count": 41,
   "id": "027462a2",
   "metadata": {},
   "outputs": [
    {
     "data": {
      "text/plain": [
       "8       3487\n",
       "5       3458\n",
       "6       3276\n",
       "18      3254\n",
       "15      3189\n",
       "        ... \n",
       "967        1\n",
       "3790       1\n",
       "3782       1\n",
       "4337       1\n",
       "5729       1\n",
       "Name: Interest_Rate, Length: 1354, dtype: int64"
      ]
     },
     "execution_count": 41,
     "metadata": {},
     "output_type": "execute_result"
    }
   ],
   "source": [
    "df.Interest_Rate.value_counts()"
   ]
  },
  {
   "cell_type": "code",
   "execution_count": 42,
   "id": "21fc5b77",
   "metadata": {},
   "outputs": [
    {
     "data": {
      "text/plain": [
       "<AxesSubplot:xlabel='Interest_Rate'>"
      ]
     },
     "execution_count": 42,
     "metadata": {},
     "output_type": "execute_result"
    },
    {
     "data": {
      "image/png": "[encoded data removed]",
      "text/plain": [
       "<Figure size 432x288 with 1 Axes>"
      ]
     },
     "metadata": {
      "needs_background": "light"
     },
     "output_type": "display_data"
    }
   ],
   "source": [
    "sns.boxplot(df['Interest_Rate'])"
   ]
  },
  {
   "cell_type": "code",
   "execution_count": 43,
   "id": "6979c6a2",
   "metadata": {},
   "outputs": [],
   "source": [
    "percentile25 = df['Interest_Rate'].quantile(0.25)\n",
    "percentile75 = df['Interest_Rate'].quantile(0.75)\n",
    "iqr = percentile75 - percentile25\n",
    "upper_limit = percentile75 + 1.5 * iqr\n",
    "lower_limit = percentile25 - 1.5 * iqr"
   ]
  },
  {
   "cell_type": "code",
   "execution_count": 44,
   "id": "d71c6f8c",
   "metadata": {},
   "outputs": [],
   "source": [
    "df = df.loc[(df['Interest_Rate'] > lower_limit) & (df['Interest_Rate'] < upper_limit)]"
   ]
  },
  {
   "cell_type": "code",
   "execution_count": 45,
   "id": "3b8abc76",
   "metadata": {},
   "outputs": [
    {
     "data": {
      "text/plain": [
       "<AxesSubplot:xlabel='Interest_Rate'>"
      ]
     },
     "execution_count": 45,
     "metadata": {},
     "output_type": "execute_result"
    },
    {
     "data": {
      "image/png": "[encoded data removed]",
      "text/plain": [
       "<Figure size 432x288 with 1 Axes>"
      ]
     },
     "metadata": {
      "needs_background": "light"
     },
     "output_type": "display_data"
    }
   ],
   "source": [
    "sns.boxplot(df['Interest_Rate'])"
   ]
  },
  {
   "cell_type": "code",
   "execution_count": 46,
   "id": "88e46775",
   "metadata": {},
   "outputs": [
    {
     "name": "stdout",
     "output_type": "stream",
     "text": [
      "<class 'pandas.core.frame.DataFrame'>\n",
      "Int64Index: 72187 entries, 0 to 99999\n",
      "Data columns (total 19 columns):\n",
      " #   Column                    Non-Null Count  Dtype  \n",
      "---  ------                    --------------  -----  \n",
      " 0   Month                     72187 non-null  object \n",
      " 1   Age                       72187 non-null  float64\n",
      " 2   Annual_Income             72187 non-null  float64\n",
      " 3   Monthly_Inhand_Salary     72187 non-null  float64\n",
      " 4   Num_Bank_Accounts         72187 non-null  int64  \n",
      " 5   Num_Credit_Card           72187 non-null  int64  \n",
      " 6   Interest_Rate             72187 non-null  int64  \n",
      " 7   Num_of_Loan               72187 non-null  object \n",
      " 8   Delay_from_due_date       72187 non-null  int64  \n",
      " 9   Num_of_Delayed_Payment    67122 non-null  object \n",
      " 10  Num_Credit_Inquiries      70756 non-null  float64\n",
      " 11  Credit_Mix                72187 non-null  object \n",
      " 12  Outstanding_Debt          72187 non-null  object \n",
      " 13  Credit_Utilization_Ratio  72187 non-null  float64\n",
      " 14  Credit_History_Age        65567 non-null  object \n",
      " 15  Payment_of_Min_Amount     72187 non-null  object \n",
      " 16  Amount_invested_monthly   69001 non-null  object \n",
      " 17  Monthly_Balance           71343 non-null  object \n",
      " 18  Credit_Score              72187 non-null  object \n",
      "dtypes: float64(5), int64(4), object(10)\n",
      "memory usage: 11.0+ MB\n"
     ]
    }
   ],
   "source": [
    "df.info()"
   ]
  },
  {
   "cell_type": "code",
   "execution_count": 47,
   "id": "9324ccf4",
   "metadata": {},
   "outputs": [],
   "source": [
    "df['Num_of_Loan'] = df.Num_of_Loan.str.replace('_','')"
   ]
  },
  {
   "cell_type": "code",
   "execution_count": 48,
   "id": "9cd25c3e",
   "metadata": {},
   "outputs": [],
   "source": [
    "df['Num_of_Loan'] = df.Num_of_Loan.astype(float)"
   ]
  },
  {
   "cell_type": "code",
   "execution_count": 49,
   "id": "e6f836f9",
   "metadata": {},
   "outputs": [
    {
     "data": {
      "text/plain": [
       "<AxesSubplot:xlabel='Num_of_Loan'>"
      ]
     },
     "execution_count": 49,
     "metadata": {},
     "output_type": "execute_result"
    },
    {
     "data": {
      "image/png": "[encoded data removed]",
      "text/plain": [
       "<Figure size 432x288 with 1 Axes>"
      ]
     },
     "metadata": {
      "needs_background": "light"
     },
     "output_type": "display_data"
    }
   ],
   "source": [
    "sns.boxplot(df['Num_of_Loan'])"
   ]
  },
  {
   "cell_type": "code",
   "execution_count": 50,
   "id": "10952e0c",
   "metadata": {},
   "outputs": [],
   "source": [
    "percentile25 = df['Num_of_Loan'].quantile(0.25)\n",
    "percentile75 = df['Num_of_Loan'].quantile(0.75)\n",
    "iqr = percentile75 - percentile25\n",
    "upper_limit = percentile75 + 1.5 * iqr\n",
    "lower_limit = percentile25 - 1.5 * iqr"
   ]
  },
  {
   "cell_type": "code",
   "execution_count": 51,
   "id": "306c86fd",
   "metadata": {},
   "outputs": [],
   "source": [
    "df = df.loc[(df['Num_of_Loan'] > lower_limit) & (df['Num_of_Loan'] < upper_limit)]"
   ]
  },
  {
   "cell_type": "code",
   "execution_count": 52,
   "id": "69e7c795",
   "metadata": {},
   "outputs": [
    {
     "data": {
      "image/png": "[encoded data removed]",
      "text/plain": [
       "<Figure size 432x288 with 1 Axes>"
      ]
     },
     "metadata": {
      "needs_background": "light"
     },
     "output_type": "display_data"
    }
   ],
   "source": [
    "sns.boxplot(df['Num_of_Loan']);"
   ]
  },
  {
   "cell_type": "code",
   "execution_count": 53,
   "id": "2f718af5",
   "metadata": {
    "scrolled": false
   },
   "outputs": [
    {
     "name": "stdout",
     "output_type": "stream",
     "text": [
      "<class 'pandas.core.frame.DataFrame'>\n",
      "Int64Index: 69046 entries, 0 to 99999\n",
      "Data columns (total 19 columns):\n",
      " #   Column                    Non-Null Count  Dtype  \n",
      "---  ------                    --------------  -----  \n",
      " 0   Month                     69046 non-null  object \n",
      " 1   Age                       69046 non-null  float64\n",
      " 2   Annual_Income             69046 non-null  float64\n",
      " 3   Monthly_Inhand_Salary     69046 non-null  float64\n",
      " 4   Num_Bank_Accounts         69046 non-null  int64  \n",
      " 5   Num_Credit_Card           69046 non-null  int64  \n",
      " 6   Interest_Rate             69046 non-null  int64  \n",
      " 7   Num_of_Loan               69046 non-null  float64\n",
      " 8   Delay_from_due_date       69046 non-null  int64  \n",
      " 9   Num_of_Delayed_Payment    64214 non-null  object \n",
      " 10  Num_Credit_Inquiries      67676 non-null  float64\n",
      " 11  Credit_Mix                69046 non-null  object \n",
      " 12  Outstanding_Debt          69046 non-null  object \n",
      " 13  Credit_Utilization_Ratio  69046 non-null  float64\n",
      " 14  Credit_History_Age        62703 non-null  object \n",
      " 15  Payment_of_Min_Amount     69046 non-null  object \n",
      " 16  Amount_invested_monthly   66008 non-null  object \n",
      " 17  Monthly_Balance           68240 non-null  object \n",
      " 18  Credit_Score              69046 non-null  object \n",
      "dtypes: float64(6), int64(4), object(9)\n",
      "memory usage: 10.5+ MB\n"
     ]
    }
   ],
   "source": [
    "df.info()"
   ]
  },
  {
   "cell_type": "code",
   "execution_count": 54,
   "id": "63be3872",
   "metadata": {},
   "outputs": [
    {
     "data": {
      "text/plain": [
       " 15    2424\n",
       " 13    2260\n",
       " 8     2213\n",
       " 14    2186\n",
       " 10    2135\n",
       "       ... \n",
       " 64      43\n",
       "-4       29\n",
       " 66      22\n",
       "-5       20\n",
       " 67      15\n",
       "Name: Delay_from_due_date, Length: 73, dtype: int64"
      ]
     },
     "execution_count": 54,
     "metadata": {},
     "output_type": "execute_result"
    }
   ],
   "source": [
    "df['Delay_from_due_date'].value_counts()"
   ]
  },
  {
   "cell_type": "code",
   "execution_count": null,
   "id": "a8c13010",
   "metadata": {},
   "outputs": [],
   "source": []
  },
  {
   "cell_type": "code",
   "execution_count": 55,
   "id": "2079e21e",
   "metadata": {},
   "outputs": [
    {
     "data": {
      "text/plain": [
       "<AxesSubplot:xlabel='Delay_from_due_date'>"
      ]
     },
     "execution_count": 55,
     "metadata": {},
     "output_type": "execute_result"
    },
    {
     "data": {
      "image/png": "[encoded data removed]",
      "text/plain": [
       "<Figure size 432x288 with 1 Axes>"
      ]
     },
     "metadata": {
      "needs_background": "light"
     },
     "output_type": "display_data"
    }
   ],
   "source": [
    "sns.boxplot(df['Delay_from_due_date'])"
   ]
  },
  {
   "cell_type": "code",
   "execution_count": 56,
   "id": "27ab7aed",
   "metadata": {},
   "outputs": [],
   "source": [
    "percentile25 = df['Delay_from_due_date'].quantile(0.25)\n",
    "percentile75 = df['Delay_from_due_date'].quantile(0.75)\n",
    "iqr = percentile75 - percentile25\n",
    "upper_limit = percentile75 + 1.5 * iqr\n",
    "lower_limit = percentile25 - 1.5 * iqr"
   ]
  },
  {
   "cell_type": "code",
   "execution_count": 57,
   "id": "16f08b77",
   "metadata": {},
   "outputs": [],
   "source": [
    "df = df.loc[(df['Delay_from_due_date'] > 0) & (df['Delay_from_due_date'] < upper_limit)]"
   ]
  },
  {
   "cell_type": "code",
   "execution_count": 58,
   "id": "395cb762",
   "metadata": {},
   "outputs": [
    {
     "data": {
      "text/plain": [
       "<AxesSubplot:xlabel='Delay_from_due_date'>"
      ]
     },
     "execution_count": 58,
     "metadata": {},
     "output_type": "execute_result"
    },
    {
     "data": {
      "image/png": "[encoded data removed]",
      "text/plain": [
       "<Figure size 432x288 with 1 Axes>"
      ]
     },
     "metadata": {
      "needs_background": "light"
     },
     "output_type": "display_data"
    }
   ],
   "source": [
    "sns.boxplot(df['Delay_from_due_date'])"
   ]
  },
  {
   "cell_type": "code",
   "execution_count": 59,
   "id": "9ab91dcb",
   "metadata": {},
   "outputs": [
    {
     "name": "stdout",
     "output_type": "stream",
     "text": [
      "<class 'pandas.core.frame.DataFrame'>\n",
      "Int64Index: 65035 entries, 0 to 99999\n",
      "Data columns (total 19 columns):\n",
      " #   Column                    Non-Null Count  Dtype  \n",
      "---  ------                    --------------  -----  \n",
      " 0   Month                     65035 non-null  object \n",
      " 1   Age                       65035 non-null  float64\n",
      " 2   Annual_Income             65035 non-null  float64\n",
      " 3   Monthly_Inhand_Salary     65035 non-null  float64\n",
      " 4   Num_Bank_Accounts         65035 non-null  int64  \n",
      " 5   Num_Credit_Card           65035 non-null  int64  \n",
      " 6   Interest_Rate             65035 non-null  int64  \n",
      " 7   Num_of_Loan               65035 non-null  float64\n",
      " 8   Delay_from_due_date       65035 non-null  int64  \n",
      " 9   Num_of_Delayed_Payment    60486 non-null  object \n",
      " 10  Num_Credit_Inquiries      63746 non-null  float64\n",
      " 11  Credit_Mix                65035 non-null  object \n",
      " 12  Outstanding_Debt          65035 non-null  object \n",
      " 13  Credit_Utilization_Ratio  65035 non-null  float64\n",
      " 14  Credit_History_Age        59061 non-null  object \n",
      " 15  Payment_of_Min_Amount     65035 non-null  object \n",
      " 16  Amount_invested_monthly   62177 non-null  object \n",
      " 17  Monthly_Balance           64290 non-null  object \n",
      " 18  Credit_Score              65035 non-null  object \n",
      "dtypes: float64(6), int64(4), object(9)\n",
      "memory usage: 9.9+ MB\n"
     ]
    }
   ],
   "source": [
    "df.info()"
   ]
  },
  {
   "cell_type": "code",
   "execution_count": 60,
   "id": "1c4eef2d",
   "metadata": {},
   "outputs": [
    {
     "data": {
      "text/plain": [
       "17      3707\n",
       "19      3625\n",
       "16      3573\n",
       "15      3513\n",
       "18      3493\n",
       "        ... \n",
       "1673       1\n",
       "4024       1\n",
       "52         1\n",
       "742        1\n",
       "221        1\n",
       "Name: Num_of_Delayed_Payment, Length: 511, dtype: int64"
      ]
     },
     "execution_count": 60,
     "metadata": {},
     "output_type": "execute_result"
    }
   ],
   "source": [
    "df['Num_of_Delayed_Payment'].value_counts()"
   ]
  },
  {
   "cell_type": "code",
   "execution_count": 61,
   "id": "719242c3",
   "metadata": {},
   "outputs": [],
   "source": [
    "df['Num_of_Delayed_Payment'] = df.Num_of_Delayed_Payment.str.replace('_','')"
   ]
  },
  {
   "cell_type": "code",
   "execution_count": 62,
   "id": "c5bc854f",
   "metadata": {},
   "outputs": [],
   "source": [
    "df['Num_of_Delayed_Payment'] = df.Num_of_Delayed_Payment.astype(float)"
   ]
  },
  {
   "cell_type": "code",
   "execution_count": 63,
   "id": "82bfc9b6",
   "metadata": {},
   "outputs": [
    {
     "data": {
      "text/plain": [
       "<AxesSubplot:xlabel='Num_of_Delayed_Payment'>"
      ]
     },
     "execution_count": 63,
     "metadata": {},
     "output_type": "execute_result"
    },
    {
     "data": {
      "image/png": "[encoded data removed]",
      "text/plain": [
       "<Figure size 432x288 with 1 Axes>"
      ]
     },
     "metadata": {
      "needs_background": "light"
     },
     "output_type": "display_data"
    }
   ],
   "source": [
    "sns.boxplot(df['Num_of_Delayed_Payment'])"
   ]
  },
  {
   "cell_type": "code",
   "execution_count": 64,
   "id": "72428180",
   "metadata": {},
   "outputs": [],
   "source": [
    "percentile25 = df['Num_of_Delayed_Payment'].quantile(0.25)\n",
    "percentile75 = df['Num_of_Delayed_Payment'].quantile(0.75)\n",
    "iqr = percentile75 - percentile25\n",
    "upper_limit = percentile75 + 1.5 * iqr\n",
    "lower_limit = percentile25 - 1.5 * iqr"
   ]
  },
  {
   "cell_type": "code",
   "execution_count": 65,
   "id": "be3b3c83",
   "metadata": {},
   "outputs": [],
   "source": [
    "df = df.loc[(df['Num_of_Delayed_Payment'] > lower_limit) & (df['Num_of_Delayed_Payment'] < upper_limit)]"
   ]
  },
  {
   "cell_type": "code",
   "execution_count": 66,
   "id": "c64b6b9c",
   "metadata": {},
   "outputs": [
    {
     "data": {
      "text/plain": [
       "<AxesSubplot:xlabel='Num_of_Delayed_Payment'>"
      ]
     },
     "execution_count": 66,
     "metadata": {},
     "output_type": "execute_result"
    },
    {
     "data": {
      "image/png": "[encoded data removed]",
      "text/plain": [
       "<Figure size 432x288 with 1 Axes>"
      ]
     },
     "metadata": {
      "needs_background": "light"
     },
     "output_type": "display_data"
    }
   ],
   "source": [
    "sns.boxplot(df['Num_of_Delayed_Payment'])"
   ]
  },
  {
   "cell_type": "code",
   "execution_count": 67,
   "id": "c8e38c28",
   "metadata": {
    "scrolled": true
   },
   "outputs": [
    {
     "name": "stdout",
     "output_type": "stream",
     "text": [
      "<class 'pandas.core.frame.DataFrame'>\n",
      "Int64Index: 59841 entries, 0 to 99999\n",
      "Data columns (total 19 columns):\n",
      " #   Column                    Non-Null Count  Dtype  \n",
      "---  ------                    --------------  -----  \n",
      " 0   Month                     59841 non-null  object \n",
      " 1   Age                       59841 non-null  float64\n",
      " 2   Annual_Income             59841 non-null  float64\n",
      " 3   Monthly_Inhand_Salary     59841 non-null  float64\n",
      " 4   Num_Bank_Accounts         59841 non-null  int64  \n",
      " 5   Num_Credit_Card           59841 non-null  int64  \n",
      " 6   Interest_Rate             59841 non-null  int64  \n",
      " 7   Num_of_Loan               59841 non-null  float64\n",
      " 8   Delay_from_due_date       59841 non-null  int64  \n",
      " 9   Num_of_Delayed_Payment    59841 non-null  float64\n",
      " 10  Num_Credit_Inquiries      58656 non-null  float64\n",
      " 11  Credit_Mix                59841 non-null  object \n",
      " 12  Outstanding_Debt          59841 non-null  object \n",
      " 13  Credit_Utilization_Ratio  59841 non-null  float64\n",
      " 14  Credit_History_Age        54364 non-null  object \n",
      " 15  Payment_of_Min_Amount     59841 non-null  object \n",
      " 16  Amount_invested_monthly   57208 non-null  object \n",
      " 17  Monthly_Balance           59160 non-null  object \n",
      " 18  Credit_Score              59841 non-null  object \n",
      "dtypes: float64(7), int64(4), object(8)\n",
      "memory usage: 9.1+ MB\n"
     ]
    }
   ],
   "source": [
    "df.info()"
   ]
  },
  {
   "cell_type": "code",
   "execution_count": 68,
   "id": "2334d56e",
   "metadata": {},
   "outputs": [],
   "source": [
    "df['Credit_Mix'] = df.Credit_Mix.str.replace('_','other')"
   ]
  },
  {
   "cell_type": "code",
   "execution_count": 69,
   "id": "3973a4d9",
   "metadata": {},
   "outputs": [
    {
     "data": {
      "text/plain": [
       "Standard    24491\n",
       "Good        12165\n",
       "other       12107\n",
       "Bad         11078\n",
       "Name: Credit_Mix, dtype: int64"
      ]
     },
     "execution_count": 69,
     "metadata": {},
     "output_type": "execute_result"
    }
   ],
   "source": [
    "df['Credit_Mix'].value_counts()"
   ]
  },
  {
   "cell_type": "code",
   "execution_count": 70,
   "id": "5069e65c",
   "metadata": {},
   "outputs": [
    {
     "name": "stdout",
     "output_type": "stream",
     "text": [
      "<class 'pandas.core.frame.DataFrame'>\n",
      "Int64Index: 59841 entries, 0 to 99999\n",
      "Data columns (total 19 columns):\n",
      " #   Column                    Non-Null Count  Dtype  \n",
      "---  ------                    --------------  -----  \n",
      " 0   Month                     59841 non-null  object \n",
      " 1   Age                       59841 non-null  float64\n",
      " 2   Annual_Income             59841 non-null  float64\n",
      " 3   Monthly_Inhand_Salary     59841 non-null  float64\n",
      " 4   Num_Bank_Accounts         59841 non-null  int64  \n",
      " 5   Num_Credit_Card           59841 non-null  int64  \n",
      " 6   Interest_Rate             59841 non-null  int64  \n",
      " 7   Num_of_Loan               59841 non-null  float64\n",
      " 8   Delay_from_due_date       59841 non-null  int64  \n",
      " 9   Num_of_Delayed_Payment    59841 non-null  float64\n",
      " 10  Num_Credit_Inquiries      58656 non-null  float64\n",
      " 11  Credit_Mix                59841 non-null  object \n",
      " 12  Outstanding_Debt          59841 non-null  object \n",
      " 13  Credit_Utilization_Ratio  59841 non-null  float64\n",
      " 14  Credit_History_Age        54364 non-null  object \n",
      " 15  Payment_of_Min_Amount     59841 non-null  object \n",
      " 16  Amount_invested_monthly   57208 non-null  object \n",
      " 17  Monthly_Balance           59160 non-null  object \n",
      " 18  Credit_Score              59841 non-null  object \n",
      "dtypes: float64(7), int64(4), object(8)\n",
      "memory usage: 9.1+ MB\n"
     ]
    }
   ],
   "source": [
    "df.info()"
   ]
  },
  {
   "cell_type": "code",
   "execution_count": 71,
   "id": "a8c581aa",
   "metadata": {},
   "outputs": [],
   "source": [
    "df['Outstanding_Debt'] = df.Outstanding_Debt.str.replace('_','')"
   ]
  },
  {
   "cell_type": "code",
   "execution_count": 72,
   "id": "e9b7c205",
   "metadata": {},
   "outputs": [],
   "source": [
    "df['Outstanding_Debt'] = df.Outstanding_Debt.astype(float)"
   ]
  },
  {
   "cell_type": "code",
   "execution_count": 73,
   "id": "0f7f032d",
   "metadata": {},
   "outputs": [
    {
     "data": {
      "text/plain": [
       "460.46     18\n",
       "1344.45    15\n",
       "557.78     15\n",
       "953.75     15\n",
       "832.55     15\n",
       "           ..\n",
       "2585.96     1\n",
       "2221.29     1\n",
       "181.80      1\n",
       "1680.63     1\n",
       "3695.47     1\n",
       "Name: Outstanding_Debt, Length: 11008, dtype: int64"
      ]
     },
     "execution_count": 73,
     "metadata": {},
     "output_type": "execute_result"
    }
   ],
   "source": [
    "df['Outstanding_Debt'].value_counts()"
   ]
  },
  {
   "cell_type": "code",
   "execution_count": 74,
   "id": "93f1c9d4",
   "metadata": {},
   "outputs": [
    {
     "data": {
      "text/plain": [
       "<AxesSubplot:xlabel='Outstanding_Debt'>"
      ]
     },
     "execution_count": 74,
     "metadata": {},
     "output_type": "execute_result"
    },
    {
     "data": {
      "image/png": "[encoded data removed]",
      "text/plain": [
       "<Figure size 432x288 with 1 Axes>"
      ]
     },
     "metadata": {
      "needs_background": "light"
     },
     "output_type": "display_data"
    }
   ],
   "source": [
    "sns.boxplot(df['Outstanding_Debt'])"
   ]
  },
  {
   "cell_type": "code",
   "execution_count": 75,
   "id": "82a85e0b",
   "metadata": {},
   "outputs": [],
   "source": [
    "percentile25 = df['Outstanding_Debt'].quantile(0.25)\n",
    "percentile75 = df['Outstanding_Debt'].quantile(0.75)\n",
    "iqr = percentile75 - percentile25\n",
    "upper_limit = percentile75 + 1.5 * iqr\n",
    "lower_limit = percentile25 - 1.5 * iqr"
   ]
  },
  {
   "cell_type": "code",
   "execution_count": 76,
   "id": "6f9747bc",
   "metadata": {},
   "outputs": [],
   "source": [
    "df = df.loc[(df['Outstanding_Debt'] > lower_limit) & (df['Outstanding_Debt'] < upper_limit)]"
   ]
  },
  {
   "cell_type": "code",
   "execution_count": 77,
   "id": "6d4d1e07",
   "metadata": {},
   "outputs": [
    {
     "data": {
      "text/plain": [
       "<AxesSubplot:xlabel='Outstanding_Debt'>"
      ]
     },
     "execution_count": 77,
     "metadata": {},
     "output_type": "execute_result"
    },
    {
     "data": {
      "image/png": "[encoded data removed]",
      "text/plain": [
       "<Figure size 432x288 with 1 Axes>"
      ]
     },
     "metadata": {
      "needs_background": "light"
     },
     "output_type": "display_data"
    }
   ],
   "source": [
    "sns.boxplot(df['Outstanding_Debt'])"
   ]
  },
  {
   "cell_type": "code",
   "execution_count": 78,
   "id": "caf09e44",
   "metadata": {},
   "outputs": [
    {
     "name": "stdout",
     "output_type": "stream",
     "text": [
      "<class 'pandas.core.frame.DataFrame'>\n",
      "Int64Index: 56766 entries, 0 to 99999\n",
      "Data columns (total 19 columns):\n",
      " #   Column                    Non-Null Count  Dtype  \n",
      "---  ------                    --------------  -----  \n",
      " 0   Month                     56766 non-null  object \n",
      " 1   Age                       56766 non-null  float64\n",
      " 2   Annual_Income             56766 non-null  float64\n",
      " 3   Monthly_Inhand_Salary     56766 non-null  float64\n",
      " 4   Num_Bank_Accounts         56766 non-null  int64  \n",
      " 5   Num_Credit_Card           56766 non-null  int64  \n",
      " 6   Interest_Rate             56766 non-null  int64  \n",
      " 7   Num_of_Loan               56766 non-null  float64\n",
      " 8   Delay_from_due_date       56766 non-null  int64  \n",
      " 9   Num_of_Delayed_Payment    56766 non-null  float64\n",
      " 10  Num_Credit_Inquiries      55646 non-null  float64\n",
      " 11  Credit_Mix                56766 non-null  object \n",
      " 12  Outstanding_Debt          56766 non-null  float64\n",
      " 13  Credit_Utilization_Ratio  56766 non-null  float64\n",
      " 14  Credit_History_Age        51565 non-null  object \n",
      " 15  Payment_of_Min_Amount     56766 non-null  object \n",
      " 16  Amount_invested_monthly   54279 non-null  object \n",
      " 17  Monthly_Balance           56150 non-null  object \n",
      " 18  Credit_Score              56766 non-null  object \n",
      "dtypes: float64(8), int64(4), object(7)\n",
      "memory usage: 8.7+ MB\n"
     ]
    }
   ],
   "source": [
    "df.info()"
   ]
  },
  {
   "cell_type": "code",
   "execution_count": 79,
   "id": "a890e23f",
   "metadata": {},
   "outputs": [
    {
     "data": {
      "text/plain": [
       "26.822620    1\n",
       "28.670682    1\n",
       "35.828769    1\n",
       "24.753986    1\n",
       "37.720149    1\n",
       "            ..\n",
       "27.509178    1\n",
       "36.861372    1\n",
       "38.631991    1\n",
       "38.189190    1\n",
       "34.192463    1\n",
       "Name: Credit_Utilization_Ratio, Length: 56766, dtype: int64"
      ]
     },
     "execution_count": 79,
     "metadata": {},
     "output_type": "execute_result"
    }
   ],
   "source": [
    "df.Credit_Utilization_Ratio.value_counts()"
   ]
  },
  {
   "cell_type": "code",
   "execution_count": 80,
   "id": "b981c0b4",
   "metadata": {},
   "outputs": [
    {
     "data": {
      "text/plain": [
       "<AxesSubplot:xlabel='Credit_Utilization_Ratio'>"
      ]
     },
     "execution_count": 80,
     "metadata": {},
     "output_type": "execute_result"
    },
    {
     "data": {
      "image/png": "[encoded data removed]",
      "text/plain": [
       "<Figure size 432x288 with 1 Axes>"
      ]
     },
     "metadata": {
      "needs_background": "light"
     },
     "output_type": "display_data"
    }
   ],
   "source": [
    "sns.boxplot(df['Credit_Utilization_Ratio'])"
   ]
  },
  {
   "cell_type": "code",
   "execution_count": 81,
   "id": "f7af7bdb",
   "metadata": {
    "scrolled": true
   },
   "outputs": [
    {
     "name": "stdout",
     "output_type": "stream",
     "text": [
      "<class 'pandas.core.frame.DataFrame'>\n",
      "Int64Index: 56766 entries, 0 to 99999\n",
      "Data columns (total 19 columns):\n",
      " #   Column                    Non-Null Count  Dtype  \n",
      "---  ------                    --------------  -----  \n",
      " 0   Month                     56766 non-null  object \n",
      " 1   Age                       56766 non-null  float64\n",
      " 2   Annual_Income             56766 non-null  float64\n",
      " 3   Monthly_Inhand_Salary     56766 non-null  float64\n",
      " 4   Num_Bank_Accounts         56766 non-null  int64  \n",
      " 5   Num_Credit_Card           56766 non-null  int64  \n",
      " 6   Interest_Rate             56766 non-null  int64  \n",
      " 7   Num_of_Loan               56766 non-null  float64\n",
      " 8   Delay_from_due_date       56766 non-null  int64  \n",
      " 9   Num_of_Delayed_Payment    56766 non-null  float64\n",
      " 10  Num_Credit_Inquiries      55646 non-null  float64\n",
      " 11  Credit_Mix                56766 non-null  object \n",
      " 12  Outstanding_Debt          56766 non-null  float64\n",
      " 13  Credit_Utilization_Ratio  56766 non-null  float64\n",
      " 14  Credit_History_Age        51565 non-null  object \n",
      " 15  Payment_of_Min_Amount     56766 non-null  object \n",
      " 16  Amount_invested_monthly   54279 non-null  object \n",
      " 17  Monthly_Balance           56150 non-null  object \n",
      " 18  Credit_Score              56766 non-null  object \n",
      "dtypes: float64(8), int64(4), object(7)\n",
      "memory usage: 8.7+ MB\n"
     ]
    }
   ],
   "source": [
    "df.info()"
   ]
  },
  {
   "cell_type": "code",
   "execution_count": 82,
   "id": "80000abd",
   "metadata": {},
   "outputs": [
    {
     "data": {
      "text/plain": [
       "15 Years and 9 Months     278\n",
       "19 Years and 5 Months     276\n",
       "19 Years and 9 Months     269\n",
       "15 Years and 11 Months    269\n",
       "19 Years and 3 Months     263\n",
       "                         ... \n",
       "0 Years and 4 Months       12\n",
       "33 Years and 7 Months      10\n",
       "33 Years and 8 Months       9\n",
       "0 Years and 3 Months        7\n",
       "0 Years and 2 Months        5\n",
       "Name: Credit_History_Age, Length: 403, dtype: int64"
      ]
     },
     "execution_count": 82,
     "metadata": {},
     "output_type": "execute_result"
    }
   ],
   "source": [
    "df.Credit_History_Age.value_counts()"
   ]
  },
  {
   "cell_type": "code",
   "execution_count": 83,
   "id": "8e977ea0",
   "metadata": {
    "scrolled": true
   },
   "outputs": [],
   "source": [
    "df['Credit_History_Age'] = df['Credit_History_Age'].str[:2]"
   ]
  },
  {
   "cell_type": "code",
   "execution_count": 84,
   "id": "62412435",
   "metadata": {},
   "outputs": [],
   "source": [
    "df['Credit_History_Age'] = df.Credit_History_Age.astype(float)"
   ]
  },
  {
   "cell_type": "code",
   "execution_count": 85,
   "id": "6d5438a5",
   "metadata": {},
   "outputs": [
    {
     "data": {
      "text/plain": [
       "<AxesSubplot:xlabel='Credit_History_Age'>"
      ]
     },
     "execution_count": 85,
     "metadata": {},
     "output_type": "execute_result"
    },
    {
     "data": {
      "image/png": "[encoded data removed]",
      "text/plain": [
       "<Figure size 432x288 with 1 Axes>"
      ]
     },
     "metadata": {
      "needs_background": "light"
     },
     "output_type": "display_data"
    }
   ],
   "source": [
    "sns.boxplot(df['Credit_History_Age'])"
   ]
  },
  {
   "cell_type": "code",
   "execution_count": 86,
   "id": "f4b8a7f2",
   "metadata": {},
   "outputs": [
    {
     "name": "stdout",
     "output_type": "stream",
     "text": [
      "<class 'pandas.core.frame.DataFrame'>\n",
      "Int64Index: 56766 entries, 0 to 99999\n",
      "Data columns (total 19 columns):\n",
      " #   Column                    Non-Null Count  Dtype  \n",
      "---  ------                    --------------  -----  \n",
      " 0   Month                     56766 non-null  object \n",
      " 1   Age                       56766 non-null  float64\n",
      " 2   Annual_Income             56766 non-null  float64\n",
      " 3   Monthly_Inhand_Salary     56766 non-null  float64\n",
      " 4   Num_Bank_Accounts         56766 non-null  int64  \n",
      " 5   Num_Credit_Card           56766 non-null  int64  \n",
      " 6   Interest_Rate             56766 non-null  int64  \n",
      " 7   Num_of_Loan               56766 non-null  float64\n",
      " 8   Delay_from_due_date       56766 non-null  int64  \n",
      " 9   Num_of_Delayed_Payment    56766 non-null  float64\n",
      " 10  Num_Credit_Inquiries      55646 non-null  float64\n",
      " 11  Credit_Mix                56766 non-null  object \n",
      " 12  Outstanding_Debt          56766 non-null  float64\n",
      " 13  Credit_Utilization_Ratio  56766 non-null  float64\n",
      " 14  Credit_History_Age        51565 non-null  float64\n",
      " 15  Payment_of_Min_Amount     56766 non-null  object \n",
      " 16  Amount_invested_monthly   54279 non-null  object \n",
      " 17  Monthly_Balance           56150 non-null  object \n",
      " 18  Credit_Score              56766 non-null  object \n",
      "dtypes: float64(9), int64(4), object(6)\n",
      "memory usage: 8.7+ MB\n"
     ]
    }
   ],
   "source": [
    "df.info()"
   ]
  },
  {
   "cell_type": "code",
   "execution_count": 87,
   "id": "403e281b",
   "metadata": {},
   "outputs": [
    {
     "data": {
      "text/plain": [
       "Yes    30680\n",
       "No     19374\n",
       "NM      6712\n",
       "Name: Payment_of_Min_Amount, dtype: int64"
      ]
     },
     "execution_count": 87,
     "metadata": {},
     "output_type": "execute_result"
    }
   ],
   "source": [
    "df['Payment_of_Min_Amount'].value_counts()"
   ]
  },
  {
   "cell_type": "code",
   "execution_count": 88,
   "id": "43cfdb01",
   "metadata": {},
   "outputs": [
    {
     "name": "stdout",
     "output_type": "stream",
     "text": [
      "<class 'pandas.core.frame.DataFrame'>\n",
      "Int64Index: 56766 entries, 0 to 99999\n",
      "Data columns (total 19 columns):\n",
      " #   Column                    Non-Null Count  Dtype  \n",
      "---  ------                    --------------  -----  \n",
      " 0   Month                     56766 non-null  object \n",
      " 1   Age                       56766 non-null  float64\n",
      " 2   Annual_Income             56766 non-null  float64\n",
      " 3   Monthly_Inhand_Salary     56766 non-null  float64\n",
      " 4   Num_Bank_Accounts         56766 non-null  int64  \n",
      " 5   Num_Credit_Card           56766 non-null  int64  \n",
      " 6   Interest_Rate             56766 non-null  int64  \n",
      " 7   Num_of_Loan               56766 non-null  float64\n",
      " 8   Delay_from_due_date       56766 non-null  int64  \n",
      " 9   Num_of_Delayed_Payment    56766 non-null  float64\n",
      " 10  Num_Credit_Inquiries      55646 non-null  float64\n",
      " 11  Credit_Mix                56766 non-null  object \n",
      " 12  Outstanding_Debt          56766 non-null  float64\n",
      " 13  Credit_Utilization_Ratio  56766 non-null  float64\n",
      " 14  Credit_History_Age        51565 non-null  float64\n",
      " 15  Payment_of_Min_Amount     56766 non-null  object \n",
      " 16  Amount_invested_monthly   54279 non-null  object \n",
      " 17  Monthly_Balance           56150 non-null  object \n",
      " 18  Credit_Score              56766 non-null  object \n",
      "dtypes: float64(9), int64(4), object(6)\n",
      "memory usage: 8.7+ MB\n"
     ]
    }
   ],
   "source": [
    "df.info()"
   ]
  },
  {
   "cell_type": "code",
   "execution_count": 89,
   "id": "83a1805f",
   "metadata": {},
   "outputs": [
    {
     "data": {
      "text/plain": [
       "__10000__             2403\n",
       "0.0                     87\n",
       "80.41529543900253        1\n",
       "49.098960344812845       1\n",
       "117.87205298070677       1\n",
       "                      ... \n",
       "41.84261163243214        1\n",
       "20.666185570302574       1\n",
       "502.12614028657936       1\n",
       "1029.911151056486        1\n",
       "167.1638651610451        1\n",
       "Name: Amount_invested_monthly, Length: 51791, dtype: int64"
      ]
     },
     "execution_count": 89,
     "metadata": {},
     "output_type": "execute_result"
    }
   ],
   "source": [
    "df['Amount_invested_monthly'].value_counts()"
   ]
  },
  {
   "cell_type": "code",
   "execution_count": 90,
   "id": "151ea794",
   "metadata": {},
   "outputs": [],
   "source": [
    "df['Amount_invested_monthly'] = df.Amount_invested_monthly.str.replace('_','')"
   ]
  },
  {
   "cell_type": "code",
   "execution_count": 91,
   "id": "1dd88297",
   "metadata": {},
   "outputs": [],
   "source": [
    "df['Amount_invested_monthly']= df.Amount_invested_monthly.astype(float)"
   ]
  },
  {
   "cell_type": "code",
   "execution_count": 92,
   "id": "cf384eb4",
   "metadata": {},
   "outputs": [
    {
     "data": {
      "text/plain": [
       "<AxesSubplot:xlabel='Amount_invested_monthly'>"
      ]
     },
     "execution_count": 92,
     "metadata": {},
     "output_type": "execute_result"
    },
    {
     "data": {
      "image/png": "[encoded data removed]",
      "text/plain": [
       "<Figure size 432x288 with 1 Axes>"
      ]
     },
     "metadata": {
      "needs_background": "light"
     },
     "output_type": "display_data"
    }
   ],
   "source": [
    "sns.boxplot(df['Amount_invested_monthly'])"
   ]
  },
  {
   "cell_type": "code",
   "execution_count": 93,
   "id": "f53ee3b1",
   "metadata": {},
   "outputs": [],
   "source": [
    "percentile25 = df['Amount_invested_monthly'].quantile(0.25)\n",
    "percentile75 = df['Amount_invested_monthly'].quantile(0.75)\n",
    "iqr = percentile75 - percentile25\n",
    "upper_limit = percentile75 + 1.5 * iqr\n",
    "lower_limit = percentile25 - 1.5 * iqr"
   ]
  },
  {
   "cell_type": "code",
   "execution_count": 94,
   "id": "2dab94c9",
   "metadata": {},
   "outputs": [],
   "source": [
    "df = df.loc[(df['Amount_invested_monthly'] > lower_limit) & (df['Amount_invested_monthly'] < upper_limit)]"
   ]
  },
  {
   "cell_type": "code",
   "execution_count": 95,
   "id": "9472b18c",
   "metadata": {},
   "outputs": [
    {
     "data": {
      "text/plain": [
       "<AxesSubplot:xlabel='Amount_invested_monthly'>"
      ]
     },
     "execution_count": 95,
     "metadata": {},
     "output_type": "execute_result"
    },
    {
     "data": {
      "image/png": "[encoded data removed]",
      "text/plain": [
       "<Figure size 432x288 with 1 Axes>"
      ]
     },
     "metadata": {
      "needs_background": "light"
     },
     "output_type": "display_data"
    }
   ],
   "source": [
    "sns.boxplot(df['Amount_invested_monthly'])"
   ]
  },
  {
   "cell_type": "code",
   "execution_count": 96,
   "id": "ab6bfe3b",
   "metadata": {},
   "outputs": [
    {
     "name": "stdout",
     "output_type": "stream",
     "text": [
      "<class 'pandas.core.frame.DataFrame'>\n",
      "Int64Index: 48677 entries, 0 to 99999\n",
      "Data columns (total 19 columns):\n",
      " #   Column                    Non-Null Count  Dtype  \n",
      "---  ------                    --------------  -----  \n",
      " 0   Month                     48677 non-null  object \n",
      " 1   Age                       48677 non-null  float64\n",
      " 2   Annual_Income             48677 non-null  float64\n",
      " 3   Monthly_Inhand_Salary     48677 non-null  float64\n",
      " 4   Num_Bank_Accounts         48677 non-null  int64  \n",
      " 5   Num_Credit_Card           48677 non-null  int64  \n",
      " 6   Interest_Rate             48677 non-null  int64  \n",
      " 7   Num_of_Loan               48677 non-null  float64\n",
      " 8   Delay_from_due_date       48677 non-null  int64  \n",
      " 9   Num_of_Delayed_Payment    48677 non-null  float64\n",
      " 10  Num_Credit_Inquiries      47711 non-null  float64\n",
      " 11  Credit_Mix                48677 non-null  object \n",
      " 12  Outstanding_Debt          48677 non-null  float64\n",
      " 13  Credit_Utilization_Ratio  48677 non-null  float64\n",
      " 14  Credit_History_Age        44181 non-null  float64\n",
      " 15  Payment_of_Min_Amount     48677 non-null  object \n",
      " 16  Amount_invested_monthly   48677 non-null  float64\n",
      " 17  Monthly_Balance           48600 non-null  object \n",
      " 18  Credit_Score              48677 non-null  object \n",
      "dtypes: float64(10), int64(4), object(5)\n",
      "memory usage: 7.4+ MB\n"
     ]
    }
   ],
   "source": [
    "df.info()"
   ]
  },
  {
   "cell_type": "code",
   "execution_count": 97,
   "id": "8cf1009e",
   "metadata": {},
   "outputs": [
    {
     "data": {
      "text/plain": [
       "__-333333333333333333333333333__    6\n",
       "312.49408867943663                  1\n",
       "377.9043122334394                   1\n",
       "300.09967283382906                  1\n",
       "402.2867401121016                   1\n",
       "                                   ..\n",
       "527.5455321269197                   1\n",
       "294.7522695909136                   1\n",
       "610.0317553228854                   1\n",
       "675.0901805796067                   1\n",
       "393.6736955618808                   1\n",
       "Name: Monthly_Balance, Length: 48595, dtype: int64"
      ]
     },
     "execution_count": 97,
     "metadata": {},
     "output_type": "execute_result"
    }
   ],
   "source": [
    "df.Monthly_Balance.value_counts()"
   ]
  },
  {
   "cell_type": "code",
   "execution_count": 98,
   "id": "cf454219",
   "metadata": {},
   "outputs": [],
   "source": [
    "df['Monthly_Balance'] = df.Monthly_Balance.str.replace('_','')"
   ]
  },
  {
   "cell_type": "code",
   "execution_count": 99,
   "id": "827246b3",
   "metadata": {},
   "outputs": [],
   "source": [
    "df['Monthly_Balance']= df.Monthly_Balance.astype(float)"
   ]
  },
  {
   "cell_type": "code",
   "execution_count": 100,
   "id": "48c03081",
   "metadata": {},
   "outputs": [
    {
     "data": {
      "text/plain": [
       "<AxesSubplot:xlabel='Monthly_Balance'>"
      ]
     },
     "execution_count": 100,
     "metadata": {},
     "output_type": "execute_result"
    },
    {
     "data": {
      "image/png": "[encoded data removed]",
      "text/plain": [
       "<Figure size 432x288 with 1 Axes>"
      ]
     },
     "metadata": {
      "needs_background": "light"
     },
     "output_type": "display_data"
    }
   ],
   "source": [
    "sns.boxplot(df['Monthly_Balance'])"
   ]
  },
  {
   "cell_type": "code",
   "execution_count": 101,
   "id": "471fbc5d",
   "metadata": {},
   "outputs": [],
   "source": [
    "percentile25 = df['Monthly_Balance'].quantile(0.25)\n",
    "percentile75 = df['Monthly_Balance'].quantile(0.75)\n",
    "iqr = percentile75 - percentile25\n",
    "upper_limit = percentile75 + 1.5 * iqr\n",
    "lower_limit = percentile25 - 1.5 * iqr"
   ]
  },
  {
   "cell_type": "code",
   "execution_count": 102,
   "id": "df642db6",
   "metadata": {},
   "outputs": [],
   "source": [
    "df = df.loc[(df['Monthly_Balance'] > lower_limit) & (df['Monthly_Balance'] < upper_limit)]"
   ]
  },
  {
   "cell_type": "code",
   "execution_count": 103,
   "id": "aca10e57",
   "metadata": {},
   "outputs": [
    {
     "data": {
      "text/plain": [
       "<AxesSubplot:xlabel='Monthly_Balance'>"
      ]
     },
     "execution_count": 103,
     "metadata": {},
     "output_type": "execute_result"
    },
    {
     "data": {
      "image/png": "[encoded data removed]",
      "text/plain": [
       "<Figure size 432x288 with 1 Axes>"
      ]
     },
     "metadata": {
      "needs_background": "light"
     },
     "output_type": "display_data"
    }
   ],
   "source": [
    "sns.boxplot(df['Monthly_Balance'])"
   ]
  },
  {
   "cell_type": "code",
   "execution_count": 104,
   "id": "c98f0e03",
   "metadata": {},
   "outputs": [
    {
     "name": "stdout",
     "output_type": "stream",
     "text": [
      "<class 'pandas.core.frame.DataFrame'>\n",
      "Int64Index: 45113 entries, 0 to 99999\n",
      "Data columns (total 19 columns):\n",
      " #   Column                    Non-Null Count  Dtype  \n",
      "---  ------                    --------------  -----  \n",
      " 0   Month                     45113 non-null  object \n",
      " 1   Age                       45113 non-null  float64\n",
      " 2   Annual_Income             45113 non-null  float64\n",
      " 3   Monthly_Inhand_Salary     45113 non-null  float64\n",
      " 4   Num_Bank_Accounts         45113 non-null  int64  \n",
      " 5   Num_Credit_Card           45113 non-null  int64  \n",
      " 6   Interest_Rate             45113 non-null  int64  \n",
      " 7   Num_of_Loan               45113 non-null  float64\n",
      " 8   Delay_from_due_date       45113 non-null  int64  \n",
      " 9   Num_of_Delayed_Payment    45113 non-null  float64\n",
      " 10  Num_Credit_Inquiries      44239 non-null  float64\n",
      " 11  Credit_Mix                45113 non-null  object \n",
      " 12  Outstanding_Debt          45113 non-null  float64\n",
      " 13  Credit_Utilization_Ratio  45113 non-null  float64\n",
      " 14  Credit_History_Age        40948 non-null  float64\n",
      " 15  Payment_of_Min_Amount     45113 non-null  object \n",
      " 16  Amount_invested_monthly   45113 non-null  float64\n",
      " 17  Monthly_Balance           45113 non-null  float64\n",
      " 18  Credit_Score              45113 non-null  object \n",
      "dtypes: float64(11), int64(4), object(4)\n",
      "memory usage: 6.9+ MB\n"
     ]
    }
   ],
   "source": [
    "df.info()"
   ]
  },
  {
   "cell_type": "code",
   "execution_count": 105,
   "id": "894d76be",
   "metadata": {},
   "outputs": [
    {
     "data": {
      "text/plain": [
       "Standard    24916\n",
       "Poor        13407\n",
       "Good         6790\n",
       "Name: Credit_Score, dtype: int64"
      ]
     },
     "execution_count": 105,
     "metadata": {},
     "output_type": "execute_result"
    }
   ],
   "source": [
    "df['Credit_Score'].value_counts()"
   ]
  },
  {
   "cell_type": "code",
   "execution_count": 106,
   "id": "325b4e88",
   "metadata": {
    "scrolled": true
   },
   "outputs": [
    {
     "name": "stdout",
     "output_type": "stream",
     "text": [
      "<class 'pandas.core.frame.DataFrame'>\n",
      "Int64Index: 45113 entries, 0 to 99999\n",
      "Data columns (total 19 columns):\n",
      " #   Column                    Non-Null Count  Dtype  \n",
      "---  ------                    --------------  -----  \n",
      " 0   Month                     45113 non-null  object \n",
      " 1   Age                       45113 non-null  float64\n",
      " 2   Annual_Income             45113 non-null  float64\n",
      " 3   Monthly_Inhand_Salary     45113 non-null  float64\n",
      " 4   Num_Bank_Accounts         45113 non-null  int64  \n",
      " 5   Num_Credit_Card           45113 non-null  int64  \n",
      " 6   Interest_Rate             45113 non-null  int64  \n",
      " 7   Num_of_Loan               45113 non-null  float64\n",
      " 8   Delay_from_due_date       45113 non-null  int64  \n",
      " 9   Num_of_Delayed_Payment    45113 non-null  float64\n",
      " 10  Num_Credit_Inquiries      44239 non-null  float64\n",
      " 11  Credit_Mix                45113 non-null  object \n",
      " 12  Outstanding_Debt          45113 non-null  float64\n",
      " 13  Credit_Utilization_Ratio  45113 non-null  float64\n",
      " 14  Credit_History_Age        40948 non-null  float64\n",
      " 15  Payment_of_Min_Amount     45113 non-null  object \n",
      " 16  Amount_invested_monthly   45113 non-null  float64\n",
      " 17  Monthly_Balance           45113 non-null  float64\n",
      " 18  Credit_Score              45113 non-null  object \n",
      "dtypes: float64(11), int64(4), object(4)\n",
      "memory usage: 6.9+ MB\n"
     ]
    }
   ],
   "source": [
    "df.info()"
   ]
  },
  {
   "cell_type": "code",
   "execution_count": 107,
   "id": "8c29b99c",
   "metadata": {
    "scrolled": true
   },
   "outputs": [
    {
     "data": {
      "text/plain": [
       "Standard    24916\n",
       "Poor        13407\n",
       "Good         6790\n",
       "Name: Credit_Score, dtype: int64"
      ]
     },
     "execution_count": 107,
     "metadata": {},
     "output_type": "execute_result"
    }
   ],
   "source": [
    "df.Credit_Score.value_counts()"
   ]
  },
  {
   "cell_type": "code",
   "execution_count": 111,
   "id": "13ff2a3f",
   "metadata": {},
   "outputs": [],
   "source": [
    "#Saved cleaned data to a new csv file\n",
    "df.to_csv('./data/cleaned_data.csv')"
   ]
  }
 ],
 "metadata": {
  "kernelspec": {
   "display_name": "Python (learn-env)",
   "language": "python",
   "name": "learn-env"
  },
  "language_info": {
   "codemirror_mode": {
    "name": "ipython",
    "version": 3
   },
   "file_extension": ".py",
   "mimetype": "text/x-python",
   "name": "python",
   "nbconvert_exporter": "python",
   "pygments_lexer": "ipython3",
   "version": "3.8.5"
  }
 },
 "nbformat": 4,
 "nbformat_minor": 5
}
