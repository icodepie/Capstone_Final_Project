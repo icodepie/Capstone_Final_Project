{
 "cells": [
  {
   "cell_type": "markdown",
   "id": "ccbb14aa",
   "metadata": {},
   "source": [
    "# Imports and loading in cleaned data"
   ]
  },
  {
   "cell_type": "code",
   "execution_count": 2,
   "id": "054cce94",
   "metadata": {},
   "outputs": [],
   "source": [
    "import warnings\n",
    "warnings.filterwarnings(\"ignore\", category=UserWarning)\n",
    "warnings.filterwarnings(\"ignore\")"
   ]
  },
  {
   "cell_type": "code",
   "execution_count": 3,
   "id": "c6f9675c",
   "metadata": {},
   "outputs": [],
   "source": [
    "import pandas as pd\n",
    "import numpy as np\n",
    "from matplotlib import pyplot as plt\n",
    "import seaborn as sns\n",
    "from sklearn.model_selection import train_test_split, GridSearchCV, cross_val_score\n",
    "from sklearn.pipeline import Pipeline\n",
    "from sklearn.preprocessing import StandardScaler, OneHotEncoder, FunctionTransformer\n",
    "from sklearn.impute import SimpleImputer\n",
    "from sklearn.compose import ColumnTransformer,  make_column_selector as selector\n",
    "from sklearn.linear_model import LogisticRegression\n",
    "from sklearn.ensemble import RandomForestClassifier,GradientBoostingClassifier,AdaBoostClassifier\n",
    "from sklearn.metrics import plot_confusion_matrix, recall_score,\\\n",
    "    accuracy_score, precision_score, f1_score\n",
    "from sklearn.dummy import DummyClassifier\n",
    "from sklearn.tree import DecisionTreeClassifier\n",
    "from sklearn.metrics import plot_roc_curve\n",
    "from sklearn.model_selection import RandomizedSearchCV\n",
    "from xgboost import XGBClassifier,XGBRegressor\n",
    "from sklearn.decomposition import PCA\n",
    "from imblearn.over_sampling import SMOTE\n",
    "from imblearn.pipeline import Pipeline as ImPipeline\n",
    "from sklearn.svm import SVC\n",
    "from sklearn.metrics import classification_report\n",
    "import warnings\n",
    "warnings.filterwarnings(\"ignore\", category=UserWarning)"
   ]
  },
  {
   "cell_type": "code",
   "execution_count": 4,
   "id": "c039c5d7",
   "metadata": {},
   "outputs": [],
   "source": [
    "df = pd.read_csv('./data/cleaned_data.csv')"
   ]
  },
  {
   "cell_type": "code",
   "execution_count": 5,
   "id": "b7c419b2",
   "metadata": {},
   "outputs": [
    {
     "name": "stdout",
     "output_type": "stream",
     "text": [
      "<class 'pandas.core.frame.DataFrame'>\n",
      "RangeIndex: 45113 entries, 0 to 45112\n",
      "Data columns (total 20 columns):\n",
      " #   Column                    Non-Null Count  Dtype  \n",
      "---  ------                    --------------  -----  \n",
      " 0   Unnamed: 0                45113 non-null  int64  \n",
      " 1   Month                     45113 non-null  object \n",
      " 2   Age                       45113 non-null  float64\n",
      " 3   Annual_Income             45113 non-null  float64\n",
      " 4   Monthly_Inhand_Salary     45113 non-null  float64\n",
      " 5   Num_Bank_Accounts         45113 non-null  int64  \n",
      " 6   Num_Credit_Card           45113 non-null  int64  \n",
      " 7   Interest_Rate             45113 non-null  int64  \n",
      " 8   Num_of_Loan               45113 non-null  float64\n",
      " 9   Delay_from_due_date       45113 non-null  int64  \n",
      " 10  Num_of_Delayed_Payment    45113 non-null  float64\n",
      " 11  Num_Credit_Inquiries      44239 non-null  float64\n",
      " 12  Credit_Mix                45113 non-null  object \n",
      " 13  Outstanding_Debt          45113 non-null  float64\n",
      " 14  Credit_Utilization_Ratio  45113 non-null  float64\n",
      " 15  Credit_History_Age        40948 non-null  float64\n",
      " 16  Payment_of_Min_Amount     45113 non-null  object \n",
      " 17  Amount_invested_monthly   45113 non-null  float64\n",
      " 18  Monthly_Balance           45113 non-null  float64\n",
      " 19  Credit_Score              45113 non-null  object \n",
      "dtypes: float64(11), int64(5), object(4)\n",
      "memory usage: 6.9+ MB\n"
     ]
    }
   ],
   "source": [
    "df.info()"
   ]
  },
  {
   "cell_type": "code",
   "execution_count": 6,
   "id": "4236621f",
   "metadata": {
    "scrolled": true
   },
   "outputs": [
    {
     "data": {
      "text/plain": [
       "Standard    24916\n",
       "Poor        13407\n",
       "Good         6790\n",
       "Name: Credit_Score, dtype: int64"
      ]
     },
     "execution_count": 6,
     "metadata": {},
     "output_type": "execute_result"
    }
   ],
   "source": [
    "df['Credit_Score'].value_counts()"
   ]
  },
  {
   "cell_type": "markdown",
   "id": "0bf0973c",
   "metadata": {},
   "source": [
    "# Test Train Split "
   ]
  },
  {
   "cell_type": "code",
   "execution_count": 7,
   "id": "5261ba21",
   "metadata": {},
   "outputs": [],
   "source": [
    "X = df.drop(['Credit_Score','Unnamed: 0','Month','Delay_from_due_date','Num_of_Delayed_Payment','Monthly_Balance','Interest_Rate','Credit_Mix'], axis=1)\n",
    "y = df['Credit_Score']\n",
    "\n",
    "X_train, X_test, y_train, y_test = train_test_split(X, y, random_state=42,test_size=.2)"
   ]
  },
  {
   "cell_type": "code",
   "execution_count": 8,
   "id": "53b393c4",
   "metadata": {},
   "outputs": [
    {
     "name": "stdout",
     "output_type": "stream",
     "text": [
      "<class 'pandas.core.frame.DataFrame'>\n",
      "RangeIndex: 45113 entries, 0 to 45112\n",
      "Data columns (total 12 columns):\n",
      " #   Column                    Non-Null Count  Dtype  \n",
      "---  ------                    --------------  -----  \n",
      " 0   Age                       45113 non-null  float64\n",
      " 1   Annual_Income             45113 non-null  float64\n",
      " 2   Monthly_Inhand_Salary     45113 non-null  float64\n",
      " 3   Num_Bank_Accounts         45113 non-null  int64  \n",
      " 4   Num_Credit_Card           45113 non-null  int64  \n",
      " 5   Num_of_Loan               45113 non-null  float64\n",
      " 6   Num_Credit_Inquiries      44239 non-null  float64\n",
      " 7   Outstanding_Debt          45113 non-null  float64\n",
      " 8   Credit_Utilization_Ratio  45113 non-null  float64\n",
      " 9   Credit_History_Age        40948 non-null  float64\n",
      " 10  Payment_of_Min_Amount     45113 non-null  object \n",
      " 11  Amount_invested_monthly   45113 non-null  float64\n",
      "dtypes: float64(9), int64(2), object(1)\n",
      "memory usage: 4.1+ MB\n"
     ]
    }
   ],
   "source": [
    "X.info()"
   ]
  },
  {
   "cell_type": "code",
   "execution_count": 9,
   "id": "cda6dbb2",
   "metadata": {
    "scrolled": true
   },
   "outputs": [
    {
     "name": "stdout",
     "output_type": "stream",
     "text": [
      "(36090, 12) (9023, 12)\n"
     ]
    }
   ],
   "source": [
    "print(X_train.shape, X_test.shape)"
   ]
  },
  {
   "cell_type": "code",
   "execution_count": 10,
   "id": "45df3930",
   "metadata": {},
   "outputs": [
    {
     "data": {
      "text/html": [
       "<div>\n",
       "<style scoped>\n",
       "    .dataframe tbody tr th:only-of-type {\n",
       "        vertical-align: middle;\n",
       "    }\n",
       "\n",
       "    .dataframe tbody tr th {\n",
       "        vertical-align: top;\n",
       "    }\n",
       "\n",
       "    .dataframe thead th {\n",
       "        text-align: right;\n",
       "    }\n",
       "</style>\n",
       "<table border=\"1\" class=\"dataframe\">\n",
       "  <thead>\n",
       "    <tr style=\"text-align: right;\">\n",
       "      <th></th>\n",
       "      <th>Age</th>\n",
       "      <th>Annual_Income</th>\n",
       "      <th>Monthly_Inhand_Salary</th>\n",
       "      <th>Num_Bank_Accounts</th>\n",
       "      <th>Num_Credit_Card</th>\n",
       "      <th>Num_of_Loan</th>\n",
       "      <th>Num_Credit_Inquiries</th>\n",
       "      <th>Outstanding_Debt</th>\n",
       "      <th>Credit_Utilization_Ratio</th>\n",
       "      <th>Credit_History_Age</th>\n",
       "      <th>Payment_of_Min_Amount</th>\n",
       "      <th>Amount_invested_monthly</th>\n",
       "    </tr>\n",
       "  </thead>\n",
       "  <tbody>\n",
       "    <tr>\n",
       "      <th>0</th>\n",
       "      <td>23.0</td>\n",
       "      <td>19114.12</td>\n",
       "      <td>1824.843333</td>\n",
       "      <td>3</td>\n",
       "      <td>4</td>\n",
       "      <td>4.0</td>\n",
       "      <td>4.0</td>\n",
       "      <td>809.98</td>\n",
       "      <td>26.822620</td>\n",
       "      <td>22.0</td>\n",
       "      <td>No</td>\n",
       "      <td>80.415295</td>\n",
       "    </tr>\n",
       "    <tr>\n",
       "      <th>1</th>\n",
       "      <td>23.0</td>\n",
       "      <td>19114.12</td>\n",
       "      <td>1824.843333</td>\n",
       "      <td>3</td>\n",
       "      <td>4</td>\n",
       "      <td>4.0</td>\n",
       "      <td>4.0</td>\n",
       "      <td>809.98</td>\n",
       "      <td>22.537593</td>\n",
       "      <td>22.0</td>\n",
       "      <td>No</td>\n",
       "      <td>178.344067</td>\n",
       "    </tr>\n",
       "    <tr>\n",
       "      <th>2</th>\n",
       "      <td>23.0</td>\n",
       "      <td>19114.12</td>\n",
       "      <td>1824.843333</td>\n",
       "      <td>3</td>\n",
       "      <td>4</td>\n",
       "      <td>4.0</td>\n",
       "      <td>4.0</td>\n",
       "      <td>809.98</td>\n",
       "      <td>23.933795</td>\n",
       "      <td>NaN</td>\n",
       "      <td>No</td>\n",
       "      <td>24.785217</td>\n",
       "    </tr>\n",
       "    <tr>\n",
       "      <th>3</th>\n",
       "      <td>28.0</td>\n",
       "      <td>34847.84</td>\n",
       "      <td>3037.986667</td>\n",
       "      <td>2</td>\n",
       "      <td>4</td>\n",
       "      <td>1.0</td>\n",
       "      <td>2.0</td>\n",
       "      <td>605.03</td>\n",
       "      <td>24.464031</td>\n",
       "      <td>26.0</td>\n",
       "      <td>No</td>\n",
       "      <td>104.291825</td>\n",
       "    </tr>\n",
       "    <tr>\n",
       "      <th>4</th>\n",
       "      <td>28.0</td>\n",
       "      <td>34847.84</td>\n",
       "      <td>3037.986667</td>\n",
       "      <td>2</td>\n",
       "      <td>4</td>\n",
       "      <td>1.0</td>\n",
       "      <td>2.0</td>\n",
       "      <td>605.03</td>\n",
       "      <td>38.550848</td>\n",
       "      <td>26.0</td>\n",
       "      <td>No</td>\n",
       "      <td>40.391238</td>\n",
       "    </tr>\n",
       "  </tbody>\n",
       "</table>\n",
       "</div>"
      ],
      "text/plain": [
       "    Age  Annual_Income  Monthly_Inhand_Salary  Num_Bank_Accounts  \\\n",
       "0  23.0       19114.12            1824.843333                  3   \n",
       "1  23.0       19114.12            1824.843333                  3   \n",
       "2  23.0       19114.12            1824.843333                  3   \n",
       "3  28.0       34847.84            3037.986667                  2   \n",
       "4  28.0       34847.84            3037.986667                  2   \n",
       "\n",
       "   Num_Credit_Card  Num_of_Loan  Num_Credit_Inquiries  Outstanding_Debt  \\\n",
       "0                4          4.0                   4.0            809.98   \n",
       "1                4          4.0                   4.0            809.98   \n",
       "2                4          4.0                   4.0            809.98   \n",
       "3                4          1.0                   2.0            605.03   \n",
       "4                4          1.0                   2.0            605.03   \n",
       "\n",
       "   Credit_Utilization_Ratio  Credit_History_Age Payment_of_Min_Amount  \\\n",
       "0                 26.822620                22.0                    No   \n",
       "1                 22.537593                22.0                    No   \n",
       "2                 23.933795                 NaN                    No   \n",
       "3                 24.464031                26.0                    No   \n",
       "4                 38.550848                26.0                    No   \n",
       "\n",
       "   Amount_invested_monthly  \n",
       "0                80.415295  \n",
       "1               178.344067  \n",
       "2                24.785217  \n",
       "3               104.291825  \n",
       "4                40.391238  "
      ]
     },
     "execution_count": 10,
     "metadata": {},
     "output_type": "execute_result"
    }
   ],
   "source": [
    "X.head()"
   ]
  },
  {
   "cell_type": "markdown",
   "id": "71f935b7",
   "metadata": {},
   "source": [
    "# Preprocessing Pipeline"
   ]
  },
  {
   "cell_type": "code",
   "execution_count": 11,
   "id": "91a2b4b3",
   "metadata": {},
   "outputs": [],
   "source": [
    "#subpipes that scale numeric data and use one hot encoder on categorical \n",
    "subpipe_num = Pipeline(steps=[\n",
    "    ('num_impute', SimpleImputer(strategy='mean')),\n",
    "    ('ss', StandardScaler())\n",
    "])\n",
    "\n",
    "\n",
    "subpipe_cat = Pipeline(steps=[\n",
    "    ('cat_impute',SimpleImputer(strategy='most_frequent')),\n",
    "    ('ohe', OneHotEncoder(sparse=False, handle_unknown='ignore'))\n",
    "])"
   ]
  },
  {
   "cell_type": "code",
   "execution_count": 12,
   "id": "f8cf0f2e",
   "metadata": {},
   "outputs": [],
   "source": [
    "#Create a column transformer to apply the subpipes and transform the data\n",
    "CT = ColumnTransformer(transformers=[\n",
    "    ('subpipe_num', subpipe_num, selector(dtype_include=np.number)),\n",
    "     ('subpipe_cat', subpipe_cat, selector(dtype_include=object))], remainder='passthrough')"
   ]
  },
  {
   "cell_type": "markdown",
   "id": "2bc16d9c",
   "metadata": {},
   "source": [
    "# Final Chosen Model XGB"
   ]
  },
  {
   "cell_type": "code",
   "execution_count": 15,
   "id": "58f5a75e",
   "metadata": {},
   "outputs": [],
   "source": [
    "xgb_final_model = ImPipeline(steps=[('CT', CT),\n",
    "                                  \n",
    "                              ('xgb', XGBClassifier(\n",
    "                    max_depth=6,\n",
    "                    min_child_weight=.1,\n",
    "                    reg_alpha=1,\n",
    "                    n_estimators=300,\n",
    "                    learning_rate=.095,\n",
    "                    max_delta_step=.065,\n",
    "                              ))])"
   ]
  },
  {
   "cell_type": "code",
   "execution_count": 16,
   "id": "d333f555",
   "metadata": {
    "scrolled": true
   },
   "outputs": [
    {
     "name": "stdout",
     "output_type": "stream",
     "text": [
      "[20:08:26] WARNING: C:\\Windows\\Temp\\abs_557yfx631l\\croots\\recipe\\xgboost-split_1659548953302\\work\\src\\learner.cc:1115: Starting in XGBoost 1.3.0, the default evaluation metric used with the objective 'multi:softprob' was changed from 'merror' to 'mlogloss'. Explicitly set eval_metric if you'd like to restore the old behavior.\n"
     ]
    },
    {
     "data": {
      "text/plain": [
       "Pipeline(steps=[('CT',\n",
       "                 ColumnTransformer(remainder='passthrough',\n",
       "                                   transformers=[('subpipe_num',\n",
       "                                                  Pipeline(steps=[('num_impute',\n",
       "                                                                   SimpleImputer()),\n",
       "                                                                  ('ss',\n",
       "                                                                   StandardScaler())]),\n",
       "                                                  <sklearn.compose._column_transformer.make_column_selector object at 0x0000015586B5B340>),\n",
       "                                                 ('subpipe_cat',\n",
       "                                                  Pipeline(steps=[('cat_impute',\n",
       "                                                                   SimpleImputer(strategy='most_frequent')),\n",
       "                                                                  ('ohe',\n",
       "                                                                   OneHo...\n",
       "                               interaction_constraints='', learning_rate=0.095,\n",
       "                               max_delta_step=0.065, max_depth=6,\n",
       "                               min_child_weight=0.1, missing=nan,\n",
       "                               monotone_constraints='()', n_estimators=300,\n",
       "                               n_jobs=8, num_parallel_tree=1,\n",
       "                               objective='multi:softprob', predictor='auto',\n",
       "                               random_state=0, reg_alpha=1, reg_lambda=1,\n",
       "                               scale_pos_weight=None, subsample=1,\n",
       "                               tree_method='exact', validate_parameters=1,\n",
       "                               verbosity=None))])"
      ]
     },
     "execution_count": 16,
     "metadata": {},
     "output_type": "execute_result"
    }
   ],
   "source": [
    "xgb_final_model.fit(X_train,y_train)"
   ]
  },
  {
   "cell_type": "code",
   "execution_count": 17,
   "id": "d7d31998",
   "metadata": {},
   "outputs": [
    {
     "data": {
      "text/plain": [
       "0.7311997783319479"
      ]
     },
     "execution_count": 17,
     "metadata": {},
     "output_type": "execute_result"
    }
   ],
   "source": [
    "xgb_final_model.score(X_train,y_train)"
   ]
  },
  {
   "cell_type": "code",
   "execution_count": 18,
   "id": "f6ec2ecb",
   "metadata": {},
   "outputs": [
    {
     "data": {
      "text/plain": [
       "0.7158373046658539"
      ]
     },
     "execution_count": 18,
     "metadata": {},
     "output_type": "execute_result"
    }
   ],
   "source": [
    "xgb_final_model.score(X_test,y_test)"
   ]
  },
  {
   "cell_type": "code",
   "execution_count": 19,
   "id": "b2969215",
   "metadata": {},
   "outputs": [
    {
     "data": {
      "text/plain": [
       "{'Age': 0.017790388,\n",
       " 'Annual_Income': 0.020710114,\n",
       " 'Monthly_Inhand_Salary': 0.024270179,\n",
       " 'Num_Bank_Accounts': 0.05551223,\n",
       " 'Num_Credit_Card': 0.14713904,\n",
       " 'Num_of_Loan': 0.028746702,\n",
       " 'Num_Credit_Inquiries': 0.049580228,\n",
       " 'Outstanding_Debt': 0.23257218,\n",
       " 'Credit_Utilization_Ratio': 0.009076431,\n",
       " 'Credit_History_Age': 0.023876535,\n",
       " 'Payment_of_Min_Amount': 0.012732752,\n",
       " 'Amount_invested_monthly': 0.027099472}"
      ]
     },
     "execution_count": 19,
     "metadata": {},
     "output_type": "execute_result"
    }
   ],
   "source": [
    "xgb_final_model[1].feature_importances_\n",
    "feat_import = {name: score \n",
    "                   for name, score\n",
    "                       in zip(X_train.columns, xgb_final_model[1].feature_importances_)\n",
    "}\n",
    "feat_import"
   ]
  },
  {
   "cell_type": "code",
   "execution_count": 20,
   "id": "f9676815",
   "metadata": {},
   "outputs": [],
   "source": [
    "values = []\n",
    "keys = []\n",
    "for x in feat_import:\n",
    "    if feat_import[x] > .01:\n",
    "        keys.append(x)\n",
    "        values.append(feat_import[x])"
   ]
  },
  {
   "cell_type": "code",
   "execution_count": 21,
   "id": "a73bbb58",
   "metadata": {},
   "outputs": [
    {
     "data": {
      "image/png": "[encoded data removed]",
      "text/plain": [
       "<Figure size 720x720 with 1 Axes>"
      ]
     },
     "metadata": {
      "needs_background": "light"
     },
     "output_type": "display_data"
    }
   ],
   "source": [
    "fig, ax = plt.subplots(figsize=(10,10))\n",
    "ax.bar(keys,values)\n",
    "\n",
    "plt.xticks(rotation=90,size=15)\n",
    "plt.title('Importance by Feature',size=20)\n",
    "plt.xlabel('Feature',size=20)\n",
    "plt.ylabel('Importance Level',size=20);"
   ]
  },
  {
   "cell_type": "code",
   "execution_count": 22,
   "id": "ca9835a1",
   "metadata": {},
   "outputs": [],
   "source": [
    "y_pred = xgb_final_model.predict(X_test)"
   ]
  },
  {
   "cell_type": "code",
   "execution_count": 23,
   "id": "097201d4",
   "metadata": {},
   "outputs": [
    {
     "name": "stdout",
     "output_type": "stream",
     "text": [
      "Accuracy Score :  0.7158373046658539\n",
      "Precision Score :  0.7104263278109375\n",
      "Recall Score :  0.7158373046658539\n",
      "f1 Score :  0.707291629830969\n"
     ]
    }
   ],
   "source": [
    "print(\"Accuracy Score : \",accuracy_score(y_test, y_pred, \n",
    "                                           ))\n",
    "print(\"Precision Score : \",precision_score(y_test, y_pred, \n",
    "                                           average='weighted'))\n",
    "print(\"Recall Score : \",recall_score(y_test, y_pred, \n",
    "                                           average='weighted'))\n",
    "print(\"f1 Score : \",f1_score(y_test, y_pred, \n",
    "                                           average='weighted'))"
   ]
  },
  {
   "cell_type": "code",
   "execution_count": 24,
   "id": "d944e686",
   "metadata": {},
   "outputs": [
    {
     "name": "stdout",
     "output_type": "stream",
     "text": [
      "              precision    recall  f1-score   support\n",
      "\n",
      "        Good       0.62      0.39      0.48      1323\n",
      "        Poor       0.74      0.69      0.71      2719\n",
      "    Standard       0.72      0.82      0.77      4981\n",
      "\n",
      "    accuracy                           0.72      9023\n",
      "   macro avg       0.69      0.63      0.65      9023\n",
      "weighted avg       0.71      0.72      0.71      9023\n",
      "\n"
     ]
    }
   ],
   "source": [
    "print(classification_report(y_test, y_pred))"
   ]
  },
  {
   "cell_type": "code",
   "execution_count": 25,
   "id": "74256ba8",
   "metadata": {},
   "outputs": [],
   "source": [
    "import pickle\n",
    "pickle.dump(xgb_final_model, open(\"streamlit_model.sav\", 'wb'))"
   ]
  },
  {
   "cell_type": "code",
   "execution_count": 26,
   "id": "d7040b87",
   "metadata": {},
   "outputs": [],
   "source": [
    "loaded_model = pickle.load(open(\"streamlit_model.sav\", 'rb'))"
   ]
  },
  {
   "cell_type": "code",
   "execution_count": 27,
   "id": "6c0628b0",
   "metadata": {
    "scrolled": false
   },
   "outputs": [
    {
     "data": {
      "text/plain": [
       "0.7158373046658539"
      ]
     },
     "execution_count": 27,
     "metadata": {},
     "output_type": "execute_result"
    }
   ],
   "source": [
    "loaded_model.score(X_test, y_test)"
   ]
  }
 ],
 "metadata": {
  "kernelspec": {
   "display_name": "Python (learn-env)",
   "language": "python",
   "name": "learn-env"
  },
  "language_info": {
   "codemirror_mode": {
    "name": "ipython",
    "version": 3
   },
   "file_extension": ".py",
   "mimetype": "text/x-python",
   "name": "python",
   "nbconvert_exporter": "python",
   "pygments_lexer": "ipython3",
   "version": "3.8.5"
  }
 },
 "nbformat": 4,
 "nbformat_minor": 5
}
