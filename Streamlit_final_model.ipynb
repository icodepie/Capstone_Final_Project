{
 "cells": [
  {
   "cell_type": "markdown",
   "id": "100a0fda",
   "metadata": {},
   "source": [
    "# Imports and loading in cleaned data"
   ]
  },
  {
   "cell_type": "code",
   "execution_count": 1,
   "id": "fe6dc466",
   "metadata": {},
   "outputs": [
    {
     "name": "stderr",
     "output_type": "stream",
     "text": [
      "C:\\Users\\Kev\\anaconda3\\envs\\learn-env\\lib\\site-packages\\numpy\\_distributor_init.py:30: UserWarning: loaded more than 1 DLL from .libs:\n",
      "C:\\Users\\Kev\\anaconda3\\envs\\learn-env\\lib\\site-packages\\numpy\\.libs\\libopenblas.FB5AE2TYXYH2IJRDKGDGQ3XBKLKTF43H.gfortran-win_amd64.dll\n",
      "C:\\Users\\Kev\\anaconda3\\envs\\learn-env\\lib\\site-packages\\numpy\\.libs\\libopenblas.PYQHXLVVQ7VESDPUVUADXEVJOBGHJPAY.gfortran-win_amd64.dll\n",
      "  warnings.warn(\"loaded more than 1 DLL from .libs:\"\n",
      "C:\\Users\\Kev\\anaconda3\\envs\\learn-env\\lib\\site-packages\\xgboost\\compat.py:36: FutureWarning: pandas.Int64Index is deprecated and will be removed from pandas in a future version. Use pandas.Index with the appropriate dtype instead.\n",
      "  from pandas import MultiIndex, Int64Index\n"
     ]
    }
   ],
   "source": [
    "import pandas as pd\n",
    "import numpy as np\n",
    "from matplotlib import pyplot as plt\n",
    "import seaborn as sns\n",
    "from sklearn.model_selection import train_test_split, GridSearchCV, cross_val_score\n",
    "from sklearn.pipeline import Pipeline\n",
    "from sklearn.preprocessing import StandardScaler, OneHotEncoder, FunctionTransformer\n",
    "from sklearn.impute import SimpleImputer\n",
    "from sklearn.compose import ColumnTransformer,  make_column_selector as selector\n",
    "from sklearn.linear_model import LogisticRegression\n",
    "from sklearn.ensemble import RandomForestClassifier,GradientBoostingClassifier,AdaBoostClassifier\n",
    "from sklearn.metrics import plot_confusion_matrix, recall_score,\\\n",
    "    accuracy_score, precision_score, f1_score\n",
    "from sklearn.dummy import DummyClassifier\n",
    "from sklearn.tree import DecisionTreeClassifier\n",
    "from sklearn.metrics import plot_roc_curve\n",
    "from sklearn.model_selection import RandomizedSearchCV\n",
    "from xgboost import XGBClassifier,XGBRegressor\n",
    "from sklearn.decomposition import PCA\n",
    "from imblearn.over_sampling import SMOTE\n",
    "from imblearn.pipeline import Pipeline as ImPipeline\n",
    "from sklearn.svm import SVC\n",
    "from sklearn.metrics import classification_report\n",
    "import warnings\n",
    "warnings.filterwarnings(\"ignore\", category=UserWarning)"
   ]
  },
  {
   "cell_type": "code",
   "execution_count": 2,
   "id": "3b0a7a8f",
   "metadata": {},
   "outputs": [],
   "source": [
    "df = pd.read_csv('./data/cleaned_data.csv')"
   ]
  },
  {
   "cell_type": "code",
   "execution_count": 3,
   "id": "2190e577",
   "metadata": {},
   "outputs": [
    {
     "name": "stdout",
     "output_type": "stream",
     "text": [
      "<class 'pandas.core.frame.DataFrame'>\n",
      "RangeIndex: 45113 entries, 0 to 45112\n",
      "Data columns (total 20 columns):\n",
      " #   Column                    Non-Null Count  Dtype  \n",
      "---  ------                    --------------  -----  \n",
      " 0   Unnamed: 0                45113 non-null  int64  \n",
      " 1   Month                     45113 non-null  object \n",
      " 2   Age                       45113 non-null  float64\n",
      " 3   Annual_Income             45113 non-null  float64\n",
      " 4   Monthly_Inhand_Salary     45113 non-null  float64\n",
      " 5   Num_Bank_Accounts         45113 non-null  int64  \n",
      " 6   Num_Credit_Card           45113 non-null  int64  \n",
      " 7   Interest_Rate             45113 non-null  int64  \n",
      " 8   Num_of_Loan               45113 non-null  float64\n",
      " 9   Delay_from_due_date       45113 non-null  int64  \n",
      " 10  Num_of_Delayed_Payment    45113 non-null  float64\n",
      " 11  Num_Credit_Inquiries      44239 non-null  float64\n",
      " 12  Credit_Mix                45113 non-null  object \n",
      " 13  Outstanding_Debt          45113 non-null  float64\n",
      " 14  Credit_Utilization_Ratio  45113 non-null  float64\n",
      " 15  Credit_History_Age        40948 non-null  float64\n",
      " 16  Payment_of_Min_Amount     45113 non-null  object \n",
      " 17  Amount_invested_monthly   45113 non-null  float64\n",
      " 18  Monthly_Balance           45113 non-null  float64\n",
      " 19  Credit_Score              45113 non-null  object \n",
      "dtypes: float64(11), int64(5), object(4)\n",
      "memory usage: 6.9+ MB\n"
     ]
    }
   ],
   "source": [
    "df.info()"
   ]
  },
  {
   "cell_type": "code",
   "execution_count": 4,
   "id": "3fa73df0",
   "metadata": {
    "scrolled": true
   },
   "outputs": [
    {
     "data": {
      "text/plain": [
       "Standard    24916\n",
       "Poor        13407\n",
       "Good         6790\n",
       "Name: Credit_Score, dtype: int64"
      ]
     },
     "execution_count": 4,
     "metadata": {},
     "output_type": "execute_result"
    }
   ],
   "source": [
    "df['Credit_Score'].value_counts()"
   ]
  },
  {
   "cell_type": "markdown",
   "id": "853a8776",
   "metadata": {},
   "source": [
    "# Test Train Split "
   ]
  },
  {
   "cell_type": "code",
   "execution_count": 5,
   "id": "7ab71ef6",
   "metadata": {},
   "outputs": [],
   "source": [
    "X = df.drop(['Credit_Score','Unnamed: 0','Month','Delay_from_due_date','Num_of_Delayed_Payment','Monthly_Balance','Interest_Rate'], axis=1)\n",
    "y = df['Credit_Score']\n",
    "\n",
    "X_train, X_test, y_train, y_test = train_test_split(X, y, random_state=42,test_size=.2)"
   ]
  },
  {
   "cell_type": "code",
   "execution_count": 6,
   "id": "fbe51409",
   "metadata": {},
   "outputs": [
    {
     "name": "stdout",
     "output_type": "stream",
     "text": [
      "<class 'pandas.core.frame.DataFrame'>\n",
      "RangeIndex: 45113 entries, 0 to 45112\n",
      "Data columns (total 13 columns):\n",
      " #   Column                    Non-Null Count  Dtype  \n",
      "---  ------                    --------------  -----  \n",
      " 0   Age                       45113 non-null  float64\n",
      " 1   Annual_Income             45113 non-null  float64\n",
      " 2   Monthly_Inhand_Salary     45113 non-null  float64\n",
      " 3   Num_Bank_Accounts         45113 non-null  int64  \n",
      " 4   Num_Credit_Card           45113 non-null  int64  \n",
      " 5   Num_of_Loan               45113 non-null  float64\n",
      " 6   Num_Credit_Inquiries      44239 non-null  float64\n",
      " 7   Credit_Mix                45113 non-null  object \n",
      " 8   Outstanding_Debt          45113 non-null  float64\n",
      " 9   Credit_Utilization_Ratio  45113 non-null  float64\n",
      " 10  Credit_History_Age        40948 non-null  float64\n",
      " 11  Payment_of_Min_Amount     45113 non-null  object \n",
      " 12  Amount_invested_monthly   45113 non-null  float64\n",
      "dtypes: float64(9), int64(2), object(2)\n",
      "memory usage: 4.5+ MB\n"
     ]
    }
   ],
   "source": [
    "X.info()"
   ]
  },
  {
   "cell_type": "code",
   "execution_count": 7,
   "id": "0b92ff7f",
   "metadata": {
    "scrolled": true
   },
   "outputs": [
    {
     "name": "stdout",
     "output_type": "stream",
     "text": [
      "(36090, 13) (9023, 13)\n"
     ]
    }
   ],
   "source": [
    "print(X_train.shape, X_test.shape)"
   ]
  },
  {
   "cell_type": "code",
   "execution_count": 8,
   "id": "b21ece23",
   "metadata": {},
   "outputs": [
    {
     "data": {
      "text/html": [
       "<div>\n",
       "<style scoped>\n",
       "    .dataframe tbody tr th:only-of-type {\n",
       "        vertical-align: middle;\n",
       "    }\n",
       "\n",
       "    .dataframe tbody tr th {\n",
       "        vertical-align: top;\n",
       "    }\n",
       "\n",
       "    .dataframe thead th {\n",
       "        text-align: right;\n",
       "    }\n",
       "</style>\n",
       "<table border=\"1\" class=\"dataframe\">\n",
       "  <thead>\n",
       "    <tr style=\"text-align: right;\">\n",
       "      <th></th>\n",
       "      <th>Age</th>\n",
       "      <th>Annual_Income</th>\n",
       "      <th>Monthly_Inhand_Salary</th>\n",
       "      <th>Num_Bank_Accounts</th>\n",
       "      <th>Num_Credit_Card</th>\n",
       "      <th>Num_of_Loan</th>\n",
       "      <th>Num_Credit_Inquiries</th>\n",
       "      <th>Credit_Mix</th>\n",
       "      <th>Outstanding_Debt</th>\n",
       "      <th>Credit_Utilization_Ratio</th>\n",
       "      <th>Credit_History_Age</th>\n",
       "      <th>Payment_of_Min_Amount</th>\n",
       "      <th>Amount_invested_monthly</th>\n",
       "    </tr>\n",
       "  </thead>\n",
       "  <tbody>\n",
       "    <tr>\n",
       "      <th>0</th>\n",
       "      <td>23.0</td>\n",
       "      <td>19114.12</td>\n",
       "      <td>1824.843333</td>\n",
       "      <td>3</td>\n",
       "      <td>4</td>\n",
       "      <td>4.0</td>\n",
       "      <td>4.0</td>\n",
       "      <td>other</td>\n",
       "      <td>809.98</td>\n",
       "      <td>26.822620</td>\n",
       "      <td>22.0</td>\n",
       "      <td>No</td>\n",
       "      <td>80.415295</td>\n",
       "    </tr>\n",
       "    <tr>\n",
       "      <th>1</th>\n",
       "      <td>23.0</td>\n",
       "      <td>19114.12</td>\n",
       "      <td>1824.843333</td>\n",
       "      <td>3</td>\n",
       "      <td>4</td>\n",
       "      <td>4.0</td>\n",
       "      <td>4.0</td>\n",
       "      <td>Good</td>\n",
       "      <td>809.98</td>\n",
       "      <td>22.537593</td>\n",
       "      <td>22.0</td>\n",
       "      <td>No</td>\n",
       "      <td>178.344067</td>\n",
       "    </tr>\n",
       "    <tr>\n",
       "      <th>2</th>\n",
       "      <td>23.0</td>\n",
       "      <td>19114.12</td>\n",
       "      <td>1824.843333</td>\n",
       "      <td>3</td>\n",
       "      <td>4</td>\n",
       "      <td>4.0</td>\n",
       "      <td>4.0</td>\n",
       "      <td>Good</td>\n",
       "      <td>809.98</td>\n",
       "      <td>23.933795</td>\n",
       "      <td>NaN</td>\n",
       "      <td>No</td>\n",
       "      <td>24.785217</td>\n",
       "    </tr>\n",
       "    <tr>\n",
       "      <th>3</th>\n",
       "      <td>28.0</td>\n",
       "      <td>34847.84</td>\n",
       "      <td>3037.986667</td>\n",
       "      <td>2</td>\n",
       "      <td>4</td>\n",
       "      <td>1.0</td>\n",
       "      <td>2.0</td>\n",
       "      <td>Good</td>\n",
       "      <td>605.03</td>\n",
       "      <td>24.464031</td>\n",
       "      <td>26.0</td>\n",
       "      <td>No</td>\n",
       "      <td>104.291825</td>\n",
       "    </tr>\n",
       "    <tr>\n",
       "      <th>4</th>\n",
       "      <td>28.0</td>\n",
       "      <td>34847.84</td>\n",
       "      <td>3037.986667</td>\n",
       "      <td>2</td>\n",
       "      <td>4</td>\n",
       "      <td>1.0</td>\n",
       "      <td>2.0</td>\n",
       "      <td>Good</td>\n",
       "      <td>605.03</td>\n",
       "      <td>38.550848</td>\n",
       "      <td>26.0</td>\n",
       "      <td>No</td>\n",
       "      <td>40.391238</td>\n",
       "    </tr>\n",
       "  </tbody>\n",
       "</table>\n",
       "</div>"
      ],
      "text/plain": [
       "    Age  Annual_Income  Monthly_Inhand_Salary  Num_Bank_Accounts  \\\n",
       "0  23.0       19114.12            1824.843333                  3   \n",
       "1  23.0       19114.12            1824.843333                  3   \n",
       "2  23.0       19114.12            1824.843333                  3   \n",
       "3  28.0       34847.84            3037.986667                  2   \n",
       "4  28.0       34847.84            3037.986667                  2   \n",
       "\n",
       "   Num_Credit_Card  Num_of_Loan  Num_Credit_Inquiries Credit_Mix  \\\n",
       "0                4          4.0                   4.0      other   \n",
       "1                4          4.0                   4.0       Good   \n",
       "2                4          4.0                   4.0       Good   \n",
       "3                4          1.0                   2.0       Good   \n",
       "4                4          1.0                   2.0       Good   \n",
       "\n",
       "   Outstanding_Debt  Credit_Utilization_Ratio  Credit_History_Age  \\\n",
       "0            809.98                 26.822620                22.0   \n",
       "1            809.98                 22.537593                22.0   \n",
       "2            809.98                 23.933795                 NaN   \n",
       "3            605.03                 24.464031                26.0   \n",
       "4            605.03                 38.550848                26.0   \n",
       "\n",
       "  Payment_of_Min_Amount  Amount_invested_monthly  \n",
       "0                    No                80.415295  \n",
       "1                    No               178.344067  \n",
       "2                    No                24.785217  \n",
       "3                    No               104.291825  \n",
       "4                    No                40.391238  "
      ]
     },
     "execution_count": 8,
     "metadata": {},
     "output_type": "execute_result"
    }
   ],
   "source": [
    "X.head()"
   ]
  },
  {
   "cell_type": "markdown",
   "id": "3a5756f0",
   "metadata": {},
   "source": [
    "# Preprocessing Pipeline"
   ]
  },
  {
   "cell_type": "code",
   "execution_count": 9,
   "id": "f7391b9b",
   "metadata": {},
   "outputs": [],
   "source": [
    "#subpipes that scale numeric data and use one hot encoder on categorical \n",
    "subpipe_num = Pipeline(steps=[\n",
    "    ('num_impute', SimpleImputer(strategy='mean')),\n",
    "    ('ss', StandardScaler())\n",
    "])\n",
    "\n",
    "\n",
    "subpipe_cat = Pipeline(steps=[\n",
    "    ('cat_impute',SimpleImputer(strategy='most_frequent')),\n",
    "    ('ohe', OneHotEncoder(sparse=False, handle_unknown='ignore'))\n",
    "])"
   ]
  },
  {
   "cell_type": "code",
   "execution_count": 10,
   "id": "2b0ed8e7",
   "metadata": {},
   "outputs": [],
   "source": [
    "#Create a column transformer to apply the subpipes and transform the data\n",
    "CT = ColumnTransformer(transformers=[\n",
    "    ('subpipe_num', subpipe_num, selector(dtype_include=np.number)),\n",
    "     ('subpipe_cat', subpipe_cat, selector(dtype_include=object))], remainder='passthrough')"
   ]
  },
  {
   "cell_type": "markdown",
   "id": "fe656e59",
   "metadata": {},
   "source": [
    "# Baseline Dummy Model"
   ]
  },
  {
   "cell_type": "code",
   "execution_count": 11,
   "id": "56785c04",
   "metadata": {},
   "outputs": [],
   "source": [
    "#Create a pipeline for dummy model using most_freq strategy\n",
    "dummy_model_pipe = Pipeline(steps=[\n",
    "    ('ct', CT),\n",
    "    ('dum', DummyClassifier(strategy='most_frequent'))\n",
    "])"
   ]
  },
  {
   "cell_type": "code",
   "execution_count": 12,
   "id": "b792441e",
   "metadata": {},
   "outputs": [
    {
     "data": {
      "text/plain": [
       "0.5523690773067331"
      ]
     },
     "execution_count": 12,
     "metadata": {},
     "output_type": "execute_result"
    }
   ],
   "source": [
    "dummy_model_pipe.fit(X_train, y_train)\n",
    "dummy_model_pipe.score(X_train,y_train)"
   ]
  },
  {
   "cell_type": "markdown",
   "id": "6323fb58",
   "metadata": {},
   "source": [
    "# Final Chosen Model XGB"
   ]
  },
  {
   "cell_type": "code",
   "execution_count": 11,
   "id": "af1e0ac7",
   "metadata": {},
   "outputs": [],
   "source": [
    "xgb_final_model = Pipeline(steps=[('CT', CT),\n",
    "                              ('xgb', XGBClassifier(\n",
    "                    max_depth=6,\n",
    "                    min_child_weight=.1,\n",
    "                    reg_alpha=1,\n",
    "                    n_estimators=300,\n",
    "                    learning_rate=.095,\n",
    "                    max_delta_step=.065,\n",
    "                              ))])"
   ]
  },
  {
   "cell_type": "code",
   "execution_count": 12,
   "id": "d3812867",
   "metadata": {
    "scrolled": true
   },
   "outputs": [
    {
     "name": "stderr",
     "output_type": "stream",
     "text": [
      "C:\\Users\\Kev\\anaconda3\\envs\\learn-env\\lib\\site-packages\\sklearn\\impute\\_base.py:42: FutureWarning: Unlike other reduction functions (e.g. `skew`, `kurtosis`), the default behavior of `mode` typically preserves the axis it acts along. In SciPy 1.11.0, this behavior will change: the default value of `keepdims` will become False, the `axis` over which the statistic is taken will be eliminated, and the value None will no longer be accepted. Set `keepdims` to True or False to avoid this warning.\n",
      "  mode = stats.mode(array)\n",
      "C:\\Users\\Kev\\anaconda3\\envs\\learn-env\\lib\\site-packages\\sklearn\\impute\\_base.py:42: FutureWarning: Unlike other reduction functions (e.g. `skew`, `kurtosis`), the default behavior of `mode` typically preserves the axis it acts along. In SciPy 1.11.0, this behavior will change: the default value of `keepdims` will become False, the `axis` over which the statistic is taken will be eliminated, and the value None will no longer be accepted. Set `keepdims` to True or False to avoid this warning.\n",
      "  mode = stats.mode(array)\n"
     ]
    },
    {
     "name": "stdout",
     "output_type": "stream",
     "text": [
      "[14:27:34] WARNING: C:\\Windows\\Temp\\abs_557yfx631l\\croots\\recipe\\xgboost-split_1659548953302\\work\\src\\learner.cc:1115: Starting in XGBoost 1.3.0, the default evaluation metric used with the objective 'multi:softprob' was changed from 'merror' to 'mlogloss'. Explicitly set eval_metric if you'd like to restore the old behavior.\n"
     ]
    },
    {
     "data": {
      "text/plain": [
       "Pipeline(steps=[('CT',\n",
       "                 ColumnTransformer(remainder='passthrough',\n",
       "                                   transformers=[('subpipe_num',\n",
       "                                                  Pipeline(steps=[('num_impute',\n",
       "                                                                   SimpleImputer()),\n",
       "                                                                  ('ss',\n",
       "                                                                   StandardScaler())]),\n",
       "                                                  <sklearn.compose._column_transformer.make_column_selector object at 0x000001B8C447A7F0>),\n",
       "                                                 ('subpipe_cat',\n",
       "                                                  Pipeline(steps=[('cat_impute',\n",
       "                                                                   SimpleImputer(strategy='most_frequent')),\n",
       "                                                                  ('ohe',\n",
       "                                                                   OneHo...\n",
       "                               interaction_constraints='', learning_rate=0.095,\n",
       "                               max_delta_step=0.065, max_depth=6,\n",
       "                               min_child_weight=0.1, missing=nan,\n",
       "                               monotone_constraints='()', n_estimators=300,\n",
       "                               n_jobs=8, num_parallel_tree=1,\n",
       "                               objective='multi:softprob', predictor='auto',\n",
       "                               random_state=0, reg_alpha=1, reg_lambda=1,\n",
       "                               scale_pos_weight=None, subsample=1,\n",
       "                               tree_method='exact', validate_parameters=1,\n",
       "                               verbosity=None))])"
      ]
     },
     "execution_count": 12,
     "metadata": {},
     "output_type": "execute_result"
    }
   ],
   "source": [
    "xgb_final_model.fit(X_train,y_train)"
   ]
  },
  {
   "cell_type": "code",
   "execution_count": 13,
   "id": "ba063cc1",
   "metadata": {},
   "outputs": [
    {
     "data": {
      "text/plain": [
       "0.7507896924355777"
      ]
     },
     "execution_count": 13,
     "metadata": {},
     "output_type": "execute_result"
    }
   ],
   "source": [
    "xgb_final_model.score(X_train,y_train)"
   ]
  },
  {
   "cell_type": "code",
   "execution_count": 14,
   "id": "572d187c",
   "metadata": {},
   "outputs": [
    {
     "data": {
      "text/plain": [
       "0.73290479884739"
      ]
     },
     "execution_count": 14,
     "metadata": {},
     "output_type": "execute_result"
    }
   ],
   "source": [
    "xgb_final_model.score(X_test,y_test)"
   ]
  },
  {
   "cell_type": "code",
   "execution_count": 35,
   "id": "b9f1c56d",
   "metadata": {},
   "outputs": [],
   "source": [
    "y_pred = xgb_final_model.predict(X_test)"
   ]
  },
  {
   "cell_type": "code",
   "execution_count": 36,
   "id": "63e2f0b5",
   "metadata": {},
   "outputs": [
    {
     "name": "stdout",
     "output_type": "stream",
     "text": [
      "Accuracy Score :  0.73290479884739\n",
      "Precision Score :  0.734212561278144\n",
      "Recall Score :  0.73290479884739\n",
      "f1 Score :  0.7331002644866886\n"
     ]
    }
   ],
   "source": [
    "print(\"Accuracy Score : \",accuracy_score(y_test, y_pred, \n",
    "                                           ))\n",
    "print(\"Precision Score : \",precision_score(y_test, y_pred, \n",
    "                                           average='weighted'))\n",
    "print(\"Recall Score : \",recall_score(y_test, y_pred, \n",
    "                                           average='weighted'))\n",
    "print(\"f1 Score : \",f1_score(y_test, y_pred, \n",
    "                                           average='weighted'))"
   ]
  },
  {
   "cell_type": "code",
   "execution_count": 37,
   "id": "27794b18",
   "metadata": {},
   "outputs": [
    {
     "name": "stdout",
     "output_type": "stream",
     "text": [
      "              precision    recall  f1-score   support\n",
      "\n",
      "        Good       0.58      0.62      0.60      1323\n",
      "        Poor       0.74      0.69      0.71      2719\n",
      "    Standard       0.77      0.79      0.78      4981\n",
      "\n",
      "    accuracy                           0.73      9023\n",
      "   macro avg       0.70      0.70      0.70      9023\n",
      "weighted avg       0.73      0.73      0.73      9023\n",
      "\n"
     ]
    }
   ],
   "source": [
    "print(classification_report(y_test, y_pred))"
   ]
  },
  {
   "cell_type": "code",
   "execution_count": 38,
   "id": "8f2b3a03",
   "metadata": {},
   "outputs": [],
   "source": [
    "import pickle\n",
    "pickle.dump(xgb_final_model, open(\"streamlit_model.sav\", 'wb'))"
   ]
  },
  {
   "cell_type": "code",
   "execution_count": 39,
   "id": "f11fdb74",
   "metadata": {},
   "outputs": [],
   "source": [
    "loaded_model = pickle.load(open(\"streamlit_model.sav\", 'rb'))"
   ]
  },
  {
   "cell_type": "code",
   "execution_count": 40,
   "id": "77d1bb66",
   "metadata": {
    "scrolled": false
   },
   "outputs": [
    {
     "data": {
      "text/plain": [
       "0.73290479884739"
      ]
     },
     "execution_count": 40,
     "metadata": {},
     "output_type": "execute_result"
    }
   ],
   "source": [
    "loaded_model.score(X_test, y_test)"
   ]
  },
  {
   "cell_type": "code",
   "execution_count": 41,
   "id": "012e8b14",
   "metadata": {},
   "outputs": [
    {
     "data": {
      "text/html": [
       "<div>\n",
       "<style scoped>\n",
       "    .dataframe tbody tr th:only-of-type {\n",
       "        vertical-align: middle;\n",
       "    }\n",
       "\n",
       "    .dataframe tbody tr th {\n",
       "        vertical-align: top;\n",
       "    }\n",
       "\n",
       "    .dataframe thead th {\n",
       "        text-align: right;\n",
       "    }\n",
       "</style>\n",
       "<table border=\"1\" class=\"dataframe\">\n",
       "  <thead>\n",
       "    <tr style=\"text-align: right;\">\n",
       "      <th></th>\n",
       "      <th>Age</th>\n",
       "      <th>Annual_Income</th>\n",
       "      <th>Monthly_Inhand_Salary</th>\n",
       "      <th>Num_Bank_Accounts</th>\n",
       "      <th>Num_Credit_Card</th>\n",
       "      <th>Num_of_Loan</th>\n",
       "      <th>Num_Credit_Inquiries</th>\n",
       "      <th>Credit_Mix</th>\n",
       "      <th>Outstanding_Debt</th>\n",
       "      <th>Credit_Utilization_Ratio</th>\n",
       "      <th>Credit_History_Age</th>\n",
       "      <th>Payment_of_Min_Amount</th>\n",
       "      <th>Amount_invested_monthly</th>\n",
       "    </tr>\n",
       "  </thead>\n",
       "  <tbody>\n",
       "    <tr>\n",
       "      <th>40190</th>\n",
       "      <td>53.0</td>\n",
       "      <td>26420.21</td>\n",
       "      <td>2462.684167</td>\n",
       "      <td>8</td>\n",
       "      <td>3</td>\n",
       "      <td>1.0</td>\n",
       "      <td>1.0</td>\n",
       "      <td>other</td>\n",
       "      <td>289.24</td>\n",
       "      <td>30.621614</td>\n",
       "      <td>33.0</td>\n",
       "      <td>No</td>\n",
       "      <td>32.294931</td>\n",
       "    </tr>\n",
       "    <tr>\n",
       "      <th>5245</th>\n",
       "      <td>33.0</td>\n",
       "      <td>18827.29</td>\n",
       "      <td>1484.940833</td>\n",
       "      <td>9</td>\n",
       "      <td>6</td>\n",
       "      <td>3.0</td>\n",
       "      <td>10.0</td>\n",
       "      <td>Bad</td>\n",
       "      <td>1370.06</td>\n",
       "      <td>27.681395</td>\n",
       "      <td>NaN</td>\n",
       "      <td>Yes</td>\n",
       "      <td>41.890857</td>\n",
       "    </tr>\n",
       "    <tr>\n",
       "      <th>38919</th>\n",
       "      <td>27.0</td>\n",
       "      <td>41848.26</td>\n",
       "      <td>3578.355000</td>\n",
       "      <td>8</td>\n",
       "      <td>7</td>\n",
       "      <td>1.0</td>\n",
       "      <td>2.0</td>\n",
       "      <td>Standard</td>\n",
       "      <td>616.98</td>\n",
       "      <td>23.211877</td>\n",
       "      <td>32.0</td>\n",
       "      <td>No</td>\n",
       "      <td>154.123782</td>\n",
       "    </tr>\n",
       "    <tr>\n",
       "      <th>3401</th>\n",
       "      <td>36.0</td>\n",
       "      <td>58537.38</td>\n",
       "      <td>4688.115000</td>\n",
       "      <td>7</td>\n",
       "      <td>5</td>\n",
       "      <td>4.0</td>\n",
       "      <td>NaN</td>\n",
       "      <td>other</td>\n",
       "      <td>259.63</td>\n",
       "      <td>24.096692</td>\n",
       "      <td>23.0</td>\n",
       "      <td>No</td>\n",
       "      <td>93.471162</td>\n",
       "    </tr>\n",
       "    <tr>\n",
       "      <th>20178</th>\n",
       "      <td>37.0</td>\n",
       "      <td>59665.20</td>\n",
       "      <td>4870.100000</td>\n",
       "      <td>6</td>\n",
       "      <td>6</td>\n",
       "      <td>4.0</td>\n",
       "      <td>10.0</td>\n",
       "      <td>Bad</td>\n",
       "      <td>2288.25</td>\n",
       "      <td>31.330589</td>\n",
       "      <td>9.0</td>\n",
       "      <td>Yes</td>\n",
       "      <td>58.201790</td>\n",
       "    </tr>\n",
       "  </tbody>\n",
       "</table>\n",
       "</div>"
      ],
      "text/plain": [
       "        Age  Annual_Income  Monthly_Inhand_Salary  Num_Bank_Accounts  \\\n",
       "40190  53.0       26420.21            2462.684167                  8   \n",
       "5245   33.0       18827.29            1484.940833                  9   \n",
       "38919  27.0       41848.26            3578.355000                  8   \n",
       "3401   36.0       58537.38            4688.115000                  7   \n",
       "20178  37.0       59665.20            4870.100000                  6   \n",
       "\n",
       "       Num_Credit_Card  Num_of_Loan  Num_Credit_Inquiries Credit_Mix  \\\n",
       "40190                3          1.0                   1.0      other   \n",
       "5245                 6          3.0                  10.0        Bad   \n",
       "38919                7          1.0                   2.0   Standard   \n",
       "3401                 5          4.0                   NaN      other   \n",
       "20178                6          4.0                  10.0        Bad   \n",
       "\n",
       "       Outstanding_Debt  Credit_Utilization_Ratio  Credit_History_Age  \\\n",
       "40190            289.24                 30.621614                33.0   \n",
       "5245            1370.06                 27.681395                 NaN   \n",
       "38919            616.98                 23.211877                32.0   \n",
       "3401             259.63                 24.096692                23.0   \n",
       "20178           2288.25                 31.330589                 9.0   \n",
       "\n",
       "      Payment_of_Min_Amount  Amount_invested_monthly  \n",
       "40190                    No                32.294931  \n",
       "5245                    Yes                41.890857  \n",
       "38919                    No               154.123782  \n",
       "3401                     No                93.471162  \n",
       "20178                   Yes                58.201790  "
      ]
     },
     "execution_count": 41,
     "metadata": {},
     "output_type": "execute_result"
    }
   ],
   "source": [
    "X_test.head()"
   ]
  },
  {
   "cell_type": "code",
   "execution_count": 42,
   "id": "a367f8e0",
   "metadata": {
    "scrolled": true
   },
   "outputs": [
    {
     "data": {
      "text/html": [
       "<div>\n",
       "<style scoped>\n",
       "    .dataframe tbody tr th:only-of-type {\n",
       "        vertical-align: middle;\n",
       "    }\n",
       "\n",
       "    .dataframe tbody tr th {\n",
       "        vertical-align: top;\n",
       "    }\n",
       "\n",
       "    .dataframe thead th {\n",
       "        text-align: right;\n",
       "    }\n",
       "</style>\n",
       "<table border=\"1\" class=\"dataframe\">\n",
       "  <thead>\n",
       "    <tr style=\"text-align: right;\">\n",
       "      <th></th>\n",
       "      <th>Age</th>\n",
       "      <th>Annual_Income</th>\n",
       "      <th>Monthly_Inhand_Salary</th>\n",
       "      <th>Num_Bank_Accounts</th>\n",
       "      <th>Num_Credit_Card</th>\n",
       "      <th>Num_of_Loan</th>\n",
       "      <th>Num_Credit_Inquiries</th>\n",
       "      <th>Credit_Mix</th>\n",
       "      <th>Outstanding_Debt</th>\n",
       "      <th>Credit_Utilization_Ratio</th>\n",
       "      <th>Credit_History_Age</th>\n",
       "      <th>Payment_of_Min_Amount</th>\n",
       "      <th>Amount_invested_monthly</th>\n",
       "    </tr>\n",
       "  </thead>\n",
       "  <tbody>\n",
       "    <tr>\n",
       "      <th>5245</th>\n",
       "      <td>33.0</td>\n",
       "      <td>18827.29</td>\n",
       "      <td>1484.940833</td>\n",
       "      <td>9</td>\n",
       "      <td>6</td>\n",
       "      <td>3.0</td>\n",
       "      <td>10.0</td>\n",
       "      <td>Bad</td>\n",
       "      <td>1370.06</td>\n",
       "      <td>27.681395</td>\n",
       "      <td>NaN</td>\n",
       "      <td>Yes</td>\n",
       "      <td>41.890857</td>\n",
       "    </tr>\n",
       "  </tbody>\n",
       "</table>\n",
       "</div>"
      ],
      "text/plain": [
       "       Age  Annual_Income  Monthly_Inhand_Salary  Num_Bank_Accounts  \\\n",
       "5245  33.0       18827.29            1484.940833                  9   \n",
       "\n",
       "      Num_Credit_Card  Num_of_Loan  Num_Credit_Inquiries Credit_Mix  \\\n",
       "5245                6          3.0                  10.0        Bad   \n",
       "\n",
       "      Outstanding_Debt  Credit_Utilization_Ratio  Credit_History_Age  \\\n",
       "5245           1370.06                 27.681395                 NaN   \n",
       "\n",
       "     Payment_of_Min_Amount  Amount_invested_monthly  \n",
       "5245                   Yes                41.890857  "
      ]
     },
     "execution_count": 42,
     "metadata": {},
     "output_type": "execute_result"
    }
   ],
   "source": [
    "X_test[1:2]"
   ]
  },
  {
   "cell_type": "code",
   "execution_count": 43,
   "id": "b1df6cbc",
   "metadata": {},
   "outputs": [
    {
     "data": {
      "text/plain": [
       "Index(['Age', 'Annual_Income', 'Monthly_Inhand_Salary', 'Num_Bank_Accounts',\n",
       "       'Num_Credit_Card', 'Num_of_Loan', 'Num_Credit_Inquiries', 'Credit_Mix',\n",
       "       'Outstanding_Debt', 'Credit_Utilization_Ratio', 'Credit_History_Age',\n",
       "       'Payment_of_Min_Amount', 'Amount_invested_monthly'],\n",
       "      dtype='object')"
      ]
     },
     "execution_count": 43,
     "metadata": {},
     "output_type": "execute_result"
    }
   ],
   "source": [
    "X_test.columns"
   ]
  },
  {
   "cell_type": "code",
   "execution_count": 44,
   "id": "14dd8b84",
   "metadata": {},
   "outputs": [
    {
     "data": {
      "text/plain": [
       "5245    Poor\n",
       "Name: Credit_Score, dtype: object"
      ]
     },
     "execution_count": 44,
     "metadata": {},
     "output_type": "execute_result"
    }
   ],
   "source": [
    "y_test[1:2]"
   ]
  },
  {
   "cell_type": "code",
   "execution_count": 45,
   "id": "9b1f0f8e",
   "metadata": {
    "scrolled": true
   },
   "outputs": [
    {
     "data": {
      "text/plain": [
       "array(['Poor'], dtype=object)"
      ]
     },
     "execution_count": 45,
     "metadata": {},
     "output_type": "execute_result"
    }
   ],
   "source": [
    "loaded_model.predict(X_test[1:2])"
   ]
  },
  {
   "cell_type": "code",
   "execution_count": 46,
   "id": "fc7ed9dc",
   "metadata": {},
   "outputs": [],
   "source": [
    "used_columns = ['Age', 'Annual_Income', 'Monthly_Inhand_Salary', 'Num_Bank_Accounts',\n",
    "       'Num_Credit_Card', 'Num_of_Loan', 'Num_Credit_Inquiries', 'Credit_Mix',\n",
    "       'Outstanding_Debt', 'Credit_Utilization_Ratio', 'Credit_History_Age',\n",
    "       'Payment_of_Min_Amount', 'Amount_invested_monthly']"
   ]
  },
  {
   "cell_type": "code",
   "execution_count": 47,
   "id": "18d78a90",
   "metadata": {},
   "outputs": [],
   "source": [
    "example_row = [33,40000,2000,6,8,4,9,\"Standard\",3500,29,7,\"Yes\",100]"
   ]
  },
  {
   "cell_type": "code",
   "execution_count": 48,
   "id": "a9d23b2a",
   "metadata": {},
   "outputs": [],
   "source": [
    "new_test_sample = pd.DataFrame(dict(zip(used_columns,example_row)),index=[0])"
   ]
  },
  {
   "cell_type": "code",
   "execution_count": 49,
   "id": "d3613013",
   "metadata": {},
   "outputs": [
    {
     "data": {
      "text/plain": [
       "array(['Poor'], dtype=object)"
      ]
     },
     "execution_count": 49,
     "metadata": {},
     "output_type": "execute_result"
    }
   ],
   "source": [
    "loaded_model.predict(new_test_sample)"
   ]
  },
  {
   "cell_type": "code",
   "execution_count": 50,
   "id": "8c27b619",
   "metadata": {},
   "outputs": [
    {
     "data": {
      "text/plain": [
       "array([[0.03505686, 0.72929126, 0.23565188]], dtype=float32)"
      ]
     },
     "execution_count": 50,
     "metadata": {},
     "output_type": "execute_result"
    }
   ],
   "source": [
    "loaded_model.predict_proba(new_test_sample)"
   ]
  }
 ],
 "metadata": {
  "kernelspec": {
   "display_name": "Python (learn-env)",
   "language": "python",
   "name": "learn-env"
  },
  "language_info": {
   "codemirror_mode": {
    "name": "ipython",
    "version": 3
   },
   "file_extension": ".py",
   "mimetype": "text/x-python",
   "name": "python",
   "nbconvert_exporter": "python",
   "pygments_lexer": "ipython3",
   "version": "3.8.5"
  }
 },
 "nbformat": 4,
 "nbformat_minor": 5
}
