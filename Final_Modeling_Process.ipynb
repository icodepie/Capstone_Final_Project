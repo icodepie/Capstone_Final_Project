{
 "cells": [
  {
   "cell_type": "markdown",
   "id": "7e9cef4b",
   "metadata": {},
   "source": [
    "# Imports and loading in cleaned data"
   ]
  },
  {
   "cell_type": "code",
   "execution_count": 11,
   "id": "db4e8f0e",
   "metadata": {},
   "outputs": [],
   "source": [
    "import pandas as pd\n",
    "import numpy as np\n",
    "from matplotlib import pyplot as plt\n",
    "import seaborn as sns\n",
    "from sklearn.model_selection import train_test_split, GridSearchCV, cross_val_score\n",
    "from sklearn.pipeline import Pipeline\n",
    "from sklearn.preprocessing import StandardScaler, OneHotEncoder, FunctionTransformer\n",
    "from sklearn.impute import SimpleImputer\n",
    "from sklearn.compose import ColumnTransformer,  make_column_selector as selector\n",
    "from sklearn.linear_model import LogisticRegression\n",
    "from sklearn.ensemble import RandomForestClassifier,GradientBoostingClassifier,AdaBoostClassifier\n",
    "from sklearn.metrics import plot_confusion_matrix, recall_score,\\\n",
    "    accuracy_score, precision_score, f1_score\n",
    "from sklearn.dummy import DummyClassifier\n",
    "from sklearn.tree import DecisionTreeClassifier\n",
    "from sklearn.metrics import plot_roc_curve\n",
    "from sklearn.model_selection import RandomizedSearchCV\n",
    "from xgboost import XGBClassifier,XGBRegressor\n",
    "from sklearn.decomposition import PCA\n",
    "from imblearn.over_sampling import SMOTE\n",
    "from imblearn.pipeline import Pipeline as ImPipeline\n",
    "from sklearn.svm import SVC\n",
    "from sklearn.metrics import classification_report\n",
    "import warnings\n",
    "warnings.filterwarnings(\"ignore\", category=UserWarning)"
   ]
  },
  {
   "cell_type": "code",
   "execution_count": 12,
   "id": "60b484b7",
   "metadata": {},
   "outputs": [],
   "source": [
    "df = pd.read_csv('./data/cleaned_data.csv')"
   ]
  },
  {
   "cell_type": "code",
   "execution_count": 15,
   "id": "044eeeac",
   "metadata": {},
   "outputs": [
    {
     "name": "stdout",
     "output_type": "stream",
     "text": [
      "<class 'pandas.core.frame.DataFrame'>\n",
      "RangeIndex: 45113 entries, 0 to 45112\n",
      "Data columns (total 20 columns):\n",
      " #   Column                    Non-Null Count  Dtype  \n",
      "---  ------                    --------------  -----  \n",
      " 0   Unnamed: 0                45113 non-null  int64  \n",
      " 1   Month                     45113 non-null  object \n",
      " 2   Age                       45113 non-null  float64\n",
      " 3   Annual_Income             45113 non-null  float64\n",
      " 4   Monthly_Inhand_Salary     45113 non-null  float64\n",
      " 5   Num_Bank_Accounts         45113 non-null  int64  \n",
      " 6   Num_Credit_Card           45113 non-null  int64  \n",
      " 7   Interest_Rate             45113 non-null  int64  \n",
      " 8   Num_of_Loan               45113 non-null  float64\n",
      " 9   Delay_from_due_date       45113 non-null  int64  \n",
      " 10  Num_of_Delayed_Payment    45113 non-null  float64\n",
      " 11  Num_Credit_Inquiries      44239 non-null  float64\n",
      " 12  Credit_Mix                45113 non-null  object \n",
      " 13  Outstanding_Debt          45113 non-null  float64\n",
      " 14  Credit_Utilization_Ratio  45113 non-null  float64\n",
      " 15  Credit_History_Age        40948 non-null  float64\n",
      " 16  Payment_of_Min_Amount     45113 non-null  object \n",
      " 17  Amount_invested_monthly   45113 non-null  float64\n",
      " 18  Monthly_Balance           45113 non-null  float64\n",
      " 19  Credit_Score              45113 non-null  object \n",
      "dtypes: float64(11), int64(5), object(4)\n",
      "memory usage: 6.9+ MB\n"
     ]
    }
   ],
   "source": [
    "df.info()"
   ]
  },
  {
   "cell_type": "code",
   "execution_count": 9,
   "id": "aa2cf01a",
   "metadata": {
    "scrolled": true
   },
   "outputs": [
    {
     "data": {
      "text/plain": [
       "Standard    24916\n",
       "Poor        13407\n",
       "Good         6790\n",
       "Name: Credit_Score, dtype: int64"
      ]
     },
     "execution_count": 9,
     "metadata": {},
     "output_type": "execute_result"
    }
   ],
   "source": [
    "df['Credit_Score'].value_counts()"
   ]
  },
  {
   "cell_type": "markdown",
   "id": "83809873",
   "metadata": {},
   "source": [
    "# Test Train Split "
   ]
  },
  {
   "cell_type": "code",
   "execution_count": 16,
   "id": "32d7b9b0",
   "metadata": {},
   "outputs": [],
   "source": [
    "X = df.drop(['Credit_Score','Unnamed: 0'], axis=1)\n",
    "y = df['Credit_Score']\n",
    "\n",
    "X_train, X_test, y_train, y_test = train_test_split(X, y, random_state=42,test_size=.2)"
   ]
  },
  {
   "cell_type": "code",
   "execution_count": 17,
   "id": "dec30ab5",
   "metadata": {
    "scrolled": true
   },
   "outputs": [
    {
     "name": "stdout",
     "output_type": "stream",
     "text": [
      "(36090, 18) (9023, 18)\n"
     ]
    }
   ],
   "source": [
    "print(X_train.shape, X_test.shape)"
   ]
  },
  {
   "cell_type": "code",
   "execution_count": 18,
   "id": "9f781b80",
   "metadata": {},
   "outputs": [
    {
     "data": {
      "text/html": [
       "<div>\n",
       "<style scoped>\n",
       "    .dataframe tbody tr th:only-of-type {\n",
       "        vertical-align: middle;\n",
       "    }\n",
       "\n",
       "    .dataframe tbody tr th {\n",
       "        vertical-align: top;\n",
       "    }\n",
       "\n",
       "    .dataframe thead th {\n",
       "        text-align: right;\n",
       "    }\n",
       "</style>\n",
       "<table border=\"1\" class=\"dataframe\">\n",
       "  <thead>\n",
       "    <tr style=\"text-align: right;\">\n",
       "      <th></th>\n",
       "      <th>Month</th>\n",
       "      <th>Age</th>\n",
       "      <th>Annual_Income</th>\n",
       "      <th>Monthly_Inhand_Salary</th>\n",
       "      <th>Num_Bank_Accounts</th>\n",
       "      <th>Num_Credit_Card</th>\n",
       "      <th>Interest_Rate</th>\n",
       "      <th>Num_of_Loan</th>\n",
       "      <th>Delay_from_due_date</th>\n",
       "      <th>Num_of_Delayed_Payment</th>\n",
       "      <th>Num_Credit_Inquiries</th>\n",
       "      <th>Credit_Mix</th>\n",
       "      <th>Outstanding_Debt</th>\n",
       "      <th>Credit_Utilization_Ratio</th>\n",
       "      <th>Credit_History_Age</th>\n",
       "      <th>Payment_of_Min_Amount</th>\n",
       "      <th>Amount_invested_monthly</th>\n",
       "      <th>Monthly_Balance</th>\n",
       "    </tr>\n",
       "  </thead>\n",
       "  <tbody>\n",
       "    <tr>\n",
       "      <th>0</th>\n",
       "      <td>January</td>\n",
       "      <td>23.0</td>\n",
       "      <td>19114.12</td>\n",
       "      <td>1824.843333</td>\n",
       "      <td>3</td>\n",
       "      <td>4</td>\n",
       "      <td>3</td>\n",
       "      <td>4.0</td>\n",
       "      <td>3</td>\n",
       "      <td>7.0</td>\n",
       "      <td>4.0</td>\n",
       "      <td>other</td>\n",
       "      <td>809.98</td>\n",
       "      <td>26.822620</td>\n",
       "      <td>22.0</td>\n",
       "      <td>No</td>\n",
       "      <td>80.415295</td>\n",
       "      <td>312.494089</td>\n",
       "    </tr>\n",
       "    <tr>\n",
       "      <th>1</th>\n",
       "      <td>July</td>\n",
       "      <td>23.0</td>\n",
       "      <td>19114.12</td>\n",
       "      <td>1824.843333</td>\n",
       "      <td>3</td>\n",
       "      <td>4</td>\n",
       "      <td>3</td>\n",
       "      <td>4.0</td>\n",
       "      <td>3</td>\n",
       "      <td>8.0</td>\n",
       "      <td>4.0</td>\n",
       "      <td>Good</td>\n",
       "      <td>809.98</td>\n",
       "      <td>22.537593</td>\n",
       "      <td>22.0</td>\n",
       "      <td>No</td>\n",
       "      <td>178.344067</td>\n",
       "      <td>244.565317</td>\n",
       "    </tr>\n",
       "    <tr>\n",
       "      <th>2</th>\n",
       "      <td>August</td>\n",
       "      <td>23.0</td>\n",
       "      <td>19114.12</td>\n",
       "      <td>1824.843333</td>\n",
       "      <td>3</td>\n",
       "      <td>4</td>\n",
       "      <td>3</td>\n",
       "      <td>4.0</td>\n",
       "      <td>3</td>\n",
       "      <td>6.0</td>\n",
       "      <td>4.0</td>\n",
       "      <td>Good</td>\n",
       "      <td>809.98</td>\n",
       "      <td>23.933795</td>\n",
       "      <td>NaN</td>\n",
       "      <td>No</td>\n",
       "      <td>24.785217</td>\n",
       "      <td>358.124168</td>\n",
       "    </tr>\n",
       "    <tr>\n",
       "      <th>3</th>\n",
       "      <td>January</td>\n",
       "      <td>28.0</td>\n",
       "      <td>34847.84</td>\n",
       "      <td>3037.986667</td>\n",
       "      <td>2</td>\n",
       "      <td>4</td>\n",
       "      <td>6</td>\n",
       "      <td>1.0</td>\n",
       "      <td>3</td>\n",
       "      <td>4.0</td>\n",
       "      <td>2.0</td>\n",
       "      <td>Good</td>\n",
       "      <td>605.03</td>\n",
       "      <td>24.464031</td>\n",
       "      <td>26.0</td>\n",
       "      <td>No</td>\n",
       "      <td>104.291825</td>\n",
       "      <td>470.690627</td>\n",
       "    </tr>\n",
       "    <tr>\n",
       "      <th>4</th>\n",
       "      <td>February</td>\n",
       "      <td>28.0</td>\n",
       "      <td>34847.84</td>\n",
       "      <td>3037.986667</td>\n",
       "      <td>2</td>\n",
       "      <td>4</td>\n",
       "      <td>6</td>\n",
       "      <td>1.0</td>\n",
       "      <td>7</td>\n",
       "      <td>1.0</td>\n",
       "      <td>2.0</td>\n",
       "      <td>Good</td>\n",
       "      <td>605.03</td>\n",
       "      <td>38.550848</td>\n",
       "      <td>26.0</td>\n",
       "      <td>No</td>\n",
       "      <td>40.391238</td>\n",
       "      <td>484.591214</td>\n",
       "    </tr>\n",
       "  </tbody>\n",
       "</table>\n",
       "</div>"
      ],
      "text/plain": [
       "      Month   Age  Annual_Income  Monthly_Inhand_Salary  Num_Bank_Accounts  \\\n",
       "0   January  23.0       19114.12            1824.843333                  3   \n",
       "1      July  23.0       19114.12            1824.843333                  3   \n",
       "2    August  23.0       19114.12            1824.843333                  3   \n",
       "3   January  28.0       34847.84            3037.986667                  2   \n",
       "4  February  28.0       34847.84            3037.986667                  2   \n",
       "\n",
       "   Num_Credit_Card  Interest_Rate  Num_of_Loan  Delay_from_due_date  \\\n",
       "0                4              3          4.0                    3   \n",
       "1                4              3          4.0                    3   \n",
       "2                4              3          4.0                    3   \n",
       "3                4              6          1.0                    3   \n",
       "4                4              6          1.0                    7   \n",
       "\n",
       "   Num_of_Delayed_Payment  Num_Credit_Inquiries Credit_Mix  Outstanding_Debt  \\\n",
       "0                     7.0                   4.0      other            809.98   \n",
       "1                     8.0                   4.0       Good            809.98   \n",
       "2                     6.0                   4.0       Good            809.98   \n",
       "3                     4.0                   2.0       Good            605.03   \n",
       "4                     1.0                   2.0       Good            605.03   \n",
       "\n",
       "   Credit_Utilization_Ratio  Credit_History_Age Payment_of_Min_Amount  \\\n",
       "0                 26.822620                22.0                    No   \n",
       "1                 22.537593                22.0                    No   \n",
       "2                 23.933795                 NaN                    No   \n",
       "3                 24.464031                26.0                    No   \n",
       "4                 38.550848                26.0                    No   \n",
       "\n",
       "   Amount_invested_monthly  Monthly_Balance  \n",
       "0                80.415295       312.494089  \n",
       "1               178.344067       244.565317  \n",
       "2                24.785217       358.124168  \n",
       "3               104.291825       470.690627  \n",
       "4                40.391238       484.591214  "
      ]
     },
     "execution_count": 18,
     "metadata": {},
     "output_type": "execute_result"
    }
   ],
   "source": [
    "X.head()"
   ]
  },
  {
   "cell_type": "markdown",
   "id": "eee0b516",
   "metadata": {},
   "source": [
    "# Preprocessing Pipeline"
   ]
  },
  {
   "cell_type": "code",
   "execution_count": 19,
   "id": "adce27dd",
   "metadata": {},
   "outputs": [],
   "source": [
    "#subpipes that scale numeric data and use one hot encoder on categorical \n",
    "subpipe_num = Pipeline(steps=[\n",
    "    ('num_impute', SimpleImputer(strategy='mean')),\n",
    "    ('ss', StandardScaler())\n",
    "])\n",
    "\n",
    "\n",
    "subpipe_cat = Pipeline(steps=[\n",
    "    ('cat_impute',SimpleImputer(strategy='most_frequent')),\n",
    "    ('ohe', OneHotEncoder(sparse=False, handle_unknown='ignore'))\n",
    "])"
   ]
  },
  {
   "cell_type": "code",
   "execution_count": 20,
   "id": "2208aaa1",
   "metadata": {},
   "outputs": [],
   "source": [
    "#Create a column transformer to apply the subpipes and transform the data\n",
    "CT = ColumnTransformer(transformers=[\n",
    "    ('subpipe_num', subpipe_num, selector(dtype_include=np.number)),\n",
    "     ('subpipe_cat', subpipe_cat, selector(dtype_include=object))], remainder='passthrough')"
   ]
  },
  {
   "cell_type": "markdown",
   "id": "e0b9d810",
   "metadata": {},
   "source": [
    "# Baseline Dummy Model"
   ]
  },
  {
   "cell_type": "code",
   "execution_count": 21,
   "id": "737ba9ae",
   "metadata": {},
   "outputs": [],
   "source": [
    "#Create a pipeline for dummy model using most_freq strategy\n",
    "dummy_model_pipe = Pipeline(steps=[\n",
    "    ('ct', CT),\n",
    "    ('dum', DummyClassifier(strategy='most_frequent'))\n",
    "])"
   ]
  },
  {
   "cell_type": "code",
   "execution_count": 22,
   "id": "b9dd3937",
   "metadata": {},
   "outputs": [
    {
     "data": {
      "text/plain": [
       "0.5523690773067331"
      ]
     },
     "execution_count": 22,
     "metadata": {},
     "output_type": "execute_result"
    }
   ],
   "source": [
    "dummy_model_pipe.fit(X_train, y_train)\n",
    "dummy_model_pipe.score(X_train,y_train)"
   ]
  },
  {
   "cell_type": "markdown",
   "id": "6255c2b1",
   "metadata": {},
   "source": [
    "# Simple Untuned Models Without SMOTE"
   ]
  },
  {
   "cell_type": "code",
   "execution_count": 57,
   "id": "787010be",
   "metadata": {},
   "outputs": [],
   "source": [
    "classifiers = [\n",
    "    XGBClassifier(random_state=42),\n",
    "    DecisionTreeClassifier(random_state=42),\n",
    "    RandomForestClassifier(random_state=42),\n",
    "    LogisticRegression(random_state=42,max_iter=1000),\n",
    "    SVC(random_state=42)\n",
    "     ]"
   ]
  },
  {
   "cell_type": "code",
   "execution_count": 58,
   "id": "3240577d",
   "metadata": {},
   "outputs": [
    {
     "name": "stdout",
     "output_type": "stream",
     "text": [
      "XGBClassifier(base_score=0.5, booster='gbtree', colsample_bylevel=1,\n",
      "              colsample_bynode=1, colsample_bytree=1, enable_categorical=False,\n",
      "              gamma=0, gpu_id=-1, importance_type=None,\n",
      "              interaction_constraints='', learning_rate=0.300000012,\n",
      "              max_delta_step=0, max_depth=6, min_child_weight=1, missing=nan,\n",
      "              monotone_constraints='()', n_estimators=100, n_jobs=8,\n",
      "              num_parallel_tree=1, objective='multi:softprob', predictor='auto',\n",
      "              random_state=42, reg_alpha=0, reg_lambda=1, scale_pos_weight=None,\n",
      "              subsample=1, tree_method='exact', validate_parameters=1,\n",
      "              verbosity=None)\n",
      "train model score: 0.850\n",
      "test model score: 0.773\n",
      "DecisionTreeClassifier(random_state=42)\n",
      "train model score: 1.000\n",
      "test model score: 0.689\n",
      "RandomForestClassifier(random_state=42)\n",
      "train model score: 1.000\n",
      "test model score: 0.791\n",
      "LogisticRegression(max_iter=1000, random_state=42)\n",
      "train model score: 0.662\n",
      "test model score: 0.661\n",
      "SVC(random_state=42)\n",
      "train model score: 0.732\n",
      "test model score: 0.722\n"
     ]
    }
   ],
   "source": [
    "for classifier in classifiers:\n",
    "    steps = [\n",
    "        ('ct', CT),\n",
    "        ('clf', classifier) ]\n",
    "    pipeline = ImPipeline(steps)\n",
    "    pipeline.fit(X_train, y_train)   \n",
    "    print(classifier)\n",
    "    print(\"train model score: %.3f\" % pipeline.score(X_train, y_train))\n",
    "    print(\"test model score: %.3f\" % pipeline.score(X_test, y_test))"
   ]
  },
  {
   "cell_type": "markdown",
   "id": "442e296a",
   "metadata": {},
   "source": [
    "# Simple Untuned Models With SMOTE"
   ]
  },
  {
   "cell_type": "code",
   "execution_count": 59,
   "id": "84f3194d",
   "metadata": {
    "scrolled": false
   },
   "outputs": [
    {
     "name": "stdout",
     "output_type": "stream",
     "text": [
      "XGBClassifier(base_score=0.5, booster='gbtree', colsample_bylevel=1,\n",
      "              colsample_bynode=1, colsample_bytree=1, enable_categorical=False,\n",
      "              gamma=0, gpu_id=-1, importance_type=None,\n",
      "              interaction_constraints='', learning_rate=0.300000012,\n",
      "              max_delta_step=0, max_depth=6, min_child_weight=1, missing=nan,\n",
      "              monotone_constraints='()', n_estimators=100, n_jobs=8,\n",
      "              num_parallel_tree=1, objective='multi:softprob', predictor='auto',\n",
      "              random_state=42, reg_alpha=0, reg_lambda=1, scale_pos_weight=None,\n",
      "              subsample=1, tree_method='exact', validate_parameters=1,\n",
      "              verbosity=None)\n",
      "train model score: 0.837\n",
      "test model score: 0.768\n",
      "DecisionTreeClassifier(random_state=42)\n",
      "train model score: 1.000\n",
      "test model score: 0.677\n",
      "RandomForestClassifier(random_state=42)\n",
      "train model score: 1.000\n",
      "test model score: 0.780\n",
      "LogisticRegression(max_iter=1000, random_state=42)\n",
      "train model score: 0.681\n",
      "test model score: 0.682\n",
      "SVC(random_state=42)\n",
      "train model score: 0.714\n",
      "test model score: 0.699\n"
     ]
    }
   ],
   "source": [
    "for classifier in classifiers:\n",
    "    steps = [\n",
    "        ('ct', CT),\n",
    "        ('sm',SMOTE(random_state=42)),\n",
    "        ('clf', classifier) ]\n",
    "    pipeline = ImPipeline(steps)\n",
    "    pipeline.fit(X_train, y_train)   \n",
    "    print(classifier)\n",
    "    print(\"train model score: %.3f\" % pipeline.score(X_train, y_train))\n",
    "    print(\"test model score: %.3f\" % pipeline.score(X_test, y_test))"
   ]
  },
  {
   "cell_type": "markdown",
   "id": "e9a512c8",
   "metadata": {},
   "source": [
    "# GridSearch LogReg Model (Did not perform well after GS)"
   ]
  },
  {
   "cell_type": "code",
   "execution_count": 292,
   "id": "4a6ecedd",
   "metadata": {},
   "outputs": [],
   "source": [
    "#LogisticRegression().get_params().keys()"
   ]
  },
  {
   "cell_type": "code",
   "execution_count": 293,
   "id": "1e329474",
   "metadata": {},
   "outputs": [],
   "source": [
    "#log_model = ImPipeline(steps=[('CT', CT),\n",
    "                              #('sm',SMOTE(random_state=42)),\n",
    "                             #('log', LogisticRegression(random_state=42))])"
   ]
  },
  {
   "cell_type": "code",
   "execution_count": 294,
   "id": "19743da4",
   "metadata": {},
   "outputs": [],
   "source": [
    "#parameters = {\"log__C\": [.1,.01,.001,.0001],\n",
    "              #\"log__solver\": ['newton-cg', 'lbfgs', 'liblinear'],\n",
    "              #\"log__multi_class\":['auto', 'ovr'],\n",
    "              #\"log__max_iter\":[1000]\n",
    "             #}"
   ]
  },
  {
   "cell_type": "code",
   "execution_count": 295,
   "id": "ae8f7027",
   "metadata": {},
   "outputs": [],
   "source": [
    "#gs_log = GridSearchCV(log_model,parameters, cv=5)"
   ]
  },
  {
   "cell_type": "code",
   "execution_count": 296,
   "id": "81930466",
   "metadata": {},
   "outputs": [],
   "source": [
    "#gs_log.fit(X_train,y_train)"
   ]
  },
  {
   "cell_type": "code",
   "execution_count": 297,
   "id": "02bd1dd2",
   "metadata": {},
   "outputs": [],
   "source": [
    "#gs_log.best_params_"
   ]
  },
  {
   "cell_type": "code",
   "execution_count": 298,
   "id": "5b320bf0",
   "metadata": {},
   "outputs": [],
   "source": [
    "#gs_log_model = ImPipeline(steps=[('CT', CT),\n",
    "                               #('sm',SMOTE(random_state=42)),\n",
    "                              #('log', LogisticRegression(random_state=42,C=0.1,multi_class='auto',solver='liblinear',max_iter=1000))])"
   ]
  },
  {
   "cell_type": "code",
   "execution_count": 299,
   "id": "029810fe",
   "metadata": {
    "scrolled": true
   },
   "outputs": [],
   "source": [
    "#gs_log_model.fit(X_train,y_train)"
   ]
  },
  {
   "cell_type": "code",
   "execution_count": 300,
   "id": "71500452",
   "metadata": {},
   "outputs": [],
   "source": [
    "#gs_log_model.score(X_train,y_train)"
   ]
  },
  {
   "cell_type": "markdown",
   "id": "bb148ea8",
   "metadata": {},
   "source": [
    "# GridSearch XGB "
   ]
  },
  {
   "cell_type": "code",
   "execution_count": 60,
   "id": "40384020",
   "metadata": {},
   "outputs": [
    {
     "data": {
      "text/plain": [
       "dict_keys(['objective', 'use_label_encoder', 'base_score', 'booster', 'colsample_bylevel', 'colsample_bynode', 'colsample_bytree', 'enable_categorical', 'gamma', 'gpu_id', 'importance_type', 'interaction_constraints', 'learning_rate', 'max_delta_step', 'max_depth', 'min_child_weight', 'missing', 'monotone_constraints', 'n_estimators', 'n_jobs', 'num_parallel_tree', 'predictor', 'random_state', 'reg_alpha', 'reg_lambda', 'scale_pos_weight', 'subsample', 'tree_method', 'validate_parameters', 'verbosity'])"
      ]
     },
     "execution_count": 60,
     "metadata": {},
     "output_type": "execute_result"
    }
   ],
   "source": [
    "XGBClassifier().get_params().keys()"
   ]
  },
  {
   "cell_type": "code",
   "execution_count": 23,
   "id": "dfd86907",
   "metadata": {},
   "outputs": [],
   "source": [
    "xgb_model = ImPipeline(steps=[('CT', CT),\n",
    "                              ('sm',SMOTE(random_state=42)),\n",
    "                              ('xgb', XGBClassifier(random_state=42,max_depth=6))])"
   ]
  },
  {
   "cell_type": "code",
   "execution_count": 24,
   "id": "52044a80",
   "metadata": {},
   "outputs": [],
   "source": [
    "param_test1 = {\n",
    " 'xgb__min_child_weight':[.1,.25,.5,1],\n",
    " 'xgb__learning_rate':[.01,.1,.25,.5],\n",
    " 'xgb__reg_alpha':[1e-5, 1e-2, 0.1, 1]\n",
    "}"
   ]
  },
  {
   "cell_type": "code",
   "execution_count": 25,
   "id": "1a176c50",
   "metadata": {},
   "outputs": [
    {
     "name": "stdout",
     "output_type": "stream",
     "text": [
      "Fitting 3 folds for each of 64 candidates, totalling 192 fits\n"
     ]
    },
    {
     "name": "stderr",
     "output_type": "stream",
     "text": [
      "[Parallel(n_jobs=-1)]: Using backend LokyBackend with 8 concurrent workers.\n",
      "[Parallel(n_jobs=-1)]: Done   2 tasks      | elapsed:   40.7s\n",
      "[Parallel(n_jobs=-1)]: Done   9 tasks      | elapsed:  1.3min\n",
      "[Parallel(n_jobs=-1)]: Done  16 tasks      | elapsed:  1.5min\n",
      "[Parallel(n_jobs=-1)]: Done  25 tasks      | elapsed:  2.8min\n",
      "[Parallel(n_jobs=-1)]: Done  34 tasks      | elapsed:  3.5min\n",
      "[Parallel(n_jobs=-1)]: Done  45 tasks      | elapsed:  4.3min\n",
      "[Parallel(n_jobs=-1)]: Done  56 tasks      | elapsed:  5.1min\n",
      "[Parallel(n_jobs=-1)]: Done  69 tasks      | elapsed:  6.4min\n",
      "[Parallel(n_jobs=-1)]: Done  82 tasks      | elapsed:  7.5min\n",
      "[Parallel(n_jobs=-1)]: Done  97 tasks      | elapsed:  8.9min\n",
      "[Parallel(n_jobs=-1)]: Done 112 tasks      | elapsed:  9.9min\n",
      "[Parallel(n_jobs=-1)]: Done 129 tasks      | elapsed: 11.5min\n",
      "[Parallel(n_jobs=-1)]: Done 146 tasks      | elapsed: 12.9min\n",
      "[Parallel(n_jobs=-1)]: Done 165 tasks      | elapsed: 14.5min\n",
      "[Parallel(n_jobs=-1)]: Done 192 out of 192 | elapsed: 16.7min finished\n",
      "C:\\Users\\Kev\\anaconda3\\envs\\learn-env\\lib\\site-packages\\xgboost\\sklearn.py:1224: UserWarning: The use of label encoder in XGBClassifier is deprecated and will be removed in a future release. To remove this warning, do the following: 1) Pass option use_label_encoder=False when constructing XGBClassifier object; and 2) Encode your labels (y) as integers starting with 0, i.e. 0, 1, 2, ..., [num_class - 1].\n",
      "  warnings.warn(label_encoder_deprecation_msg, UserWarning)\n"
     ]
    },
    {
     "name": "stdout",
     "output_type": "stream",
     "text": [
      "[19:13:13] WARNING: C:\\Windows\\Temp\\abs_557yfx631l\\croots\\recipe\\xgboost-split_1659548953302\\work\\src\\learner.cc:1115: Starting in XGBoost 1.3.0, the default evaluation metric used with the objective 'multi:softprob' was changed from 'merror' to 'mlogloss'. Explicitly set eval_metric if you'd like to restore the old behavior.\n"
     ]
    },
    {
     "data": {
      "text/plain": [
       "GridSearchCV(cv=3,\n",
       "             estimator=Pipeline(steps=[('CT',\n",
       "                                        ColumnTransformer(remainder='passthrough',\n",
       "                                                          transformers=[('subpipe_num',\n",
       "                                                                         Pipeline(steps=[('num_impute',\n",
       "                                                                                          SimpleImputer(strategy='median')),\n",
       "                                                                                         ('ss',\n",
       "                                                                                          StandardScaler())]),\n",
       "                                                                         <sklearn.compose._column_transformer.make_column_selector object at 0x0000019E17DFB520>),\n",
       "                                                                        ('subpipe_cat',\n",
       "                                                                         Pipeline(steps=[('cat_impute',\n",
       "                                                                                          SimpleIm...\n",
       "                                                      num_parallel_tree=None,\n",
       "                                                      predictor=None,\n",
       "                                                      random_state=42,\n",
       "                                                      reg_alpha=None,\n",
       "                                                      reg_lambda=None,\n",
       "                                                      scale_pos_weight=None,\n",
       "                                                      subsample=None,\n",
       "                                                      tree_method=None,\n",
       "                                                      validate_parameters=None,\n",
       "                                                      verbosity=None))]),\n",
       "             n_jobs=-1,\n",
       "             param_grid={'xgb__learning_rate': [0.01, 0.1, 0.25, 0.5],\n",
       "                         'xgb__min_child_weight': [0.1, 0.25, 0.5, 1],\n",
       "                         'xgb__reg_alpha': [1e-05, 0.01, 0.1, 1]},\n",
       "             scoring='accuracy', verbose=10)"
      ]
     },
     "execution_count": 25,
     "metadata": {},
     "output_type": "execute_result"
    }
   ],
   "source": [
    "gs_xgb = GridSearchCV(estimator = xgb_model, param_grid = param_test1, scoring='accuracy',n_jobs=-1,verbose = 10, cv=3)\n",
    "\n",
    "gs_xgb.fit(X_train, y_train)"
   ]
  },
  {
   "cell_type": "code",
   "execution_count": 26,
   "id": "2a0f6b96",
   "metadata": {
    "scrolled": true
   },
   "outputs": [
    {
     "data": {
      "text/plain": [
       "{'xgb__learning_rate': 0.5, 'xgb__min_child_weight': 0.5, 'xgb__reg_alpha': 1}"
      ]
     },
     "execution_count": 26,
     "metadata": {},
     "output_type": "execute_result"
    }
   ],
   "source": [
    "gs_xgb.best_params_"
   ]
  },
  {
   "cell_type": "markdown",
   "id": "88749d5b",
   "metadata": {},
   "source": [
    "# First XGB Model"
   ]
  },
  {
   "cell_type": "code",
   "execution_count": 27,
   "id": "eff974eb",
   "metadata": {},
   "outputs": [],
   "source": [
    "xgb_first_model = ImPipeline(steps=[('CT', CT),\n",
    "                              ('sm',SMOTE(random_state=42)),\n",
    "                              ('xgb', XGBClassifier(max_depth=6,min_child_weight=.5,learning_rate=.5,reg_alpha=1,silent=True,verbosity=0))])"
   ]
  },
  {
   "cell_type": "code",
   "execution_count": 28,
   "id": "de9da300",
   "metadata": {
    "scrolled": true
   },
   "outputs": [
    {
     "name": "stderr",
     "output_type": "stream",
     "text": [
      "C:\\Users\\Kev\\anaconda3\\envs\\learn-env\\lib\\site-packages\\xgboost\\sklearn.py:1224: UserWarning: The use of label encoder in XGBClassifier is deprecated and will be removed in a future release. To remove this warning, do the following: 1) Pass option use_label_encoder=False when constructing XGBClassifier object; and 2) Encode your labels (y) as integers starting with 0, i.e. 0, 1, 2, ..., [num_class - 1].\n",
      "  warnings.warn(label_encoder_deprecation_msg, UserWarning)\n"
     ]
    },
    {
     "name": "stdout",
     "output_type": "stream",
     "text": [
      "[19:13:28] WARNING: C:\\Windows\\Temp\\abs_557yfx631l\\croots\\recipe\\xgboost-split_1659548953302\\work\\src\\learner.cc:1115: Starting in XGBoost 1.3.0, the default evaluation metric used with the objective 'multi:softprob' was changed from 'merror' to 'mlogloss'. Explicitly set eval_metric if you'd like to restore the old behavior.\n"
     ]
    },
    {
     "data": {
      "text/plain": [
       "Pipeline(steps=[('CT',\n",
       "                 ColumnTransformer(remainder='passthrough',\n",
       "                                   transformers=[('subpipe_num',\n",
       "                                                  Pipeline(steps=[('num_impute',\n",
       "                                                                   SimpleImputer(strategy='median')),\n",
       "                                                                  ('ss',\n",
       "                                                                   StandardScaler())]),\n",
       "                                                  <sklearn.compose._column_transformer.make_column_selector object at 0x0000019E17DFB520>),\n",
       "                                                 ('subpipe_cat',\n",
       "                                                  Pipeline(steps=[('cat_impute',\n",
       "                                                                   SimpleImputer(strategy='most_frequen...\n",
       "                               interaction_constraints='', learning_rate=0.5,\n",
       "                               max_delta_step=0, max_depth=6,\n",
       "                               min_child_weight=0.5, missing=nan,\n",
       "                               monotone_constraints='()', n_estimators=100,\n",
       "                               n_jobs=8, num_parallel_tree=1,\n",
       "                               objective='multi:softprob', predictor='auto',\n",
       "                               random_state=0, reg_alpha=1, reg_lambda=1,\n",
       "                               scale_pos_weight=None, subsample=1,\n",
       "                               tree_method='exact', validate_parameters=1,\n",
       "                               verbosity=None))])"
      ]
     },
     "execution_count": 28,
     "metadata": {},
     "output_type": "execute_result"
    }
   ],
   "source": [
    "xgb_first_model.fit(X_train,y_train)"
   ]
  },
  {
   "cell_type": "code",
   "execution_count": 29,
   "id": "03eb45de",
   "metadata": {},
   "outputs": [
    {
     "data": {
      "text/plain": [
       "0.8901080631753948"
      ]
     },
     "execution_count": 29,
     "metadata": {},
     "output_type": "execute_result"
    }
   ],
   "source": [
    "xgb_first_model.score(X_train,y_train)"
   ]
  },
  {
   "cell_type": "code",
   "execution_count": 30,
   "id": "88af8bf9",
   "metadata": {},
   "outputs": [
    {
     "data": {
      "text/plain": [
       "0.773467804499612"
      ]
     },
     "execution_count": 30,
     "metadata": {},
     "output_type": "execute_result"
    }
   ],
   "source": [
    "xgb_first_model.score(X_test,y_test)"
   ]
  },
  {
   "cell_type": "code",
   "execution_count": 31,
   "id": "d8886ddd",
   "metadata": {},
   "outputs": [
    {
     "name": "stdout",
     "output_type": "stream",
     "text": [
      "Fitting 3 folds for each of 3 candidates, totalling 9 fits\n"
     ]
    },
    {
     "name": "stderr",
     "output_type": "stream",
     "text": [
      "[Parallel(n_jobs=-1)]: Using backend LokyBackend with 8 concurrent workers.\n",
      "[Parallel(n_jobs=-1)]: Done   2 out of   9 | elapsed:   44.5s remaining:  2.6min\n",
      "[Parallel(n_jobs=-1)]: Done   3 out of   9 | elapsed:   45.7s remaining:  1.5min\n",
      "[Parallel(n_jobs=-1)]: Done   4 out of   9 | elapsed:  1.3min remaining:  1.6min\n",
      "[Parallel(n_jobs=-1)]: Done   5 out of   9 | elapsed:  1.3min remaining:  1.0min\n",
      "[Parallel(n_jobs=-1)]: Done   6 out of   9 | elapsed:  1.3min remaining:   39.1s\n",
      "[Parallel(n_jobs=-1)]: Done   7 out of   9 | elapsed:  1.6min remaining:   27.0s\n",
      "[Parallel(n_jobs=-1)]: Done   9 out of   9 | elapsed:  1.7min remaining:    0.0s\n",
      "[Parallel(n_jobs=-1)]: Done   9 out of   9 | elapsed:  1.7min finished\n",
      "C:\\Users\\Kev\\anaconda3\\envs\\learn-env\\lib\\site-packages\\xgboost\\sklearn.py:1224: UserWarning: The use of label encoder in XGBClassifier is deprecated and will be removed in a future release. To remove this warning, do the following: 1) Pass option use_label_encoder=False when constructing XGBClassifier object; and 2) Encode your labels (y) as integers starting with 0, i.e. 0, 1, 2, ..., [num_class - 1].\n",
      "  warnings.warn(label_encoder_deprecation_msg, UserWarning)\n"
     ]
    },
    {
     "name": "stdout",
     "output_type": "stream",
     "text": [
      "[19:15:23] WARNING: C:\\Windows\\Temp\\abs_557yfx631l\\croots\\recipe\\xgboost-split_1659548953302\\work\\src\\learner.cc:1115: Starting in XGBoost 1.3.0, the default evaluation metric used with the objective 'multi:softprob' was changed from 'merror' to 'mlogloss'. Explicitly set eval_metric if you'd like to restore the old behavior.\n"
     ]
    },
    {
     "data": {
      "text/plain": [
       "GridSearchCV(cv=3,\n",
       "             estimator=Pipeline(steps=[('CT',\n",
       "                                        ColumnTransformer(remainder='passthrough',\n",
       "                                                          transformers=[('subpipe_num',\n",
       "                                                                         Pipeline(steps=[('num_impute',\n",
       "                                                                                          SimpleImputer(strategy='median')),\n",
       "                                                                                         ('ss',\n",
       "                                                                                          StandardScaler())]),\n",
       "                                                                         <sklearn.compose._column_transformer.make_column_selector object at 0x0000019E17DFB520>),\n",
       "                                                                        ('subpipe_cat',\n",
       "                                                                         Pipeline(steps=[('cat_impute',\n",
       "                                                                                          SimpleIm...\n",
       "                                                      missing=nan,\n",
       "                                                      monotone_constraints='()',\n",
       "                                                      n_estimators=100,\n",
       "                                                      n_jobs=8,\n",
       "                                                      num_parallel_tree=1,\n",
       "                                                      objective='multi:softprob',\n",
       "                                                      predictor='auto',\n",
       "                                                      random_state=0,\n",
       "                                                      reg_alpha=1, reg_lambda=1,\n",
       "                                                      scale_pos_weight=None,\n",
       "                                                      subsample=1,\n",
       "                                                      tree_method='exact',\n",
       "                                                      validate_parameters=1,\n",
       "                                                      verbosity=None))]),\n",
       "             n_jobs=-1, param_grid={'xgb__n_estimators': [100, 200, 300]},\n",
       "             scoring='accuracy', verbose=10)"
      ]
     },
     "execution_count": 31,
     "metadata": {},
     "output_type": "execute_result"
    }
   ],
   "source": [
    "param_test2 = {\n",
    " 'xgb__n_estimators':[100,200,300,400]\n",
    "}\n",
    "gs_xgb2 = GridSearchCV(estimator = xgb_first_model, param_grid = param_test2,scoring='accuracy',n_jobs=-1,,verbosity=10, cv=3)\n",
    "gs_xgb2.fit(X_train, y_train)"
   ]
  },
  {
   "cell_type": "code",
   "execution_count": 32,
   "id": "8f606ca0",
   "metadata": {},
   "outputs": [
    {
     "data": {
      "text/plain": [
       "{'xgb__n_estimators': 300}"
      ]
     },
     "execution_count": 32,
     "metadata": {},
     "output_type": "execute_result"
    }
   ],
   "source": [
    "gs_xgb2.best_params_"
   ]
  },
  {
   "cell_type": "markdown",
   "id": "63fb10be",
   "metadata": {},
   "source": [
    "# Second XGB Model "
   ]
  },
  {
   "cell_type": "code",
   "execution_count": 107,
   "id": "273d5d76",
   "metadata": {},
   "outputs": [],
   "source": [
    "xgb_second_model = ImPipeline(steps=[('CT', CT),\n",
    "                              ('sm',SMOTE(random_state=42)),\n",
    "                              ('xgb', XGBClassifier(\n",
    "                    max_depth=6,\n",
    "                    min_child_weight=.1,\n",
    "                    reg_alpha=1,\n",
    "                    n_estimators=300,\n",
    "                    learning_rate=.1,\n",
    "                    max_delta_step=.07\n",
    "                              ))])"
   ]
  },
  {
   "cell_type": "code",
   "execution_count": 108,
   "id": "b8f1795a",
   "metadata": {
    "scrolled": true
   },
   "outputs": [
    {
     "data": {
      "text/plain": [
       "Pipeline(steps=[('CT',\n",
       "                 ColumnTransformer(remainder='passthrough',\n",
       "                                   transformers=[('subpipe_num',\n",
       "                                                  Pipeline(steps=[('num_impute',\n",
       "                                                                   SimpleImputer()),\n",
       "                                                                  ('ss',\n",
       "                                                                   StandardScaler())]),\n",
       "                                                  <sklearn.compose._column_transformer.make_column_selector object at 0x000001B6DDD527F0>),\n",
       "                                                 ('subpipe_cat',\n",
       "                                                  Pipeline(steps=[('cat_impute',\n",
       "                                                                   SimpleImputer(strategy='most_frequent')),\n",
       "                                                                  ('ohe',\n",
       "                                                                   OneHo...\n",
       "                               interaction_constraints='', learning_rate=0.1,\n",
       "                               max_delta_step=0.07, max_depth=6,\n",
       "                               min_child_weight=0.1, missing=nan,\n",
       "                               monotone_constraints='()', n_estimators=300,\n",
       "                               n_jobs=8, num_parallel_tree=1,\n",
       "                               objective='multi:softprob', predictor='auto',\n",
       "                               random_state=0, reg_alpha=1, reg_lambda=1,\n",
       "                               scale_pos_weight=None, subsample=1,\n",
       "                               tree_method='exact', validate_parameters=1,\n",
       "                               verbosity=None))])"
      ]
     },
     "execution_count": 108,
     "metadata": {},
     "output_type": "execute_result"
    }
   ],
   "source": [
    "xgb_second_model.fit(X_train,y_train)\n"
   ]
  },
  {
   "cell_type": "code",
   "execution_count": 109,
   "id": "94e9f28f",
   "metadata": {},
   "outputs": [
    {
     "data": {
      "text/plain": [
       "0.7482128013300083"
      ]
     },
     "execution_count": 109,
     "metadata": {},
     "output_type": "execute_result"
    }
   ],
   "source": [
    "xgb_second_model.score(X_train,y_train)"
   ]
  },
  {
   "cell_type": "code",
   "execution_count": 110,
   "id": "1199c156",
   "metadata": {},
   "outputs": [
    {
     "data": {
      "text/plain": [
       "0.7345672171118254"
      ]
     },
     "execution_count": 110,
     "metadata": {},
     "output_type": "execute_result"
    }
   ],
   "source": [
    "xgb_second_model.score(X_test,y_test)"
   ]
  },
  {
   "cell_type": "markdown",
   "id": "d14c7b49",
   "metadata": {},
   "source": [
    "# Third XGB Model"
   ]
  },
  {
   "cell_type": "code",
   "execution_count": 211,
   "id": "33f31ee6",
   "metadata": {},
   "outputs": [],
   "source": [
    "xgb_third_model = ImPipeline(steps=[('CT', CT),\n",
    "                              ('sm',SMOTE(random_state=42)),\n",
    "                              ('xgb', XGBClassifier(\n",
    "                    max_depth=6,\n",
    "                    min_child_weight=.1,\n",
    "                    reg_alpha=1,\n",
    "                    n_estimators=300,\n",
    "                    learning_rate=.095,\n",
    "                    max_delta_step=.065,\n",
    "                              ))])"
   ]
  },
  {
   "cell_type": "code",
   "execution_count": 212,
   "id": "f5913619",
   "metadata": {},
   "outputs": [
    {
     "data": {
      "text/plain": [
       "Pipeline(steps=[('CT',\n",
       "                 ColumnTransformer(remainder='passthrough',\n",
       "                                   transformers=[('subpipe_num',\n",
       "                                                  Pipeline(steps=[('num_impute',\n",
       "                                                                   SimpleImputer()),\n",
       "                                                                  ('ss',\n",
       "                                                                   StandardScaler())]),\n",
       "                                                  <sklearn.compose._column_transformer.make_column_selector object at 0x000001B6DDD527F0>),\n",
       "                                                 ('subpipe_cat',\n",
       "                                                  Pipeline(steps=[('cat_impute',\n",
       "                                                                   SimpleImputer(strategy='most_frequent')),\n",
       "                                                                  ('ohe',\n",
       "                                                                   OneHo...\n",
       "                               interaction_constraints='', learning_rate=0.095,\n",
       "                               max_delta_step=0.065, max_depth=6,\n",
       "                               min_child_weight=0.1, missing=nan,\n",
       "                               monotone_constraints='()', n_estimators=300,\n",
       "                               n_jobs=8, num_parallel_tree=1,\n",
       "                               objective='multi:softprob', predictor='auto',\n",
       "                               random_state=0, reg_alpha=1, reg_lambda=1,\n",
       "                               scale_pos_weight=None, subsample=1,\n",
       "                               tree_method='exact', validate_parameters=1,\n",
       "                               verbosity=None))])"
      ]
     },
     "execution_count": 212,
     "metadata": {},
     "output_type": "execute_result"
    }
   ],
   "source": [
    "xgb_third_model.fit(X_train,y_train)"
   ]
  },
  {
   "cell_type": "code",
   "execution_count": 213,
   "id": "1ef98f37",
   "metadata": {},
   "outputs": [
    {
     "data": {
      "text/plain": [
       "0.743086727625381"
      ]
     },
     "execution_count": 213,
     "metadata": {},
     "output_type": "execute_result"
    }
   ],
   "source": [
    "xgb_third_model.score(X_train,y_train)"
   ]
  },
  {
   "cell_type": "code",
   "execution_count": 214,
   "id": "8d69e189",
   "metadata": {},
   "outputs": [
    {
     "data": {
      "text/plain": [
       "0.7326831430787987"
      ]
     },
     "execution_count": 214,
     "metadata": {},
     "output_type": "execute_result"
    }
   ],
   "source": [
    "xgb_third_model.score(X_test,y_test)"
   ]
  },
  {
   "cell_type": "markdown",
   "id": "dafe8183",
   "metadata": {},
   "source": [
    "# Gridsearch RFC"
   ]
  },
  {
   "cell_type": "code",
   "execution_count": 55,
   "id": "72441525",
   "metadata": {},
   "outputs": [],
   "source": [
    "rfc_model = ImPipeline(steps=[('CT', CT),\n",
    "                              ('sm',SMOTE(random_state=42)),\n",
    "                              ('rfc',RandomForestClassifier(random_state=42,min_samples_split=10,min_samples_leaf=2,max_features= 'sqrt',max_depth=12,bootstrap = False,criterion='entropy'))])"
   ]
  },
  {
   "cell_type": "code",
   "execution_count": 56,
   "id": "ac7d5930",
   "metadata": {},
   "outputs": [],
   "source": [
    "#Specified ranges for different parameters\n",
    "params = {\n",
    "    \"rfc__n_estimators\":[5,10,50,100,250,500]}"
   ]
  },
  {
   "cell_type": "code",
   "execution_count": 57,
   "id": "cd41c6ec",
   "metadata": {},
   "outputs": [
    {
     "data": {
      "text/plain": [
       "GridSearchCV(cv=5,\n",
       "             estimator=Pipeline(steps=[('CT',\n",
       "                                        ColumnTransformer(remainder='passthrough',\n",
       "                                                          transformers=[('subpipe_num',\n",
       "                                                                         Pipeline(steps=[('num_impute',\n",
       "                                                                                          SimpleImputer(strategy='median')),\n",
       "                                                                                         ('ss',\n",
       "                                                                                          StandardScaler())]),\n",
       "                                                                         <sklearn.compose._column_transformer.make_column_selector object at 0x0000019E17DFB520>),\n",
       "                                                                        ('subpipe_cat',\n",
       "                                                                         Pipeline(steps=[('cat_impute',\n",
       "                                                                                          SimpleIm...\n",
       "                                                                                                        sparse=False))]),\n",
       "                                                                         <sklearn.compose._column_transformer.make_column_selector object at 0x0000019E17DFB940>)])),\n",
       "                                       ('sm', SMOTE(random_state=42)),\n",
       "                                       ('rfc',\n",
       "                                        RandomForestClassifier(bootstrap=False,\n",
       "                                                               criterion='entropy',\n",
       "                                                               max_depth=12,\n",
       "                                                               max_features='sqrt',\n",
       "                                                               min_samples_leaf=2,\n",
       "                                                               min_samples_split=10,\n",
       "                                                               random_state=42))]),\n",
       "             param_grid={'rfc__n_estimators': [5, 10, 50, 100, 250, 500]})"
      ]
     },
     "execution_count": 57,
     "metadata": {},
     "output_type": "execute_result"
    }
   ],
   "source": [
    "rfc = GridSearchCV(rfc_model,params,cv=5)\n",
    "rfc.fit(X_train,y_train)"
   ]
  },
  {
   "cell_type": "code",
   "execution_count": 58,
   "id": "96acd941",
   "metadata": {},
   "outputs": [
    {
     "data": {
      "text/plain": [
       "{'rfc__n_estimators': 250}"
      ]
     },
     "execution_count": 58,
     "metadata": {},
     "output_type": "execute_result"
    }
   ],
   "source": [
    "rfc.best_params_"
   ]
  },
  {
   "cell_type": "code",
   "execution_count": 59,
   "id": "4d94ef92",
   "metadata": {},
   "outputs": [],
   "source": [
    "rfc_model = ImPipeline(steps=[('CT', CT),\n",
    "                              ('sm',SMOTE(random_state=42)),\n",
    "                                  ('rfc', RandomForestClassifier(n_estimators=250,min_samples_split=10,min_samples_leaf=2,max_features= 'sqrt',max_depth=12,bootstrap = False,criterion='entropy')\n",
    ")])"
   ]
  },
  {
   "cell_type": "code",
   "execution_count": 60,
   "id": "676390b3",
   "metadata": {},
   "outputs": [
    {
     "data": {
      "text/plain": [
       "Pipeline(steps=[('CT',\n",
       "                 ColumnTransformer(remainder='passthrough',\n",
       "                                   transformers=[('subpipe_num',\n",
       "                                                  Pipeline(steps=[('num_impute',\n",
       "                                                                   SimpleImputer(strategy='median')),\n",
       "                                                                  ('ss',\n",
       "                                                                   StandardScaler())]),\n",
       "                                                  <sklearn.compose._column_transformer.make_column_selector object at 0x0000019E17DFB520>),\n",
       "                                                 ('subpipe_cat',\n",
       "                                                  Pipeline(steps=[('cat_impute',\n",
       "                                                                   SimpleImputer(strategy='most_frequent')),\n",
       "                                                                  ('ohe',\n",
       "                                                                   OneHotEncoder(handle_unknown='ignore',\n",
       "                                                                                 sparse=False))]),\n",
       "                                                  <sklearn.compose._column_transformer.make_column_selector object at 0x0000019E17DFB940>)])),\n",
       "                ('sm', SMOTE(random_state=42)),\n",
       "                ('rfc',\n",
       "                 RandomForestClassifier(bootstrap=False, criterion='entropy',\n",
       "                                        max_depth=12, max_features='sqrt',\n",
       "                                        min_samples_leaf=2,\n",
       "                                        min_samples_split=10,\n",
       "                                        n_estimators=250))])"
      ]
     },
     "execution_count": 60,
     "metadata": {},
     "output_type": "execute_result"
    }
   ],
   "source": [
    "rfc_model.fit(X_train,y_train)"
   ]
  },
  {
   "cell_type": "code",
   "execution_count": 61,
   "id": "3246c793",
   "metadata": {},
   "outputs": [
    {
     "data": {
      "text/plain": [
       "0.7358825159323913"
      ]
     },
     "execution_count": 61,
     "metadata": {},
     "output_type": "execute_result"
    }
   ],
   "source": [
    "rfc_model.score(X_train,y_train)"
   ]
  },
  {
   "cell_type": "code",
   "execution_count": 62,
   "id": "2ec6d6f2",
   "metadata": {
    "scrolled": true
   },
   "outputs": [
    {
     "data": {
      "text/plain": [
       "0.7176105508145849"
      ]
     },
     "execution_count": 62,
     "metadata": {},
     "output_type": "execute_result"
    }
   ],
   "source": [
    "rfc_model.score(X_test,y_test)"
   ]
  },
  {
   "cell_type": "markdown",
   "id": "56728900",
   "metadata": {},
   "source": [
    "# Final Chosen Model XGB"
   ]
  },
  {
   "cell_type": "code",
   "execution_count": 23,
   "id": "178699e5",
   "metadata": {},
   "outputs": [],
   "source": [
    "xgb_final_model = ImPipeline(steps=[('CT', CT),\n",
    "                              ('sm',SMOTE(random_state=42)),\n",
    "                              ('xgb', XGBClassifier(\n",
    "                    max_depth=6,\n",
    "                    min_child_weight=.1,\n",
    "                    reg_alpha=1,\n",
    "                    n_estimators=300,\n",
    "                    learning_rate=.095,\n",
    "                    max_delta_step=.065,\n",
    "                              ))])"
   ]
  },
  {
   "cell_type": "code",
   "execution_count": 24,
   "id": "68ed78ff",
   "metadata": {
    "scrolled": true
   },
   "outputs": [
    {
     "name": "stdout",
     "output_type": "stream",
     "text": [
      "[12:16:50] WARNING: C:\\Windows\\Temp\\abs_557yfx631l\\croots\\recipe\\xgboost-split_1659548953302\\work\\src\\learner.cc:1115: Starting in XGBoost 1.3.0, the default evaluation metric used with the objective 'multi:softprob' was changed from 'merror' to 'mlogloss'. Explicitly set eval_metric if you'd like to restore the old behavior.\n"
     ]
    },
    {
     "data": {
      "text/plain": [
       "Pipeline(steps=[('CT',\n",
       "                 ColumnTransformer(remainder='passthrough',\n",
       "                                   transformers=[('subpipe_num',\n",
       "                                                  Pipeline(steps=[('num_impute',\n",
       "                                                                   SimpleImputer()),\n",
       "                                                                  ('ss',\n",
       "                                                                   StandardScaler())]),\n",
       "                                                  <sklearn.compose._column_transformer.make_column_selector object at 0x00000251E2439760>),\n",
       "                                                 ('subpipe_cat',\n",
       "                                                  Pipeline(steps=[('cat_impute',\n",
       "                                                                   SimpleImputer(strategy='most_frequent')),\n",
       "                                                                  ('ohe',\n",
       "                                                                   OneHo...\n",
       "                               interaction_constraints='', learning_rate=0.095,\n",
       "                               max_delta_step=0.065, max_depth=6,\n",
       "                               min_child_weight=0.1, missing=nan,\n",
       "                               monotone_constraints='()', n_estimators=300,\n",
       "                               n_jobs=8, num_parallel_tree=1,\n",
       "                               objective='multi:softprob', predictor='auto',\n",
       "                               random_state=0, reg_alpha=1, reg_lambda=1,\n",
       "                               scale_pos_weight=None, subsample=1,\n",
       "                               tree_method='exact', validate_parameters=1,\n",
       "                               verbosity=None))])"
      ]
     },
     "execution_count": 24,
     "metadata": {},
     "output_type": "execute_result"
    }
   ],
   "source": [
    "xgb_final_model.fit(X_train,y_train)"
   ]
  },
  {
   "cell_type": "code",
   "execution_count": 25,
   "id": "443f17aa",
   "metadata": {},
   "outputs": [
    {
     "data": {
      "text/plain": [
       "0.743086727625381"
      ]
     },
     "execution_count": 25,
     "metadata": {},
     "output_type": "execute_result"
    }
   ],
   "source": [
    "xgb_final_model.score(X_train,y_train)"
   ]
  },
  {
   "cell_type": "code",
   "execution_count": 26,
   "id": "ca3fe447",
   "metadata": {},
   "outputs": [
    {
     "data": {
      "text/plain": [
       "0.7326831430787987"
      ]
     },
     "execution_count": 26,
     "metadata": {},
     "output_type": "execute_result"
    }
   ],
   "source": [
    "xgb_final_model.score(X_test,y_test)"
   ]
  },
  {
   "cell_type": "code",
   "execution_count": 255,
   "id": "f536e877",
   "metadata": {},
   "outputs": [
    {
     "data": {
      "text/plain": [
       "{'Month': 0.0023810389,\n",
       " 'Age': 0.0018036994,\n",
       " 'Annual_Income': 0.0020373666,\n",
       " 'Monthly_Inhand_Salary': 0.0063969707,\n",
       " 'Num_Bank_Accounts': 0.018373834,\n",
       " 'Num_Credit_Card': 0.03986589,\n",
       " 'Interest_Rate': 0.0066248225,\n",
       " 'Num_of_Loan': 0.015096472,\n",
       " 'Delay_from_due_date': 0.010709844,\n",
       " 'Num_of_Delayed_Payment': 0.007881666,\n",
       " 'Num_Credit_Inquiries': 0.075102225,\n",
       " 'Credit_Mix': 0.00074885366,\n",
       " 'Outstanding_Debt': 0.0036000656,\n",
       " 'Credit_Utilization_Ratio': 0.0037869297,\n",
       " 'Credit_History_Age': 0.0014980618,\n",
       " 'Payment_of_Min_Amount': 0.018895984,\n",
       " 'Amount_invested_monthly': 0.017398344,\n",
       " 'Monthly_Balance': 0.017211303}"
      ]
     },
     "execution_count": 255,
     "metadata": {},
     "output_type": "execute_result"
    }
   ],
   "source": [
    "xgb_final_model[2].feature_importances_\n",
    "feat_import = {name: score \n",
    "                   for name, score\n",
    "                       in zip(X_train.columns, xgb_fourth_model[2].feature_importances_)\n",
    "}\n",
    "feat_import"
   ]
  },
  {
   "cell_type": "code",
   "execution_count": 261,
   "id": "49a3c6ed",
   "metadata": {},
   "outputs": [],
   "source": [
    "values = []\n",
    "keys = []\n",
    "for x in feat_import:\n",
    "    if feat_import[x] > .01:\n",
    "        keys.append(x)\n",
    "        values.append(feat_import[x])"
   ]
  },
  {
   "cell_type": "code",
   "execution_count": 263,
   "id": "1790de49",
   "metadata": {},
   "outputs": [
    {
     "data": {
      "image/png": "[encoded data removed]",
      "text/plain": [
       "<Figure size 720x720 with 1 Axes>"
      ]
     },
     "metadata": {
      "needs_background": "light"
     },
     "output_type": "display_data"
    }
   ],
   "source": [
    "fig, ax = plt.subplots(figsize=(10,10))\n",
    "ax.bar(keys,values)\n",
    "\n",
    "plt.xticks(rotation=90,size=15)\n",
    "plt.title('Importance by Feature',size=20)\n",
    "plt.xlabel('Feature',size=20)\n",
    "plt.ylabel('Importance Level',size=20);"
   ]
  },
  {
   "cell_type": "code",
   "execution_count": 310,
   "id": "df547c27",
   "metadata": {},
   "outputs": [
    {
     "data": {
      "image/png": "[encoded data removed]",
      "text/plain": [
       "<Figure size 432x288 with 2 Axes>"
      ]
     },
     "metadata": {
      "needs_background": "light"
     },
     "output_type": "display_data"
    }
   ],
   "source": [
    "fig, ax = plt.subplots()\n",
    "\n",
    "fig.suptitle(\"Tuned XGB\")\n",
    "\n",
    "plot_confusion_matrix(xgb_final_model, X_test, y_test, ax=ax, cmap=\"plasma\");"
   ]
  },
  {
   "cell_type": "code",
   "execution_count": 266,
   "id": "209a3c34",
   "metadata": {},
   "outputs": [],
   "source": [
    "y_pred = xgb_final_model.predict(X_test)"
   ]
  },
  {
   "cell_type": "code",
   "execution_count": 267,
   "id": "48a99b75",
   "metadata": {},
   "outputs": [
    {
     "name": "stdout",
     "output_type": "stream",
     "text": [
      "Accuracy Score :  0.7326831430787987\n",
      "Precision Score :  0.753494518648368\n",
      "Recall Score :  0.7326831430787987\n",
      "f1 Score :  0.7372588879905659\n"
     ]
    }
   ],
   "source": [
    "print(\"Accuracy Score : \",accuracy_score(y_test, y_pred, \n",
    "                                           ))\n",
    "print(\"Precision Score : \",precision_score(y_test, y_pred, \n",
    "                                           average='weighted'))\n",
    "print(\"Recall Score : \",recall_score(y_test, y_pred, \n",
    "                                           average='weighted'))\n",
    "print(\"f1 Score : \",f1_score(y_test, y_pred, \n",
    "                                           average='weighted'))"
   ]
  },
  {
   "cell_type": "code",
   "execution_count": 268,
   "id": "5e94657b",
   "metadata": {},
   "outputs": [
    {
     "name": "stdout",
     "output_type": "stream",
     "text": [
      "              precision    recall  f1-score   support\n",
      "\n",
      "        Good       0.53      0.76      0.62      1323\n",
      "        Poor       0.72      0.77      0.74      2719\n",
      "    Standard       0.83      0.71      0.76      4981\n",
      "\n",
      "    accuracy                           0.73      9023\n",
      "   macro avg       0.69      0.74      0.71      9023\n",
      "weighted avg       0.75      0.73      0.74      9023\n",
      "\n"
     ]
    }
   ],
   "source": [
    "print(classification_report(y_test, y_pred))"
   ]
  },
  {
   "cell_type": "code",
   "execution_count": 27,
   "id": "e53305f8",
   "metadata": {},
   "outputs": [],
   "source": [
    "import pickle\n",
    "pickle.dump(xgb_final_model, open(\"xgb_final_model.sav\", 'wb'))"
   ]
  },
  {
   "cell_type": "code",
   "execution_count": 28,
   "id": "18b2f177",
   "metadata": {},
   "outputs": [],
   "source": [
    "loaded_model = pickle.load(open(\"xgb_final_model.sav\", 'rb'))"
   ]
  },
  {
   "cell_type": "code",
   "execution_count": 29,
   "id": "0f7fa896",
   "metadata": {
    "scrolled": false
   },
   "outputs": [
    {
     "data": {
      "text/plain": [
       "0.7326831430787987"
      ]
     },
     "execution_count": 29,
     "metadata": {},
     "output_type": "execute_result"
    }
   ],
   "source": [
    "loaded_model.score(X_test, y_test)"
   ]
  },
  {
   "cell_type": "code",
   "execution_count": 39,
   "id": "62ef73d2",
   "metadata": {},
   "outputs": [
    {
     "data": {
      "text/html": [
       "<div>\n",
       "<style scoped>\n",
       "    .dataframe tbody tr th:only-of-type {\n",
       "        vertical-align: middle;\n",
       "    }\n",
       "\n",
       "    .dataframe tbody tr th {\n",
       "        vertical-align: top;\n",
       "    }\n",
       "\n",
       "    .dataframe thead th {\n",
       "        text-align: right;\n",
       "    }\n",
       "</style>\n",
       "<table border=\"1\" class=\"dataframe\">\n",
       "  <thead>\n",
       "    <tr style=\"text-align: right;\">\n",
       "      <th></th>\n",
       "      <th>Month</th>\n",
       "      <th>Age</th>\n",
       "      <th>Annual_Income</th>\n",
       "      <th>Monthly_Inhand_Salary</th>\n",
       "      <th>Num_Bank_Accounts</th>\n",
       "      <th>Num_Credit_Card</th>\n",
       "      <th>Interest_Rate</th>\n",
       "      <th>Num_of_Loan</th>\n",
       "      <th>Delay_from_due_date</th>\n",
       "      <th>Num_of_Delayed_Payment</th>\n",
       "      <th>Num_Credit_Inquiries</th>\n",
       "      <th>Credit_Mix</th>\n",
       "      <th>Outstanding_Debt</th>\n",
       "      <th>Credit_Utilization_Ratio</th>\n",
       "      <th>Credit_History_Age</th>\n",
       "      <th>Payment_of_Min_Amount</th>\n",
       "      <th>Amount_invested_monthly</th>\n",
       "      <th>Monthly_Balance</th>\n",
       "    </tr>\n",
       "  </thead>\n",
       "  <tbody>\n",
       "    <tr>\n",
       "      <th>40190</th>\n",
       "      <td>February</td>\n",
       "      <td>53.0</td>\n",
       "      <td>26420.21</td>\n",
       "      <td>2462.684167</td>\n",
       "      <td>8</td>\n",
       "      <td>3</td>\n",
       "      <td>11</td>\n",
       "      <td>1.0</td>\n",
       "      <td>31</td>\n",
       "      <td>12.0</td>\n",
       "      <td>1.0</td>\n",
       "      <td>other</td>\n",
       "      <td>289.24</td>\n",
       "      <td>30.621614</td>\n",
       "      <td>33.0</td>\n",
       "      <td>No</td>\n",
       "      <td>32.294931</td>\n",
       "      <td>449.609436</td>\n",
       "    </tr>\n",
       "    <tr>\n",
       "      <th>5245</th>\n",
       "      <td>May</td>\n",
       "      <td>33.0</td>\n",
       "      <td>18827.29</td>\n",
       "      <td>1484.940833</td>\n",
       "      <td>9</td>\n",
       "      <td>6</td>\n",
       "      <td>32</td>\n",
       "      <td>3.0</td>\n",
       "      <td>31</td>\n",
       "      <td>27.0</td>\n",
       "      <td>10.0</td>\n",
       "      <td>Bad</td>\n",
       "      <td>1370.06</td>\n",
       "      <td>27.681395</td>\n",
       "      <td>NaN</td>\n",
       "      <td>Yes</td>\n",
       "      <td>41.890857</td>\n",
       "      <td>342.622035</td>\n",
       "    </tr>\n",
       "    <tr>\n",
       "      <th>38919</th>\n",
       "      <td>August</td>\n",
       "      <td>27.0</td>\n",
       "      <td>41848.26</td>\n",
       "      <td>3578.355000</td>\n",
       "      <td>8</td>\n",
       "      <td>7</td>\n",
       "      <td>11</td>\n",
       "      <td>1.0</td>\n",
       "      <td>16</td>\n",
       "      <td>17.0</td>\n",
       "      <td>2.0</td>\n",
       "      <td>Standard</td>\n",
       "      <td>616.98</td>\n",
       "      <td>23.211877</td>\n",
       "      <td>32.0</td>\n",
       "      <td>No</td>\n",
       "      <td>154.123782</td>\n",
       "      <td>431.985973</td>\n",
       "    </tr>\n",
       "    <tr>\n",
       "      <th>3401</th>\n",
       "      <td>August</td>\n",
       "      <td>36.0</td>\n",
       "      <td>58537.38</td>\n",
       "      <td>4688.115000</td>\n",
       "      <td>7</td>\n",
       "      <td>5</td>\n",
       "      <td>19</td>\n",
       "      <td>4.0</td>\n",
       "      <td>19</td>\n",
       "      <td>10.0</td>\n",
       "      <td>NaN</td>\n",
       "      <td>other</td>\n",
       "      <td>259.63</td>\n",
       "      <td>24.096692</td>\n",
       "      <td>23.0</td>\n",
       "      <td>No</td>\n",
       "      <td>93.471162</td>\n",
       "      <td>509.487032</td>\n",
       "    </tr>\n",
       "    <tr>\n",
       "      <th>20178</th>\n",
       "      <td>April</td>\n",
       "      <td>37.0</td>\n",
       "      <td>59665.20</td>\n",
       "      <td>4870.100000</td>\n",
       "      <td>6</td>\n",
       "      <td>6</td>\n",
       "      <td>15</td>\n",
       "      <td>4.0</td>\n",
       "      <td>48</td>\n",
       "      <td>22.0</td>\n",
       "      <td>10.0</td>\n",
       "      <td>Bad</td>\n",
       "      <td>2288.25</td>\n",
       "      <td>31.330589</td>\n",
       "      <td>9.0</td>\n",
       "      <td>Yes</td>\n",
       "      <td>58.201790</td>\n",
       "      <td>554.841821</td>\n",
       "    </tr>\n",
       "  </tbody>\n",
       "</table>\n",
       "</div>"
      ],
      "text/plain": [
       "          Month   Age  Annual_Income  Monthly_Inhand_Salary  \\\n",
       "40190  February  53.0       26420.21            2462.684167   \n",
       "5245        May  33.0       18827.29            1484.940833   \n",
       "38919    August  27.0       41848.26            3578.355000   \n",
       "3401     August  36.0       58537.38            4688.115000   \n",
       "20178     April  37.0       59665.20            4870.100000   \n",
       "\n",
       "       Num_Bank_Accounts  Num_Credit_Card  Interest_Rate  Num_of_Loan  \\\n",
       "40190                  8                3             11          1.0   \n",
       "5245                   9                6             32          3.0   \n",
       "38919                  8                7             11          1.0   \n",
       "3401                   7                5             19          4.0   \n",
       "20178                  6                6             15          4.0   \n",
       "\n",
       "       Delay_from_due_date  Num_of_Delayed_Payment  Num_Credit_Inquiries  \\\n",
       "40190                   31                    12.0                   1.0   \n",
       "5245                    31                    27.0                  10.0   \n",
       "38919                   16                    17.0                   2.0   \n",
       "3401                    19                    10.0                   NaN   \n",
       "20178                   48                    22.0                  10.0   \n",
       "\n",
       "      Credit_Mix  Outstanding_Debt  Credit_Utilization_Ratio  \\\n",
       "40190      other            289.24                 30.621614   \n",
       "5245         Bad           1370.06                 27.681395   \n",
       "38919   Standard            616.98                 23.211877   \n",
       "3401       other            259.63                 24.096692   \n",
       "20178        Bad           2288.25                 31.330589   \n",
       "\n",
       "       Credit_History_Age Payment_of_Min_Amount  Amount_invested_monthly  \\\n",
       "40190                33.0                    No                32.294931   \n",
       "5245                  NaN                   Yes                41.890857   \n",
       "38919                32.0                    No               154.123782   \n",
       "3401                 23.0                    No                93.471162   \n",
       "20178                 9.0                   Yes                58.201790   \n",
       "\n",
       "       Monthly_Balance  \n",
       "40190       449.609436  \n",
       "5245        342.622035  \n",
       "38919       431.985973  \n",
       "3401        509.487032  \n",
       "20178       554.841821  "
      ]
     },
     "execution_count": 39,
     "metadata": {},
     "output_type": "execute_result"
    }
   ],
   "source": [
    "X_test.head()"
   ]
  },
  {
   "cell_type": "code",
   "execution_count": 43,
   "id": "c6061ea5",
   "metadata": {
    "scrolled": true
   },
   "outputs": [
    {
     "data": {
      "text/html": [
       "<div>\n",
       "<style scoped>\n",
       "    .dataframe tbody tr th:only-of-type {\n",
       "        vertical-align: middle;\n",
       "    }\n",
       "\n",
       "    .dataframe tbody tr th {\n",
       "        vertical-align: top;\n",
       "    }\n",
       "\n",
       "    .dataframe thead th {\n",
       "        text-align: right;\n",
       "    }\n",
       "</style>\n",
       "<table border=\"1\" class=\"dataframe\">\n",
       "  <thead>\n",
       "    <tr style=\"text-align: right;\">\n",
       "      <th></th>\n",
       "      <th>Month</th>\n",
       "      <th>Age</th>\n",
       "      <th>Annual_Income</th>\n",
       "      <th>Monthly_Inhand_Salary</th>\n",
       "      <th>Num_Bank_Accounts</th>\n",
       "      <th>Num_Credit_Card</th>\n",
       "      <th>Interest_Rate</th>\n",
       "      <th>Num_of_Loan</th>\n",
       "      <th>Delay_from_due_date</th>\n",
       "      <th>Num_of_Delayed_Payment</th>\n",
       "      <th>Num_Credit_Inquiries</th>\n",
       "      <th>Credit_Mix</th>\n",
       "      <th>Outstanding_Debt</th>\n",
       "      <th>Credit_Utilization_Ratio</th>\n",
       "      <th>Credit_History_Age</th>\n",
       "      <th>Payment_of_Min_Amount</th>\n",
       "      <th>Amount_invested_monthly</th>\n",
       "      <th>Monthly_Balance</th>\n",
       "    </tr>\n",
       "  </thead>\n",
       "  <tbody>\n",
       "    <tr>\n",
       "      <th>5245</th>\n",
       "      <td>May</td>\n",
       "      <td>33.0</td>\n",
       "      <td>18827.29</td>\n",
       "      <td>1484.940833</td>\n",
       "      <td>9</td>\n",
       "      <td>6</td>\n",
       "      <td>32</td>\n",
       "      <td>3.0</td>\n",
       "      <td>31</td>\n",
       "      <td>27.0</td>\n",
       "      <td>10.0</td>\n",
       "      <td>Bad</td>\n",
       "      <td>1370.06</td>\n",
       "      <td>27.681395</td>\n",
       "      <td>NaN</td>\n",
       "      <td>Yes</td>\n",
       "      <td>41.890857</td>\n",
       "      <td>342.622035</td>\n",
       "    </tr>\n",
       "  </tbody>\n",
       "</table>\n",
       "</div>"
      ],
      "text/plain": [
       "     Month   Age  Annual_Income  Monthly_Inhand_Salary  Num_Bank_Accounts  \\\n",
       "5245   May  33.0       18827.29            1484.940833                  9   \n",
       "\n",
       "      Num_Credit_Card  Interest_Rate  Num_of_Loan  Delay_from_due_date  \\\n",
       "5245                6             32          3.0                   31   \n",
       "\n",
       "      Num_of_Delayed_Payment  Num_Credit_Inquiries Credit_Mix  \\\n",
       "5245                    27.0                  10.0        Bad   \n",
       "\n",
       "      Outstanding_Debt  Credit_Utilization_Ratio  Credit_History_Age  \\\n",
       "5245           1370.06                 27.681395                 NaN   \n",
       "\n",
       "     Payment_of_Min_Amount  Amount_invested_monthly  Monthly_Balance  \n",
       "5245                   Yes                41.890857       342.622035  "
      ]
     },
     "execution_count": 43,
     "metadata": {},
     "output_type": "execute_result"
    }
   ],
   "source": [
    "X_test[1:2]"
   ]
  },
  {
   "cell_type": "code",
   "execution_count": 47,
   "id": "e5720106",
   "metadata": {},
   "outputs": [
    {
     "name": "stdout",
     "output_type": "stream",
     "text": [
      "<class 'pandas.core.frame.DataFrame'>\n",
      "Int64Index: 9023 entries, 40190 to 31621\n",
      "Data columns (total 18 columns):\n",
      " #   Column                    Non-Null Count  Dtype  \n",
      "---  ------                    --------------  -----  \n",
      " 0   Month                     9023 non-null   object \n",
      " 1   Age                       9023 non-null   float64\n",
      " 2   Annual_Income             9023 non-null   float64\n",
      " 3   Monthly_Inhand_Salary     9023 non-null   float64\n",
      " 4   Num_Bank_Accounts         9023 non-null   int64  \n",
      " 5   Num_Credit_Card           9023 non-null   int64  \n",
      " 6   Interest_Rate             9023 non-null   int64  \n",
      " 7   Num_of_Loan               9023 non-null   float64\n",
      " 8   Delay_from_due_date       9023 non-null   int64  \n",
      " 9   Num_of_Delayed_Payment    9023 non-null   float64\n",
      " 10  Num_Credit_Inquiries      8861 non-null   float64\n",
      " 11  Credit_Mix                9023 non-null   object \n",
      " 12  Outstanding_Debt          9023 non-null   float64\n",
      " 13  Credit_Utilization_Ratio  9023 non-null   float64\n",
      " 14  Credit_History_Age        8191 non-null   float64\n",
      " 15  Payment_of_Min_Amount     9023 non-null   object \n",
      " 16  Amount_invested_monthly   9023 non-null   float64\n",
      " 17  Monthly_Balance           9023 non-null   float64\n",
      "dtypes: float64(11), int64(4), object(3)\n",
      "memory usage: 1.3+ MB\n"
     ]
    }
   ],
   "source": [
    "X_test.info()"
   ]
  },
  {
   "cell_type": "code",
   "execution_count": 49,
   "id": "bb8dba92",
   "metadata": {},
   "outputs": [
    {
     "data": {
      "text/plain": [
       "Index(['Month', 'Age', 'Annual_Income', 'Monthly_Inhand_Salary',\n",
       "       'Num_Bank_Accounts', 'Num_Credit_Card', 'Interest_Rate', 'Num_of_Loan',\n",
       "       'Delay_from_due_date', 'Num_of_Delayed_Payment', 'Num_Credit_Inquiries',\n",
       "       'Credit_Mix', 'Outstanding_Debt', 'Credit_Utilization_Ratio',\n",
       "       'Credit_History_Age', 'Payment_of_Min_Amount',\n",
       "       'Amount_invested_monthly', 'Monthly_Balance'],\n",
       "      dtype='object')"
      ]
     },
     "execution_count": 49,
     "metadata": {},
     "output_type": "execute_result"
    }
   ],
   "source": [
    "X_test.columns"
   ]
  },
  {
   "cell_type": "code",
   "execution_count": 44,
   "id": "7234daff",
   "metadata": {},
   "outputs": [
    {
     "data": {
      "text/plain": [
       "5245    Poor\n",
       "Name: Credit_Score, dtype: object"
      ]
     },
     "execution_count": 44,
     "metadata": {},
     "output_type": "execute_result"
    }
   ],
   "source": [
    "y_test[1:2]"
   ]
  },
  {
   "cell_type": "code",
   "execution_count": 45,
   "id": "b749fa4b",
   "metadata": {
    "scrolled": true
   },
   "outputs": [
    {
     "data": {
      "text/plain": [
       "array(['Poor'], dtype=object)"
      ]
     },
     "execution_count": 45,
     "metadata": {},
     "output_type": "execute_result"
    }
   ],
   "source": [
    "loaded_model.predict(X_test[1:2])"
   ]
  },
  {
   "cell_type": "code",
   "execution_count": 56,
   "id": "7d7b56f3",
   "metadata": {},
   "outputs": [],
   "source": [
    "used_columns = ['Month', 'Age', 'Annual_Income', 'Monthly_Inhand_Salary',\n",
    "       'Num_Bank_Accounts', 'Num_Credit_Card', 'Interest_Rate', 'Num_of_Loan',\n",
    "       'Delay_from_due_date', 'Num_of_Delayed_Payment', 'Num_Credit_Inquiries',\n",
    "       'Credit_Mix', 'Outstanding_Debt', 'Credit_Utilization_Ratio',\n",
    "       'Credit_History_Age', 'Payment_of_Min_Amount',\n",
    "       'Amount_invested_monthly', 'Monthly_Balance']"
   ]
  },
  {
   "cell_type": "code",
   "execution_count": 62,
   "id": "8ed4f938",
   "metadata": {},
   "outputs": [],
   "source": [
    "example_row = ['May',27.0,35000.26,2000.26,8,5,35,4.0,30,25.0,12.0,'Bad',1635.05,24.22,5.0,'Yes',55.62,380.4]"
   ]
  },
  {
   "cell_type": "code",
   "execution_count": 60,
   "id": "7f42ea92",
   "metadata": {
    "scrolled": true
   },
   "outputs": [
    {
     "data": {
      "text/plain": [
       "17"
      ]
     },
     "execution_count": 60,
     "metadata": {},
     "output_type": "execute_result"
    }
   ],
   "source": [
    "len(example_row)"
   ]
  },
  {
   "cell_type": "code",
   "execution_count": 61,
   "id": "c1909999",
   "metadata": {},
   "outputs": [
    {
     "data": {
      "text/plain": [
       "18"
      ]
     },
     "execution_count": 61,
     "metadata": {},
     "output_type": "execute_result"
    }
   ],
   "source": [
    "len(used_columns)"
   ]
  },
  {
   "cell_type": "code",
   "execution_count": 63,
   "id": "f4dfed3c",
   "metadata": {},
   "outputs": [],
   "source": [
    "new_test_sample = pd.DataFrame(dict(zip(used_columns,example_row)),index=[0])"
   ]
  },
  {
   "cell_type": "code",
   "execution_count": 64,
   "id": "fa81e4ae",
   "metadata": {},
   "outputs": [
    {
     "data": {
      "text/plain": [
       "array(['Poor'], dtype=object)"
      ]
     },
     "execution_count": 64,
     "metadata": {},
     "output_type": "execute_result"
    }
   ],
   "source": [
    "loaded_model.predict(new_test_sample)"
   ]
  },
  {
   "cell_type": "code",
   "execution_count": 65,
   "id": "7a7df371",
   "metadata": {},
   "outputs": [
    {
     "data": {
      "text/plain": [
       "array([[0.0277726 , 0.8264958 , 0.14573158]], dtype=float32)"
      ]
     },
     "execution_count": 65,
     "metadata": {},
     "output_type": "execute_result"
    }
   ],
   "source": [
    "loaded_model.predict_proba(new_test_sample)"
   ]
  }
 ],
 "metadata": {
  "kernelspec": {
   "display_name": "Python (learn-env)",
   "language": "python",
   "name": "learn-env"
  },
  "language_info": {
   "codemirror_mode": {
    "name": "ipython",
    "version": 3
   },
   "file_extension": ".py",
   "mimetype": "text/x-python",
   "name": "python",
   "nbconvert_exporter": "python",
   "pygments_lexer": "ipython3",
   "version": "3.8.5"
  }
 },
 "nbformat": 4,
 "nbformat_minor": 5
}
