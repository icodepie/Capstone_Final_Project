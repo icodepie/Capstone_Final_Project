{
 "cells": [
  {
   "cell_type": "code",
   "execution_count": 1,
   "id": "af2a19cc",
   "metadata": {
    "scrolled": false
   },
   "outputs": [],
   "source": [
    "import pandas as pd\n",
    "import numpy as np\n",
    "from numpy import asarray\n",
    "import seaborn as sns"
   ]
  },
  {
   "cell_type": "code",
   "execution_count": 2,
   "id": "65bd0671",
   "metadata": {},
   "outputs": [],
   "source": [
    "df = pd.read_csv('./data/train.csv',low_memory=False)"
   ]
  },
  {
   "cell_type": "code",
   "execution_count": 3,
   "id": "545eb4a1",
   "metadata": {
    "scrolled": true
   },
   "outputs": [
    {
     "name": "stdout",
     "output_type": "stream",
     "text": [
      "<class 'pandas.core.frame.DataFrame'>\n",
      "RangeIndex: 100000 entries, 0 to 99999\n",
      "Data columns (total 28 columns):\n",
      " #   Column                    Non-Null Count   Dtype  \n",
      "---  ------                    --------------   -----  \n",
      " 0   ID                        100000 non-null  object \n",
      " 1   Customer_ID               100000 non-null  object \n",
      " 2   Month                     100000 non-null  object \n",
      " 3   Name                      90015 non-null   object \n",
      " 4   Age                       100000 non-null  object \n",
      " 5   SSN                       100000 non-null  object \n",
      " 6   Occupation                100000 non-null  object \n",
      " 7   Annual_Income             100000 non-null  object \n",
      " 8   Monthly_Inhand_Salary     84998 non-null   float64\n",
      " 9   Num_Bank_Accounts         100000 non-null  int64  \n",
      " 10  Num_Credit_Card           100000 non-null  int64  \n",
      " 11  Interest_Rate             100000 non-null  int64  \n",
      " 12  Num_of_Loan               100000 non-null  object \n",
      " 13  Type_of_Loan              88592 non-null   object \n",
      " 14  Delay_from_due_date       100000 non-null  int64  \n",
      " 15  Num_of_Delayed_Payment    92998 non-null   object \n",
      " 16  Changed_Credit_Limit      100000 non-null  object \n",
      " 17  Num_Credit_Inquiries      98035 non-null   float64\n",
      " 18  Credit_Mix                100000 non-null  object \n",
      " 19  Outstanding_Debt          100000 non-null  object \n",
      " 20  Credit_Utilization_Ratio  100000 non-null  float64\n",
      " 21  Credit_History_Age        90970 non-null   object \n",
      " 22  Payment_of_Min_Amount     100000 non-null  object \n",
      " 23  Total_EMI_per_month       100000 non-null  float64\n",
      " 24  Amount_invested_monthly   95521 non-null   object \n",
      " 25  Payment_Behaviour         100000 non-null  object \n",
      " 26  Monthly_Balance           98800 non-null   object \n",
      " 27  Credit_Score              100000 non-null  object \n",
      "dtypes: float64(4), int64(4), object(20)\n",
      "memory usage: 21.4+ MB\n"
     ]
    }
   ],
   "source": [
    "df.info()"
   ]
  },
  {
   "cell_type": "code",
   "execution_count": 4,
   "id": "66570c06",
   "metadata": {},
   "outputs": [
    {
     "data": {
      "text/html": [
       "<div>\n",
       "<style scoped>\n",
       "    .dataframe tbody tr th:only-of-type {\n",
       "        vertical-align: middle;\n",
       "    }\n",
       "\n",
       "    .dataframe tbody tr th {\n",
       "        vertical-align: top;\n",
       "    }\n",
       "\n",
       "    .dataframe thead th {\n",
       "        text-align: right;\n",
       "    }\n",
       "</style>\n",
       "<table border=\"1\" class=\"dataframe\">\n",
       "  <thead>\n",
       "    <tr style=\"text-align: right;\">\n",
       "      <th></th>\n",
       "      <th>ID</th>\n",
       "      <th>Customer_ID</th>\n",
       "      <th>Month</th>\n",
       "      <th>Name</th>\n",
       "      <th>Age</th>\n",
       "      <th>SSN</th>\n",
       "      <th>Occupation</th>\n",
       "      <th>Annual_Income</th>\n",
       "      <th>Monthly_Inhand_Salary</th>\n",
       "      <th>Num_Bank_Accounts</th>\n",
       "      <th>...</th>\n",
       "      <th>Credit_Mix</th>\n",
       "      <th>Outstanding_Debt</th>\n",
       "      <th>Credit_Utilization_Ratio</th>\n",
       "      <th>Credit_History_Age</th>\n",
       "      <th>Payment_of_Min_Amount</th>\n",
       "      <th>Total_EMI_per_month</th>\n",
       "      <th>Amount_invested_monthly</th>\n",
       "      <th>Payment_Behaviour</th>\n",
       "      <th>Monthly_Balance</th>\n",
       "      <th>Credit_Score</th>\n",
       "    </tr>\n",
       "  </thead>\n",
       "  <tbody>\n",
       "    <tr>\n",
       "      <th>0</th>\n",
       "      <td>0x1602</td>\n",
       "      <td>CUS_0xd40</td>\n",
       "      <td>January</td>\n",
       "      <td>Aaron Maashoh</td>\n",
       "      <td>23</td>\n",
       "      <td>821-00-0265</td>\n",
       "      <td>Scientist</td>\n",
       "      <td>19114.12</td>\n",
       "      <td>1824.843333</td>\n",
       "      <td>3</td>\n",
       "      <td>...</td>\n",
       "      <td>_</td>\n",
       "      <td>809.98</td>\n",
       "      <td>26.822620</td>\n",
       "      <td>22 Years and 1 Months</td>\n",
       "      <td>No</td>\n",
       "      <td>49.574949</td>\n",
       "      <td>80.41529543900253</td>\n",
       "      <td>High_spent_Small_value_payments</td>\n",
       "      <td>312.49408867943663</td>\n",
       "      <td>Good</td>\n",
       "    </tr>\n",
       "    <tr>\n",
       "      <th>1</th>\n",
       "      <td>0x1603</td>\n",
       "      <td>CUS_0xd40</td>\n",
       "      <td>February</td>\n",
       "      <td>Aaron Maashoh</td>\n",
       "      <td>23</td>\n",
       "      <td>821-00-0265</td>\n",
       "      <td>Scientist</td>\n",
       "      <td>19114.12</td>\n",
       "      <td>NaN</td>\n",
       "      <td>3</td>\n",
       "      <td>...</td>\n",
       "      <td>Good</td>\n",
       "      <td>809.98</td>\n",
       "      <td>31.944960</td>\n",
       "      <td>NaN</td>\n",
       "      <td>No</td>\n",
       "      <td>49.574949</td>\n",
       "      <td>118.28022162236736</td>\n",
       "      <td>Low_spent_Large_value_payments</td>\n",
       "      <td>284.62916249607184</td>\n",
       "      <td>Good</td>\n",
       "    </tr>\n",
       "    <tr>\n",
       "      <th>2</th>\n",
       "      <td>0x1604</td>\n",
       "      <td>CUS_0xd40</td>\n",
       "      <td>March</td>\n",
       "      <td>Aaron Maashoh</td>\n",
       "      <td>-500</td>\n",
       "      <td>821-00-0265</td>\n",
       "      <td>Scientist</td>\n",
       "      <td>19114.12</td>\n",
       "      <td>NaN</td>\n",
       "      <td>3</td>\n",
       "      <td>...</td>\n",
       "      <td>Good</td>\n",
       "      <td>809.98</td>\n",
       "      <td>28.609352</td>\n",
       "      <td>22 Years and 3 Months</td>\n",
       "      <td>No</td>\n",
       "      <td>49.574949</td>\n",
       "      <td>81.699521264648</td>\n",
       "      <td>Low_spent_Medium_value_payments</td>\n",
       "      <td>331.2098628537912</td>\n",
       "      <td>Good</td>\n",
       "    </tr>\n",
       "    <tr>\n",
       "      <th>3</th>\n",
       "      <td>0x1605</td>\n",
       "      <td>CUS_0xd40</td>\n",
       "      <td>April</td>\n",
       "      <td>Aaron Maashoh</td>\n",
       "      <td>23</td>\n",
       "      <td>821-00-0265</td>\n",
       "      <td>Scientist</td>\n",
       "      <td>19114.12</td>\n",
       "      <td>NaN</td>\n",
       "      <td>3</td>\n",
       "      <td>...</td>\n",
       "      <td>Good</td>\n",
       "      <td>809.98</td>\n",
       "      <td>31.377862</td>\n",
       "      <td>22 Years and 4 Months</td>\n",
       "      <td>No</td>\n",
       "      <td>49.574949</td>\n",
       "      <td>199.4580743910713</td>\n",
       "      <td>Low_spent_Small_value_payments</td>\n",
       "      <td>223.45130972736786</td>\n",
       "      <td>Good</td>\n",
       "    </tr>\n",
       "    <tr>\n",
       "      <th>4</th>\n",
       "      <td>0x1606</td>\n",
       "      <td>CUS_0xd40</td>\n",
       "      <td>May</td>\n",
       "      <td>Aaron Maashoh</td>\n",
       "      <td>23</td>\n",
       "      <td>821-00-0265</td>\n",
       "      <td>Scientist</td>\n",
       "      <td>19114.12</td>\n",
       "      <td>1824.843333</td>\n",
       "      <td>3</td>\n",
       "      <td>...</td>\n",
       "      <td>Good</td>\n",
       "      <td>809.98</td>\n",
       "      <td>24.797347</td>\n",
       "      <td>22 Years and 5 Months</td>\n",
       "      <td>No</td>\n",
       "      <td>49.574949</td>\n",
       "      <td>41.420153086217326</td>\n",
       "      <td>High_spent_Medium_value_payments</td>\n",
       "      <td>341.48923103222177</td>\n",
       "      <td>Good</td>\n",
       "    </tr>\n",
       "  </tbody>\n",
       "</table>\n",
       "<p>5 rows × 28 columns</p>\n",
       "</div>"
      ],
      "text/plain": [
       "       ID Customer_ID     Month           Name   Age          SSN Occupation  \\\n",
       "0  0x1602   CUS_0xd40   January  Aaron Maashoh    23  821-00-0265  Scientist   \n",
       "1  0x1603   CUS_0xd40  February  Aaron Maashoh    23  821-00-0265  Scientist   \n",
       "2  0x1604   CUS_0xd40     March  Aaron Maashoh  -500  821-00-0265  Scientist   \n",
       "3  0x1605   CUS_0xd40     April  Aaron Maashoh    23  821-00-0265  Scientist   \n",
       "4  0x1606   CUS_0xd40       May  Aaron Maashoh    23  821-00-0265  Scientist   \n",
       "\n",
       "  Annual_Income  Monthly_Inhand_Salary  Num_Bank_Accounts  ...  Credit_Mix  \\\n",
       "0      19114.12            1824.843333                  3  ...           _   \n",
       "1      19114.12                    NaN                  3  ...        Good   \n",
       "2      19114.12                    NaN                  3  ...        Good   \n",
       "3      19114.12                    NaN                  3  ...        Good   \n",
       "4      19114.12            1824.843333                  3  ...        Good   \n",
       "\n",
       "   Outstanding_Debt Credit_Utilization_Ratio     Credit_History_Age  \\\n",
       "0            809.98                26.822620  22 Years and 1 Months   \n",
       "1            809.98                31.944960                    NaN   \n",
       "2            809.98                28.609352  22 Years and 3 Months   \n",
       "3            809.98                31.377862  22 Years and 4 Months   \n",
       "4            809.98                24.797347  22 Years and 5 Months   \n",
       "\n",
       "   Payment_of_Min_Amount Total_EMI_per_month Amount_invested_monthly  \\\n",
       "0                     No           49.574949       80.41529543900253   \n",
       "1                     No           49.574949      118.28022162236736   \n",
       "2                     No           49.574949         81.699521264648   \n",
       "3                     No           49.574949       199.4580743910713   \n",
       "4                     No           49.574949      41.420153086217326   \n",
       "\n",
       "                  Payment_Behaviour     Monthly_Balance Credit_Score  \n",
       "0   High_spent_Small_value_payments  312.49408867943663         Good  \n",
       "1    Low_spent_Large_value_payments  284.62916249607184         Good  \n",
       "2   Low_spent_Medium_value_payments   331.2098628537912         Good  \n",
       "3    Low_spent_Small_value_payments  223.45130972736786         Good  \n",
       "4  High_spent_Medium_value_payments  341.48923103222177         Good  \n",
       "\n",
       "[5 rows x 28 columns]"
      ]
     },
     "execution_count": 4,
     "metadata": {},
     "output_type": "execute_result"
    }
   ],
   "source": [
    "df.head()"
   ]
  },
  {
   "cell_type": "code",
   "execution_count": 5,
   "id": "b2fe53b4",
   "metadata": {},
   "outputs": [],
   "source": [
    "df.drop(['ID','Customer_ID','Month','Name','SSN','Type_of_Loan'],inplace=True, axis=1)"
   ]
  },
  {
   "cell_type": "code",
   "execution_count": 6,
   "id": "837a4b3c",
   "metadata": {
    "scrolled": true
   },
   "outputs": [
    {
     "name": "stdout",
     "output_type": "stream",
     "text": [
      "<class 'pandas.core.frame.DataFrame'>\n",
      "RangeIndex: 100000 entries, 0 to 99999\n",
      "Data columns (total 22 columns):\n",
      " #   Column                    Non-Null Count   Dtype  \n",
      "---  ------                    --------------   -----  \n",
      " 0   Age                       100000 non-null  object \n",
      " 1   Occupation                100000 non-null  object \n",
      " 2   Annual_Income             100000 non-null  object \n",
      " 3   Monthly_Inhand_Salary     84998 non-null   float64\n",
      " 4   Num_Bank_Accounts         100000 non-null  int64  \n",
      " 5   Num_Credit_Card           100000 non-null  int64  \n",
      " 6   Interest_Rate             100000 non-null  int64  \n",
      " 7   Num_of_Loan               100000 non-null  object \n",
      " 8   Delay_from_due_date       100000 non-null  int64  \n",
      " 9   Num_of_Delayed_Payment    92998 non-null   object \n",
      " 10  Changed_Credit_Limit      100000 non-null  object \n",
      " 11  Num_Credit_Inquiries      98035 non-null   float64\n",
      " 12  Credit_Mix                100000 non-null  object \n",
      " 13  Outstanding_Debt          100000 non-null  object \n",
      " 14  Credit_Utilization_Ratio  100000 non-null  float64\n",
      " 15  Credit_History_Age        90970 non-null   object \n",
      " 16  Payment_of_Min_Amount     100000 non-null  object \n",
      " 17  Total_EMI_per_month       100000 non-null  float64\n",
      " 18  Amount_invested_monthly   95521 non-null   object \n",
      " 19  Payment_Behaviour         100000 non-null  object \n",
      " 20  Monthly_Balance           98800 non-null   object \n",
      " 21  Credit_Score              100000 non-null  object \n",
      "dtypes: float64(4), int64(4), object(14)\n",
      "memory usage: 16.8+ MB\n"
     ]
    }
   ],
   "source": [
    "df.info()"
   ]
  },
  {
   "cell_type": "code",
   "execution_count": 7,
   "id": "f46d4306",
   "metadata": {},
   "outputs": [],
   "source": [
    "df['Age'] = df.Age.str.replace('_','')"
   ]
  },
  {
   "cell_type": "code",
   "execution_count": 8,
   "id": "cfe52347",
   "metadata": {},
   "outputs": [],
   "source": [
    "df['Age'] = df.Age.astype(float)"
   ]
  },
  {
   "cell_type": "code",
   "execution_count": 9,
   "id": "1df3220c",
   "metadata": {},
   "outputs": [],
   "source": [
    "df = df.loc[(df['Age'] > 16) & (df['Age'] < 90)]"
   ]
  },
  {
   "cell_type": "code",
   "execution_count": 10,
   "id": "accb495b",
   "metadata": {},
   "outputs": [],
   "source": [
    "df['Age'] = df.Age.astype(object)"
   ]
  },
  {
   "cell_type": "code",
   "execution_count": 11,
   "id": "92a0a8e3",
   "metadata": {},
   "outputs": [
    {
     "data": {
      "text/plain": [
       "38.0    2994\n",
       "28.0    2968\n",
       "31.0    2955\n",
       "26.0    2945\n",
       "32.0    2884\n",
       "36.0    2868\n",
       "35.0    2866\n",
       "25.0    2861\n",
       "27.0    2859\n",
       "39.0    2846\n",
       "34.0    2837\n",
       "44.0    2824\n",
       "19.0    2793\n",
       "22.0    2785\n",
       "41.0    2785\n",
       "20.0    2744\n",
       "37.0    2742\n",
       "29.0    2735\n",
       "43.0    2734\n",
       "30.0    2727\n",
       "21.0    2716\n",
       "24.0    2714\n",
       "23.0    2654\n",
       "45.0    2642\n",
       "40.0    2609\n",
       "42.0    2577\n",
       "33.0    2543\n",
       "18.0    2385\n",
       "46.0    1621\n",
       "17.0    1502\n",
       "48.0    1385\n",
       "49.0    1375\n",
       "55.0    1366\n",
       "52.0    1356\n",
       "53.0    1354\n",
       "54.0    1311\n",
       "51.0    1291\n",
       "50.0    1273\n",
       "47.0    1227\n",
       "56.0     362\n",
       "Name: Age, dtype: int64"
      ]
     },
     "execution_count": 11,
     "metadata": {},
     "output_type": "execute_result"
    }
   ],
   "source": [
    "df.Age.value_counts()"
   ]
  },
  {
   "cell_type": "code",
   "execution_count": 12,
   "id": "505e7a72",
   "metadata": {},
   "outputs": [
    {
     "data": {
      "text/plain": [
       "_______          6576\n",
       "Lawyer           6133\n",
       "Architect        5962\n",
       "Engineer         5920\n",
       "Accountant       5869\n",
       "Scientist        5838\n",
       "Mechanic         5816\n",
       "Developer        5805\n",
       "Media_Manager    5766\n",
       "Journalist       5741\n",
       "Teacher          5720\n",
       "Entrepreneur     5713\n",
       "Doctor           5639\n",
       "Musician         5527\n",
       "Manager          5510\n",
       "Writer           5480\n",
       "Name: Occupation, dtype: int64"
      ]
     },
     "execution_count": 12,
     "metadata": {},
     "output_type": "execute_result"
    }
   ],
   "source": [
    "df['Occupation'].value_counts()"
   ]
  },
  {
   "cell_type": "code",
   "execution_count": 13,
   "id": "902823f5",
   "metadata": {},
   "outputs": [],
   "source": [
    "df['Occupation'] = df.Occupation.str.replace('_______','other')"
   ]
  },
  {
   "cell_type": "code",
   "execution_count": 14,
   "id": "65523c21",
   "metadata": {},
   "outputs": [],
   "source": [
    "df.drop(['Occupation'],inplace=True, axis=1)"
   ]
  },
  {
   "cell_type": "code",
   "execution_count": 15,
   "id": "2464740f",
   "metadata": {
    "scrolled": true
   },
   "outputs": [
    {
     "name": "stdout",
     "output_type": "stream",
     "text": [
      "<class 'pandas.core.frame.DataFrame'>\n",
      "Int64Index: 93015 entries, 0 to 99999\n",
      "Data columns (total 21 columns):\n",
      " #   Column                    Non-Null Count  Dtype  \n",
      "---  ------                    --------------  -----  \n",
      " 0   Age                       93015 non-null  object \n",
      " 1   Annual_Income             93015 non-null  object \n",
      " 2   Monthly_Inhand_Salary     79073 non-null  float64\n",
      " 3   Num_Bank_Accounts         93015 non-null  int64  \n",
      " 4   Num_Credit_Card           93015 non-null  int64  \n",
      " 5   Interest_Rate             93015 non-null  int64  \n",
      " 6   Num_of_Loan               93015 non-null  object \n",
      " 7   Delay_from_due_date       93015 non-null  int64  \n",
      " 8   Num_of_Delayed_Payment    86460 non-null  object \n",
      " 9   Changed_Credit_Limit      93015 non-null  object \n",
      " 10  Num_Credit_Inquiries      91191 non-null  float64\n",
      " 11  Credit_Mix                93015 non-null  object \n",
      " 12  Outstanding_Debt          93015 non-null  object \n",
      " 13  Credit_Utilization_Ratio  93015 non-null  float64\n",
      " 14  Credit_History_Age        84607 non-null  object \n",
      " 15  Payment_of_Min_Amount     93015 non-null  object \n",
      " 16  Total_EMI_per_month       93015 non-null  float64\n",
      " 17  Amount_invested_monthly   88857 non-null  object \n",
      " 18  Payment_Behaviour         93015 non-null  object \n",
      " 19  Monthly_Balance           91909 non-null  object \n",
      " 20  Credit_Score              93015 non-null  object \n",
      "dtypes: float64(4), int64(4), object(13)\n",
      "memory usage: 15.6+ MB\n"
     ]
    }
   ],
   "source": [
    "df.info()"
   ]
  },
  {
   "cell_type": "code",
   "execution_count": 16,
   "id": "63ced1d7",
   "metadata": {},
   "outputs": [],
   "source": [
    "df['Annual_Income'] = df.Annual_Income.str.replace('_','')"
   ]
  },
  {
   "cell_type": "code",
   "execution_count": 17,
   "id": "1583a110",
   "metadata": {},
   "outputs": [
    {
     "data": {
      "text/plain": [
       "20867.67      16\n",
       "109945.32     16\n",
       "40341.16      16\n",
       "32543.38      16\n",
       "36585.12      16\n",
       "              ..\n",
       "21958247.0     1\n",
       "1605533.0      1\n",
       "20099781.0     1\n",
       "15333374.0     1\n",
       "7339095.0      1\n",
       "Name: Annual_Income, Length: 12942, dtype: int64"
      ]
     },
     "execution_count": 17,
     "metadata": {},
     "output_type": "execute_result"
    }
   ],
   "source": [
    "df['Annual_Income'].value_counts()"
   ]
  },
  {
   "cell_type": "code",
   "execution_count": 18,
   "id": "f6cb6362",
   "metadata": {},
   "outputs": [],
   "source": [
    "df['Annual_Income'] = df.Annual_Income.astype(float)"
   ]
  },
  {
   "cell_type": "code",
   "execution_count": 19,
   "id": "b00838d2",
   "metadata": {},
   "outputs": [
    {
     "name": "stdout",
     "output_type": "stream",
     "text": [
      "<class 'pandas.core.frame.DataFrame'>\n",
      "Int64Index: 93015 entries, 0 to 99999\n",
      "Data columns (total 21 columns):\n",
      " #   Column                    Non-Null Count  Dtype  \n",
      "---  ------                    --------------  -----  \n",
      " 0   Age                       93015 non-null  object \n",
      " 1   Annual_Income             93015 non-null  float64\n",
      " 2   Monthly_Inhand_Salary     79073 non-null  float64\n",
      " 3   Num_Bank_Accounts         93015 non-null  int64  \n",
      " 4   Num_Credit_Card           93015 non-null  int64  \n",
      " 5   Interest_Rate             93015 non-null  int64  \n",
      " 6   Num_of_Loan               93015 non-null  object \n",
      " 7   Delay_from_due_date       93015 non-null  int64  \n",
      " 8   Num_of_Delayed_Payment    86460 non-null  object \n",
      " 9   Changed_Credit_Limit      93015 non-null  object \n",
      " 10  Num_Credit_Inquiries      91191 non-null  float64\n",
      " 11  Credit_Mix                93015 non-null  object \n",
      " 12  Outstanding_Debt          93015 non-null  object \n",
      " 13  Credit_Utilization_Ratio  93015 non-null  float64\n",
      " 14  Credit_History_Age        84607 non-null  object \n",
      " 15  Payment_of_Min_Amount     93015 non-null  object \n",
      " 16  Total_EMI_per_month       93015 non-null  float64\n",
      " 17  Amount_invested_monthly   88857 non-null  object \n",
      " 18  Payment_Behaviour         93015 non-null  object \n",
      " 19  Monthly_Balance           91909 non-null  object \n",
      " 20  Credit_Score              93015 non-null  object \n",
      "dtypes: float64(5), int64(4), object(12)\n",
      "memory usage: 15.6+ MB\n"
     ]
    }
   ],
   "source": [
    "df.info()"
   ]
  },
  {
   "cell_type": "code",
   "execution_count": 20,
   "id": "c0ee83b5",
   "metadata": {},
   "outputs": [],
   "source": [
    "df['Num_of_Loan'] = df.Num_of_Loan.str.replace('_','')"
   ]
  },
  {
   "cell_type": "code",
   "execution_count": 21,
   "id": "985cb90e",
   "metadata": {},
   "outputs": [],
   "source": [
    "df['Num_of_Loan'] = df.Num_of_Loan.astype(float)"
   ]
  },
  {
   "cell_type": "code",
   "execution_count": 22,
   "id": "1bb5d8cc",
   "metadata": {},
   "outputs": [],
   "source": [
    "df = df.loc[(df['Num_of_Loan'] > 1) & (df['Num_of_Loan'] < 10)]"
   ]
  },
  {
   "cell_type": "code",
   "execution_count": 23,
   "id": "e14dbb34",
   "metadata": {},
   "outputs": [],
   "source": [
    "df['Num_of_Loan'] = df.Num_of_Loan.astype(object)"
   ]
  },
  {
   "cell_type": "code",
   "execution_count": 24,
   "id": "917e070f",
   "metadata": {},
   "outputs": [
    {
     "name": "stdout",
     "output_type": "stream",
     "text": [
      "<class 'pandas.core.frame.DataFrame'>\n",
      "Int64Index: 68206 entries, 0 to 99999\n",
      "Data columns (total 21 columns):\n",
      " #   Column                    Non-Null Count  Dtype  \n",
      "---  ------                    --------------  -----  \n",
      " 0   Age                       68206 non-null  object \n",
      " 1   Annual_Income             68206 non-null  float64\n",
      " 2   Monthly_Inhand_Salary     58016 non-null  float64\n",
      " 3   Num_Bank_Accounts         68206 non-null  int64  \n",
      " 4   Num_Credit_Card           68206 non-null  int64  \n",
      " 5   Interest_Rate             68206 non-null  int64  \n",
      " 6   Num_of_Loan               68206 non-null  object \n",
      " 7   Delay_from_due_date       68206 non-null  int64  \n",
      " 8   Num_of_Delayed_Payment    63418 non-null  object \n",
      " 9   Changed_Credit_Limit      68206 non-null  object \n",
      " 10  Num_Credit_Inquiries      66887 non-null  float64\n",
      " 11  Credit_Mix                68206 non-null  object \n",
      " 12  Outstanding_Debt          68206 non-null  object \n",
      " 13  Credit_Utilization_Ratio  68206 non-null  float64\n",
      " 14  Credit_History_Age        62020 non-null  object \n",
      " 15  Payment_of_Min_Amount     68206 non-null  object \n",
      " 16  Total_EMI_per_month       68206 non-null  float64\n",
      " 17  Amount_invested_monthly   65134 non-null  object \n",
      " 18  Payment_Behaviour         68206 non-null  object \n",
      " 19  Monthly_Balance           67209 non-null  object \n",
      " 20  Credit_Score              68206 non-null  object \n",
      "dtypes: float64(5), int64(4), object(12)\n",
      "memory usage: 11.4+ MB\n"
     ]
    }
   ],
   "source": [
    "df.info()"
   ]
  },
  {
   "cell_type": "code",
   "execution_count": 25,
   "id": "c49d75a8",
   "metadata": {},
   "outputs": [
    {
     "data": {
      "text/plain": [
       "19      4039\n",
       "17      3803\n",
       "18      3751\n",
       "16      3704\n",
       "20      3688\n",
       "        ... \n",
       "1530       1\n",
       "4134       1\n",
       "848_       1\n",
       "2616       1\n",
       "2047       1\n",
       "Name: Num_of_Delayed_Payment, Length: 549, dtype: int64"
      ]
     },
     "execution_count": 25,
     "metadata": {},
     "output_type": "execute_result"
    }
   ],
   "source": [
    "df['Num_of_Delayed_Payment'].value_counts()"
   ]
  },
  {
   "cell_type": "code",
   "execution_count": 26,
   "id": "f615350b",
   "metadata": {},
   "outputs": [],
   "source": [
    "df['Num_of_Delayed_Payment'] = df.Num_of_Delayed_Payment.str.replace('_','')"
   ]
  },
  {
   "cell_type": "code",
   "execution_count": 27,
   "id": "9b5e382f",
   "metadata": {},
   "outputs": [],
   "source": [
    "df['Num_of_Delayed_Payment'] = df.Num_of_Delayed_Payment.astype(float)"
   ]
  },
  {
   "cell_type": "code",
   "execution_count": 28,
   "id": "76c52ba5",
   "metadata": {},
   "outputs": [],
   "source": [
    "df = df.loc[(df['Num_of_Delayed_Payment'] > 1) & (df['Num_of_Delayed_Payment'] < 40)]"
   ]
  },
  {
   "cell_type": "code",
   "execution_count": 29,
   "id": "89acf554",
   "metadata": {},
   "outputs": [],
   "source": [
    "df['Num_of_Delayed_Payment'] = df.Num_of_Delayed_Payment.astype(object)"
   ]
  },
  {
   "cell_type": "code",
   "execution_count": 30,
   "id": "518252c5",
   "metadata": {
    "scrolled": true
   },
   "outputs": [
    {
     "name": "stdout",
     "output_type": "stream",
     "text": [
      "<class 'pandas.core.frame.DataFrame'>\n",
      "Int64Index: 60732 entries, 0 to 99999\n",
      "Data columns (total 21 columns):\n",
      " #   Column                    Non-Null Count  Dtype  \n",
      "---  ------                    --------------  -----  \n",
      " 0   Age                       60732 non-null  object \n",
      " 1   Annual_Income             60732 non-null  float64\n",
      " 2   Monthly_Inhand_Salary     51667 non-null  float64\n",
      " 3   Num_Bank_Accounts         60732 non-null  int64  \n",
      " 4   Num_Credit_Card           60732 non-null  int64  \n",
      " 5   Interest_Rate             60732 non-null  int64  \n",
      " 6   Num_of_Loan               60732 non-null  object \n",
      " 7   Delay_from_due_date       60732 non-null  int64  \n",
      " 8   Num_of_Delayed_Payment    60732 non-null  object \n",
      " 9   Changed_Credit_Limit      60732 non-null  object \n",
      " 10  Num_Credit_Inquiries      59566 non-null  float64\n",
      " 11  Credit_Mix                60732 non-null  object \n",
      " 12  Outstanding_Debt          60732 non-null  object \n",
      " 13  Credit_Utilization_Ratio  60732 non-null  float64\n",
      " 14  Credit_History_Age        55249 non-null  object \n",
      " 15  Payment_of_Min_Amount     60732 non-null  object \n",
      " 16  Total_EMI_per_month       60732 non-null  float64\n",
      " 17  Amount_invested_monthly   57989 non-null  object \n",
      " 18  Payment_Behaviour         60732 non-null  object \n",
      " 19  Monthly_Balance           59855 non-null  object \n",
      " 20  Credit_Score              60732 non-null  object \n",
      "dtypes: float64(5), int64(4), object(12)\n",
      "memory usage: 10.2+ MB\n"
     ]
    }
   ],
   "source": [
    "df.info()"
   ]
  },
  {
   "cell_type": "code",
   "execution_count": 31,
   "id": "a53990c3",
   "metadata": {},
   "outputs": [],
   "source": [
    "df.drop(['Changed_Credit_Limit'],inplace=True, axis=1)"
   ]
  },
  {
   "cell_type": "code",
   "execution_count": 32,
   "id": "2c0c61eb",
   "metadata": {},
   "outputs": [
    {
     "name": "stdout",
     "output_type": "stream",
     "text": [
      "<class 'pandas.core.frame.DataFrame'>\n",
      "Int64Index: 60732 entries, 0 to 99999\n",
      "Data columns (total 20 columns):\n",
      " #   Column                    Non-Null Count  Dtype  \n",
      "---  ------                    --------------  -----  \n",
      " 0   Age                       60732 non-null  object \n",
      " 1   Annual_Income             60732 non-null  float64\n",
      " 2   Monthly_Inhand_Salary     51667 non-null  float64\n",
      " 3   Num_Bank_Accounts         60732 non-null  int64  \n",
      " 4   Num_Credit_Card           60732 non-null  int64  \n",
      " 5   Interest_Rate             60732 non-null  int64  \n",
      " 6   Num_of_Loan               60732 non-null  object \n",
      " 7   Delay_from_due_date       60732 non-null  int64  \n",
      " 8   Num_of_Delayed_Payment    60732 non-null  object \n",
      " 9   Num_Credit_Inquiries      59566 non-null  float64\n",
      " 10  Credit_Mix                60732 non-null  object \n",
      " 11  Outstanding_Debt          60732 non-null  object \n",
      " 12  Credit_Utilization_Ratio  60732 non-null  float64\n",
      " 13  Credit_History_Age        55249 non-null  object \n",
      " 14  Payment_of_Min_Amount     60732 non-null  object \n",
      " 15  Total_EMI_per_month       60732 non-null  float64\n",
      " 16  Amount_invested_monthly   57989 non-null  object \n",
      " 17  Payment_Behaviour         60732 non-null  object \n",
      " 18  Monthly_Balance           59855 non-null  object \n",
      " 19  Credit_Score              60732 non-null  object \n",
      "dtypes: float64(5), int64(4), object(11)\n",
      "memory usage: 9.7+ MB\n"
     ]
    }
   ],
   "source": [
    "df.info()"
   ]
  },
  {
   "cell_type": "code",
   "execution_count": 33,
   "id": "77f5ca0c",
   "metadata": {},
   "outputs": [],
   "source": [
    "df['Credit_Mix'] = df.Credit_Mix.str.replace('_','other')"
   ]
  },
  {
   "cell_type": "code",
   "execution_count": 34,
   "id": "73fb08aa",
   "metadata": {},
   "outputs": [
    {
     "data": {
      "text/plain": [
       "Standard    22755\n",
       "Bad         14914\n",
       "other       12313\n",
       "Good        10750\n",
       "Name: Credit_Mix, dtype: int64"
      ]
     },
     "execution_count": 34,
     "metadata": {},
     "output_type": "execute_result"
    }
   ],
   "source": [
    "df['Credit_Mix'].value_counts()"
   ]
  },
  {
   "cell_type": "code",
   "execution_count": 35,
   "id": "0f0cc8d7",
   "metadata": {},
   "outputs": [],
   "source": [
    "df['Outstanding_Debt'] = df.Outstanding_Debt.str.replace('_','')"
   ]
  },
  {
   "cell_type": "code",
   "execution_count": 36,
   "id": "f95b65a1",
   "metadata": {},
   "outputs": [],
   "source": [
    "df['Outstanding_Debt'] = df.Outstanding_Debt.astype(float)"
   ]
  },
  {
   "cell_type": "code",
   "execution_count": 37,
   "id": "36e88c03",
   "metadata": {},
   "outputs": [
    {
     "data": {
      "text/plain": [
       "1151.70    24\n",
       "1360.45    22\n",
       "240.27     16\n",
       "2370.05    16\n",
       "1584.95    16\n",
       "           ..\n",
       "1147.62     1\n",
       "918.89      1\n",
       "581.83      1\n",
       "608.16      1\n",
       "832.06      1\n",
       "Name: Outstanding_Debt, Length: 8982, dtype: int64"
      ]
     },
     "execution_count": 37,
     "metadata": {},
     "output_type": "execute_result"
    }
   ],
   "source": [
    "df['Outstanding_Debt'].value_counts()"
   ]
  },
  {
   "cell_type": "code",
   "execution_count": 38,
   "id": "ef6931e7",
   "metadata": {
    "scrolled": false
   },
   "outputs": [
    {
     "name": "stdout",
     "output_type": "stream",
     "text": [
      "<class 'pandas.core.frame.DataFrame'>\n",
      "Int64Index: 60732 entries, 0 to 99999\n",
      "Data columns (total 20 columns):\n",
      " #   Column                    Non-Null Count  Dtype  \n",
      "---  ------                    --------------  -----  \n",
      " 0   Age                       60732 non-null  object \n",
      " 1   Annual_Income             60732 non-null  float64\n",
      " 2   Monthly_Inhand_Salary     51667 non-null  float64\n",
      " 3   Num_Bank_Accounts         60732 non-null  int64  \n",
      " 4   Num_Credit_Card           60732 non-null  int64  \n",
      " 5   Interest_Rate             60732 non-null  int64  \n",
      " 6   Num_of_Loan               60732 non-null  object \n",
      " 7   Delay_from_due_date       60732 non-null  int64  \n",
      " 8   Num_of_Delayed_Payment    60732 non-null  object \n",
      " 9   Num_Credit_Inquiries      59566 non-null  float64\n",
      " 10  Credit_Mix                60732 non-null  object \n",
      " 11  Outstanding_Debt          60732 non-null  float64\n",
      " 12  Credit_Utilization_Ratio  60732 non-null  float64\n",
      " 13  Credit_History_Age        55249 non-null  object \n",
      " 14  Payment_of_Min_Amount     60732 non-null  object \n",
      " 15  Total_EMI_per_month       60732 non-null  float64\n",
      " 16  Amount_invested_monthly   57989 non-null  object \n",
      " 17  Payment_Behaviour         60732 non-null  object \n",
      " 18  Monthly_Balance           59855 non-null  object \n",
      " 19  Credit_Score              60732 non-null  object \n",
      "dtypes: float64(6), int64(4), object(10)\n",
      "memory usage: 9.7+ MB\n"
     ]
    }
   ],
   "source": [
    "df.info()"
   ]
  },
  {
   "cell_type": "code",
   "execution_count": 39,
   "id": "03e752e6",
   "metadata": {
    "scrolled": true
   },
   "outputs": [],
   "source": [
    "df['Credit_History_Age'] = df['Credit_History_Age'].str[:2]"
   ]
  },
  {
   "cell_type": "code",
   "execution_count": 40,
   "id": "0f4f481e",
   "metadata": {},
   "outputs": [],
   "source": [
    "df['Credit_History_Age'] = df.Credit_History_Age.astype(object)"
   ]
  },
  {
   "cell_type": "code",
   "execution_count": 41,
   "id": "eb4682a1",
   "metadata": {},
   "outputs": [
    {
     "name": "stdout",
     "output_type": "stream",
     "text": [
      "<class 'pandas.core.frame.DataFrame'>\n",
      "Int64Index: 60732 entries, 0 to 99999\n",
      "Data columns (total 20 columns):\n",
      " #   Column                    Non-Null Count  Dtype  \n",
      "---  ------                    --------------  -----  \n",
      " 0   Age                       60732 non-null  object \n",
      " 1   Annual_Income             60732 non-null  float64\n",
      " 2   Monthly_Inhand_Salary     51667 non-null  float64\n",
      " 3   Num_Bank_Accounts         60732 non-null  int64  \n",
      " 4   Num_Credit_Card           60732 non-null  int64  \n",
      " 5   Interest_Rate             60732 non-null  int64  \n",
      " 6   Num_of_Loan               60732 non-null  object \n",
      " 7   Delay_from_due_date       60732 non-null  int64  \n",
      " 8   Num_of_Delayed_Payment    60732 non-null  object \n",
      " 9   Num_Credit_Inquiries      59566 non-null  float64\n",
      " 10  Credit_Mix                60732 non-null  object \n",
      " 11  Outstanding_Debt          60732 non-null  float64\n",
      " 12  Credit_Utilization_Ratio  60732 non-null  float64\n",
      " 13  Credit_History_Age        55249 non-null  object \n",
      " 14  Payment_of_Min_Amount     60732 non-null  object \n",
      " 15  Total_EMI_per_month       60732 non-null  float64\n",
      " 16  Amount_invested_monthly   57989 non-null  object \n",
      " 17  Payment_Behaviour         60732 non-null  object \n",
      " 18  Monthly_Balance           59855 non-null  object \n",
      " 19  Credit_Score              60732 non-null  object \n",
      "dtypes: float64(6), int64(4), object(10)\n",
      "memory usage: 9.7+ MB\n"
     ]
    }
   ],
   "source": [
    "df.info()"
   ]
  },
  {
   "cell_type": "code",
   "execution_count": 42,
   "id": "4cfdcff9",
   "metadata": {},
   "outputs": [
    {
     "data": {
      "text/plain": [
       "Yes    37027\n",
       "No     16417\n",
       "NM      7288\n",
       "Name: Payment_of_Min_Amount, dtype: int64"
      ]
     },
     "execution_count": 42,
     "metadata": {},
     "output_type": "execute_result"
    }
   ],
   "source": [
    "df['Payment_of_Min_Amount'].value_counts()"
   ]
  },
  {
   "cell_type": "code",
   "execution_count": 43,
   "id": "eae3a57c",
   "metadata": {},
   "outputs": [
    {
     "data": {
      "text/plain": [
       "__10000__             2621\n",
       "0.0                    120\n",
       "80.41529543900253        1\n",
       "299.19414108909785       1\n",
       "528.9301938908288        1\n",
       "                      ... \n",
       "51.692136743915356       1\n",
       "167.8549671183016        1\n",
       "82.28201778487923        1\n",
       "145.83656360740954       1\n",
       "167.1638651610451        1\n",
       "Name: Amount_invested_monthly, Length: 55250, dtype: int64"
      ]
     },
     "execution_count": 43,
     "metadata": {},
     "output_type": "execute_result"
    }
   ],
   "source": [
    "df['Amount_invested_monthly'].value_counts()"
   ]
  },
  {
   "cell_type": "code",
   "execution_count": 44,
   "id": "fd81c65a",
   "metadata": {},
   "outputs": [],
   "source": [
    "df['Amount_invested_monthly'] = df.Amount_invested_monthly.str.replace('_','')"
   ]
  },
  {
   "cell_type": "code",
   "execution_count": 45,
   "id": "8295ce33",
   "metadata": {},
   "outputs": [],
   "source": [
    "df['Amount_invested_monthly']= df.Amount_invested_monthly.astype(float)"
   ]
  },
  {
   "cell_type": "code",
   "execution_count": 46,
   "id": "e197583e",
   "metadata": {},
   "outputs": [
    {
     "name": "stdout",
     "output_type": "stream",
     "text": [
      "<class 'pandas.core.frame.DataFrame'>\n",
      "Int64Index: 60732 entries, 0 to 99999\n",
      "Data columns (total 20 columns):\n",
      " #   Column                    Non-Null Count  Dtype  \n",
      "---  ------                    --------------  -----  \n",
      " 0   Age                       60732 non-null  object \n",
      " 1   Annual_Income             60732 non-null  float64\n",
      " 2   Monthly_Inhand_Salary     51667 non-null  float64\n",
      " 3   Num_Bank_Accounts         60732 non-null  int64  \n",
      " 4   Num_Credit_Card           60732 non-null  int64  \n",
      " 5   Interest_Rate             60732 non-null  int64  \n",
      " 6   Num_of_Loan               60732 non-null  object \n",
      " 7   Delay_from_due_date       60732 non-null  int64  \n",
      " 8   Num_of_Delayed_Payment    60732 non-null  object \n",
      " 9   Num_Credit_Inquiries      59566 non-null  float64\n",
      " 10  Credit_Mix                60732 non-null  object \n",
      " 11  Outstanding_Debt          60732 non-null  float64\n",
      " 12  Credit_Utilization_Ratio  60732 non-null  float64\n",
      " 13  Credit_History_Age        55249 non-null  object \n",
      " 14  Payment_of_Min_Amount     60732 non-null  object \n",
      " 15  Total_EMI_per_month       60732 non-null  float64\n",
      " 16  Amount_invested_monthly   57989 non-null  float64\n",
      " 17  Payment_Behaviour         60732 non-null  object \n",
      " 18  Monthly_Balance           59855 non-null  object \n",
      " 19  Credit_Score              60732 non-null  object \n",
      "dtypes: float64(7), int64(4), object(9)\n",
      "memory usage: 9.7+ MB\n"
     ]
    }
   ],
   "source": [
    "df.info()"
   ]
  },
  {
   "cell_type": "code",
   "execution_count": 47,
   "id": "745a9f97",
   "metadata": {},
   "outputs": [],
   "source": [
    "df.drop(['Payment_Behaviour'],inplace=True, axis=1)"
   ]
  },
  {
   "cell_type": "code",
   "execution_count": 48,
   "id": "7e02eb33",
   "metadata": {},
   "outputs": [
    {
     "data": {
      "text/plain": [
       "__-333333333333333333333333333__    6\n",
       "312.49408867943663                  1\n",
       "315.8409062259521                   1\n",
       "365.2633969624913                   1\n",
       "327.07621894423517                  1\n",
       "                                   ..\n",
       "276.412765134575                    1\n",
       "94.48846088913422                   1\n",
       "289.2458362192906                   1\n",
       "490.20225630470907                  1\n",
       "393.6736955618808                   1\n",
       "Name: Monthly_Balance, Length: 59850, dtype: int64"
      ]
     },
     "execution_count": 48,
     "metadata": {},
     "output_type": "execute_result"
    }
   ],
   "source": [
    "df.Monthly_Balance.value_counts()"
   ]
  },
  {
   "cell_type": "code",
   "execution_count": 49,
   "id": "1787c867",
   "metadata": {},
   "outputs": [],
   "source": [
    "df['Monthly_Balance'] = df.Monthly_Balance.str.replace('_','')"
   ]
  },
  {
   "cell_type": "code",
   "execution_count": 50,
   "id": "7a43bb74",
   "metadata": {},
   "outputs": [],
   "source": [
    "df['Monthly_Balance']= df.Monthly_Balance.astype(float)"
   ]
  },
  {
   "cell_type": "code",
   "execution_count": 51,
   "id": "c1d68ea4",
   "metadata": {},
   "outputs": [],
   "source": [
    "df = df.loc[(df['Monthly_Balance'] > 1)]"
   ]
  },
  {
   "cell_type": "code",
   "execution_count": 52,
   "id": "9aecab4d",
   "metadata": {},
   "outputs": [
    {
     "data": {
      "text/plain": [
       "312.494089    1\n",
       "530.604741    1\n",
       "315.840906    1\n",
       "470.641411    1\n",
       "365.263397    1\n",
       "             ..\n",
       "243.573096    1\n",
       "250.518838    1\n",
       "276.412765    1\n",
       "94.488461     1\n",
       "393.673696    1\n",
       "Name: Monthly_Balance, Length: 59835, dtype: int64"
      ]
     },
     "execution_count": 52,
     "metadata": {},
     "output_type": "execute_result"
    }
   ],
   "source": [
    "df.Monthly_Balance.value_counts()"
   ]
  },
  {
   "cell_type": "code",
   "execution_count": 53,
   "id": "f771a761",
   "metadata": {},
   "outputs": [
    {
     "data": {
      "text/plain": [
       "Standard    31169\n",
       "Poor        20435\n",
       "Good         8231\n",
       "Name: Credit_Score, dtype: int64"
      ]
     },
     "execution_count": 53,
     "metadata": {},
     "output_type": "execute_result"
    }
   ],
   "source": [
    "df['Credit_Score'].value_counts()"
   ]
  },
  {
   "cell_type": "code",
   "execution_count": 54,
   "id": "e2bc6a0f",
   "metadata": {
    "scrolled": true
   },
   "outputs": [
    {
     "name": "stdout",
     "output_type": "stream",
     "text": [
      "<class 'pandas.core.frame.DataFrame'>\n",
      "Int64Index: 59835 entries, 0 to 99999\n",
      "Data columns (total 19 columns):\n",
      " #   Column                    Non-Null Count  Dtype  \n",
      "---  ------                    --------------  -----  \n",
      " 0   Age                       59835 non-null  object \n",
      " 1   Annual_Income             59835 non-null  float64\n",
      " 2   Monthly_Inhand_Salary     50899 non-null  float64\n",
      " 3   Num_Bank_Accounts         59835 non-null  int64  \n",
      " 4   Num_Credit_Card           59835 non-null  int64  \n",
      " 5   Interest_Rate             59835 non-null  int64  \n",
      " 6   Num_of_Loan               59835 non-null  object \n",
      " 7   Delay_from_due_date       59835 non-null  int64  \n",
      " 8   Num_of_Delayed_Payment    59835 non-null  object \n",
      " 9   Num_Credit_Inquiries      58688 non-null  float64\n",
      " 10  Credit_Mix                59835 non-null  object \n",
      " 11  Outstanding_Debt          59835 non-null  float64\n",
      " 12  Credit_Utilization_Ratio  59835 non-null  float64\n",
      " 13  Credit_History_Age        54453 non-null  object \n",
      " 14  Payment_of_Min_Amount     59835 non-null  object \n",
      " 15  Total_EMI_per_month       59835 non-null  float64\n",
      " 16  Amount_invested_monthly   57136 non-null  float64\n",
      " 17  Monthly_Balance           59835 non-null  float64\n",
      " 18  Credit_Score              59835 non-null  object \n",
      "dtypes: float64(8), int64(4), object(7)\n",
      "memory usage: 9.1+ MB\n"
     ]
    }
   ],
   "source": [
    "df.info()"
   ]
  },
  {
   "cell_type": "code",
   "execution_count": 55,
   "id": "8c116daf",
   "metadata": {
    "scrolled": true
   },
   "outputs": [
    {
     "data": {
      "text/plain": [
       "Standard    31169\n",
       "Poor        20435\n",
       "Good         8231\n",
       "Name: Credit_Score, dtype: int64"
      ]
     },
     "execution_count": 55,
     "metadata": {},
     "output_type": "execute_result"
    }
   ],
   "source": [
    "df.Credit_Score.value_counts()"
   ]
  },
  {
   "cell_type": "code",
   "execution_count": 56,
   "id": "4fb5e91c",
   "metadata": {},
   "outputs": [],
   "source": [
    "score_mapper = {\"Poor\":1, \"Standard\":2, \"Good\":3}"
   ]
  },
  {
   "cell_type": "code",
   "execution_count": 57,
   "id": "34b1f0b8",
   "metadata": {},
   "outputs": [],
   "source": [
    "df[\"Credit_Score\"] = df[\"Credit_Score\"].replace(score_mapper)"
   ]
  },
  {
   "cell_type": "code",
   "execution_count": 61,
   "id": "5623eaed",
   "metadata": {
    "scrolled": true
   },
   "outputs": [
    {
     "data": {
      "text/html": [
       "<div>\n",
       "<style scoped>\n",
       "    .dataframe tbody tr th:only-of-type {\n",
       "        vertical-align: middle;\n",
       "    }\n",
       "\n",
       "    .dataframe tbody tr th {\n",
       "        vertical-align: top;\n",
       "    }\n",
       "\n",
       "    .dataframe thead th {\n",
       "        text-align: right;\n",
       "    }\n",
       "</style>\n",
       "<table border=\"1\" class=\"dataframe\">\n",
       "  <thead>\n",
       "    <tr style=\"text-align: right;\">\n",
       "      <th></th>\n",
       "      <th>Age</th>\n",
       "      <th>Annual_Income</th>\n",
       "      <th>Monthly_Inhand_Salary</th>\n",
       "      <th>Num_Bank_Accounts</th>\n",
       "      <th>Num_Credit_Card</th>\n",
       "      <th>Interest_Rate</th>\n",
       "      <th>Num_of_Loan</th>\n",
       "      <th>Delay_from_due_date</th>\n",
       "      <th>Num_of_Delayed_Payment</th>\n",
       "      <th>Num_Credit_Inquiries</th>\n",
       "      <th>Credit_Mix</th>\n",
       "      <th>Outstanding_Debt</th>\n",
       "      <th>Credit_Utilization_Ratio</th>\n",
       "      <th>Credit_History_Age</th>\n",
       "      <th>Payment_of_Min_Amount</th>\n",
       "      <th>Total_EMI_per_month</th>\n",
       "      <th>Amount_invested_monthly</th>\n",
       "      <th>Monthly_Balance</th>\n",
       "      <th>Credit_Score</th>\n",
       "    </tr>\n",
       "  </thead>\n",
       "  <tbody>\n",
       "    <tr>\n",
       "      <th>0</th>\n",
       "      <td>23.0</td>\n",
       "      <td>19114.12</td>\n",
       "      <td>1824.843333</td>\n",
       "      <td>3</td>\n",
       "      <td>4</td>\n",
       "      <td>3</td>\n",
       "      <td>4.0</td>\n",
       "      <td>3</td>\n",
       "      <td>7.0</td>\n",
       "      <td>4.0</td>\n",
       "      <td>other</td>\n",
       "      <td>809.98</td>\n",
       "      <td>26.822620</td>\n",
       "      <td>22</td>\n",
       "      <td>No</td>\n",
       "      <td>49.574949</td>\n",
       "      <td>80.415295</td>\n",
       "      <td>312.494089</td>\n",
       "      <td>3</td>\n",
       "    </tr>\n",
       "    <tr>\n",
       "      <th>3</th>\n",
       "      <td>23.0</td>\n",
       "      <td>19114.12</td>\n",
       "      <td>NaN</td>\n",
       "      <td>3</td>\n",
       "      <td>4</td>\n",
       "      <td>3</td>\n",
       "      <td>4.0</td>\n",
       "      <td>5</td>\n",
       "      <td>4.0</td>\n",
       "      <td>4.0</td>\n",
       "      <td>Good</td>\n",
       "      <td>809.98</td>\n",
       "      <td>31.377862</td>\n",
       "      <td>22</td>\n",
       "      <td>No</td>\n",
       "      <td>49.574949</td>\n",
       "      <td>199.458074</td>\n",
       "      <td>223.451310</td>\n",
       "      <td>3</td>\n",
       "    </tr>\n",
       "    <tr>\n",
       "      <th>5</th>\n",
       "      <td>23.0</td>\n",
       "      <td>19114.12</td>\n",
       "      <td>NaN</td>\n",
       "      <td>3</td>\n",
       "      <td>4</td>\n",
       "      <td>3</td>\n",
       "      <td>4.0</td>\n",
       "      <td>8</td>\n",
       "      <td>4.0</td>\n",
       "      <td>4.0</td>\n",
       "      <td>Good</td>\n",
       "      <td>809.98</td>\n",
       "      <td>27.262259</td>\n",
       "      <td>22</td>\n",
       "      <td>No</td>\n",
       "      <td>49.574949</td>\n",
       "      <td>62.430172</td>\n",
       "      <td>340.479212</td>\n",
       "      <td>3</td>\n",
       "    </tr>\n",
       "    <tr>\n",
       "      <th>6</th>\n",
       "      <td>23.0</td>\n",
       "      <td>19114.12</td>\n",
       "      <td>1824.843333</td>\n",
       "      <td>3</td>\n",
       "      <td>4</td>\n",
       "      <td>3</td>\n",
       "      <td>4.0</td>\n",
       "      <td>3</td>\n",
       "      <td>8.0</td>\n",
       "      <td>4.0</td>\n",
       "      <td>Good</td>\n",
       "      <td>809.98</td>\n",
       "      <td>22.537593</td>\n",
       "      <td>22</td>\n",
       "      <td>No</td>\n",
       "      <td>49.574949</td>\n",
       "      <td>178.344067</td>\n",
       "      <td>244.565317</td>\n",
       "      <td>3</td>\n",
       "    </tr>\n",
       "    <tr>\n",
       "      <th>7</th>\n",
       "      <td>23.0</td>\n",
       "      <td>19114.12</td>\n",
       "      <td>1824.843333</td>\n",
       "      <td>3</td>\n",
       "      <td>4</td>\n",
       "      <td>3</td>\n",
       "      <td>4.0</td>\n",
       "      <td>3</td>\n",
       "      <td>6.0</td>\n",
       "      <td>4.0</td>\n",
       "      <td>Good</td>\n",
       "      <td>809.98</td>\n",
       "      <td>23.933795</td>\n",
       "      <td>NaN</td>\n",
       "      <td>No</td>\n",
       "      <td>49.574949</td>\n",
       "      <td>24.785217</td>\n",
       "      <td>358.124168</td>\n",
       "      <td>2</td>\n",
       "    </tr>\n",
       "  </tbody>\n",
       "</table>\n",
       "</div>"
      ],
      "text/plain": [
       "    Age  Annual_Income  Monthly_Inhand_Salary  Num_Bank_Accounts  \\\n",
       "0  23.0       19114.12            1824.843333                  3   \n",
       "3  23.0       19114.12                    NaN                  3   \n",
       "5  23.0       19114.12                    NaN                  3   \n",
       "6  23.0       19114.12            1824.843333                  3   \n",
       "7  23.0       19114.12            1824.843333                  3   \n",
       "\n",
       "   Num_Credit_Card  Interest_Rate Num_of_Loan  Delay_from_due_date  \\\n",
       "0                4              3         4.0                    3   \n",
       "3                4              3         4.0                    5   \n",
       "5                4              3         4.0                    8   \n",
       "6                4              3         4.0                    3   \n",
       "7                4              3         4.0                    3   \n",
       "\n",
       "  Num_of_Delayed_Payment  Num_Credit_Inquiries Credit_Mix  Outstanding_Debt  \\\n",
       "0                    7.0                   4.0      other            809.98   \n",
       "3                    4.0                   4.0       Good            809.98   \n",
       "5                    4.0                   4.0       Good            809.98   \n",
       "6                    8.0                   4.0       Good            809.98   \n",
       "7                    6.0                   4.0       Good            809.98   \n",
       "\n",
       "   Credit_Utilization_Ratio Credit_History_Age Payment_of_Min_Amount  \\\n",
       "0                 26.822620                 22                    No   \n",
       "3                 31.377862                 22                    No   \n",
       "5                 27.262259                 22                    No   \n",
       "6                 22.537593                 22                    No   \n",
       "7                 23.933795                NaN                    No   \n",
       "\n",
       "   Total_EMI_per_month  Amount_invested_monthly  Monthly_Balance  Credit_Score  \n",
       "0            49.574949                80.415295       312.494089             3  \n",
       "3            49.574949               199.458074       223.451310             3  \n",
       "5            49.574949                62.430172       340.479212             3  \n",
       "6            49.574949               178.344067       244.565317             3  \n",
       "7            49.574949                24.785217       358.124168             2  "
      ]
     },
     "execution_count": 61,
     "metadata": {},
     "output_type": "execute_result"
    }
   ],
   "source": [
    "df.head()"
   ]
  },
  {
   "cell_type": "code",
   "execution_count": 64,
   "id": "963d85b7",
   "metadata": {},
   "outputs": [
    {
     "name": "stdout",
     "output_type": "stream",
     "text": [
      "<class 'pandas.core.frame.DataFrame'>\n",
      "Int64Index: 59835 entries, 0 to 99999\n",
      "Data columns (total 19 columns):\n",
      " #   Column                    Non-Null Count  Dtype  \n",
      "---  ------                    --------------  -----  \n",
      " 0   Age                       59835 non-null  object \n",
      " 1   Annual_Income             59835 non-null  float64\n",
      " 2   Monthly_Inhand_Salary     50899 non-null  float64\n",
      " 3   Num_Bank_Accounts         59835 non-null  int64  \n",
      " 4   Num_Credit_Card           59835 non-null  int64  \n",
      " 5   Interest_Rate             59835 non-null  int64  \n",
      " 6   Num_of_Loan               59835 non-null  object \n",
      " 7   Delay_from_due_date       59835 non-null  int64  \n",
      " 8   Num_of_Delayed_Payment    59835 non-null  object \n",
      " 9   Num_Credit_Inquiries      58688 non-null  float64\n",
      " 10  Credit_Mix                59835 non-null  object \n",
      " 11  Outstanding_Debt          59835 non-null  float64\n",
      " 12  Credit_Utilization_Ratio  59835 non-null  float64\n",
      " 13  Credit_History_Age        54453 non-null  object \n",
      " 14  Payment_of_Min_Amount     59835 non-null  object \n",
      " 15  Total_EMI_per_month       59835 non-null  float64\n",
      " 16  Amount_invested_monthly   57136 non-null  float64\n",
      " 17  Monthly_Balance           59835 non-null  float64\n",
      " 18  Credit_Score              59835 non-null  int64  \n",
      "dtypes: float64(8), int64(5), object(6)\n",
      "memory usage: 9.1+ MB\n"
     ]
    }
   ],
   "source": [
    "df.info()"
   ]
  },
  {
   "cell_type": "code",
   "execution_count": 65,
   "id": "378a38f8",
   "metadata": {},
   "outputs": [],
   "source": [
    "df.to_csv('./data/cleaned_data3.csv')"
   ]
  },
  {
   "cell_type": "code",
   "execution_count": null,
   "id": "ce6f1c86",
   "metadata": {},
   "outputs": [],
   "source": []
  }
 ],
 "metadata": {
  "kernelspec": {
   "display_name": "Python (learn-env)",
   "language": "python",
   "name": "learn-env"
  },
  "language_info": {
   "codemirror_mode": {
    "name": "ipython",
    "version": 3
   },
   "file_extension": ".py",
   "mimetype": "text/x-python",
   "name": "python",
   "nbconvert_exporter": "python",
   "pygments_lexer": "ipython3",
   "version": "3.8.5"
  }
 },
 "nbformat": 4,
 "nbformat_minor": 5
}
