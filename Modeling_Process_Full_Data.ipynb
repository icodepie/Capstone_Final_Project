{
 "cells": [
  {
   "cell_type": "code",
   "execution_count": 14,
   "id": "245ec8a5",
   "metadata": {},
   "outputs": [],
   "source": [
    "import pandas as pd\n",
    "import numpy as np\n",
    "from matplotlib import pyplot as plt\n",
    "import seaborn as sns\n",
    "from sklearn.model_selection import train_test_split, GridSearchCV, cross_val_score\n",
    "from sklearn.pipeline import Pipeline\n",
    "from sklearn.preprocessing import StandardScaler, OneHotEncoder, FunctionTransformer\n",
    "from sklearn.impute import SimpleImputer\n",
    "from sklearn.compose import ColumnTransformer,  make_column_selector as selector\n",
    "from sklearn.linear_model import LogisticRegression\n",
    "from sklearn.ensemble import RandomForestClassifier,GradientBoostingClassifier,AdaBoostClassifier\n",
    "from sklearn.metrics import plot_confusion_matrix, recall_score,\\\n",
    "    accuracy_score, precision_score, f1_score\n",
    "from sklearn.neighbors import KNeighborsClassifier\n",
    "from sklearn.dummy import DummyClassifier\n",
    "from sklearn.tree import DecisionTreeClassifier\n",
    "from sklearn.metrics import plot_roc_curve\n",
    "from sklearn.model_selection import RandomizedSearchCV\n",
    "from xgboost import XGBClassifier,XGBRegressor\n",
    "from sklearn.decomposition import PCA"
   ]
  },
  {
   "cell_type": "code",
   "execution_count": 32,
   "id": "616f672f",
   "metadata": {},
   "outputs": [],
   "source": [
    "df = pd.read_csv('./data/cleaned_data3.csv')"
   ]
  },
  {
   "cell_type": "code",
   "execution_count": 33,
   "id": "db61cc1a",
   "metadata": {},
   "outputs": [
    {
     "name": "stdout",
     "output_type": "stream",
     "text": [
      "<class 'pandas.core.frame.DataFrame'>\n",
      "RangeIndex: 59835 entries, 0 to 59834\n",
      "Data columns (total 20 columns):\n",
      " #   Column                    Non-Null Count  Dtype  \n",
      "---  ------                    --------------  -----  \n",
      " 0   Unnamed: 0                59835 non-null  int64  \n",
      " 1   Age                       59835 non-null  float64\n",
      " 2   Annual_Income             59835 non-null  float64\n",
      " 3   Monthly_Inhand_Salary     50899 non-null  float64\n",
      " 4   Num_Bank_Accounts         59835 non-null  int64  \n",
      " 5   Num_Credit_Card           59835 non-null  int64  \n",
      " 6   Interest_Rate             59835 non-null  int64  \n",
      " 7   Num_of_Loan               59835 non-null  float64\n",
      " 8   Delay_from_due_date       59835 non-null  int64  \n",
      " 9   Num_of_Delayed_Payment    59835 non-null  float64\n",
      " 10  Num_Credit_Inquiries      58688 non-null  float64\n",
      " 11  Credit_Mix                59835 non-null  object \n",
      " 12  Outstanding_Debt          59835 non-null  float64\n",
      " 13  Credit_Utilization_Ratio  59835 non-null  float64\n",
      " 14  Credit_History_Age        54453 non-null  float64\n",
      " 15  Payment_of_Min_Amount     59835 non-null  object \n",
      " 16  Total_EMI_per_month       59835 non-null  float64\n",
      " 17  Amount_invested_monthly   57136 non-null  float64\n",
      " 18  Monthly_Balance           59835 non-null  float64\n",
      " 19  Credit_Score              59835 non-null  int64  \n",
      "dtypes: float64(12), int64(6), object(2)\n",
      "memory usage: 9.1+ MB\n"
     ]
    }
   ],
   "source": [
    "df.info()"
   ]
  },
  {
   "cell_type": "code",
   "execution_count": 17,
   "id": "e12b4b43",
   "metadata": {},
   "outputs": [],
   "source": [
    "X = df.drop(['Credit_Score','Unnamed: 0'], axis=1)\n",
    "y = df['Credit_Score']\n",
    "\n",
    "X_train, X_test, y_train, y_test = train_test_split(X, y, random_state=42,test_size=.2)"
   ]
  },
  {
   "cell_type": "code",
   "execution_count": 18,
   "id": "c106be83",
   "metadata": {},
   "outputs": [
    {
     "name": "stdout",
     "output_type": "stream",
     "text": [
      "<class 'pandas.core.frame.DataFrame'>\n",
      "RangeIndex: 59835 entries, 0 to 59834\n",
      "Data columns (total 18 columns):\n",
      " #   Column                    Non-Null Count  Dtype  \n",
      "---  ------                    --------------  -----  \n",
      " 0   Age                       59835 non-null  float64\n",
      " 1   Annual_Income             59835 non-null  float64\n",
      " 2   Monthly_Inhand_Salary     50899 non-null  float64\n",
      " 3   Num_Bank_Accounts         59835 non-null  int64  \n",
      " 4   Num_Credit_Card           59835 non-null  int64  \n",
      " 5   Interest_Rate             59835 non-null  int64  \n",
      " 6   Num_of_Loan               59835 non-null  float64\n",
      " 7   Delay_from_due_date       59835 non-null  int64  \n",
      " 8   Num_of_Delayed_Payment    59835 non-null  float64\n",
      " 9   Num_Credit_Inquiries      58688 non-null  float64\n",
      " 10  Credit_Mix                59835 non-null  object \n",
      " 11  Outstanding_Debt          59835 non-null  float64\n",
      " 12  Credit_Utilization_Ratio  59835 non-null  float64\n",
      " 13  Credit_History_Age        54453 non-null  float64\n",
      " 14  Payment_of_Min_Amount     59835 non-null  object \n",
      " 15  Total_EMI_per_month       59835 non-null  float64\n",
      " 16  Amount_invested_monthly   57136 non-null  float64\n",
      " 17  Monthly_Balance           59835 non-null  float64\n",
      "dtypes: float64(12), int64(4), object(2)\n",
      "memory usage: 8.2+ MB\n"
     ]
    }
   ],
   "source": [
    "X.info()"
   ]
  },
  {
   "cell_type": "code",
   "execution_count": 19,
   "id": "c62cd2ac",
   "metadata": {},
   "outputs": [
    {
     "name": "stdout",
     "output_type": "stream",
     "text": [
      "(47868, 18) (11967, 18)\n"
     ]
    }
   ],
   "source": [
    "print(X_train.shape, X_test.shape)"
   ]
  },
  {
   "cell_type": "code",
   "execution_count": 20,
   "id": "3db20850",
   "metadata": {},
   "outputs": [
    {
     "data": {
      "text/plain": [
       "2    31169\n",
       "1    20435\n",
       "3     8231\n",
       "Name: Credit_Score, dtype: int64"
      ]
     },
     "execution_count": 20,
     "metadata": {},
     "output_type": "execute_result"
    }
   ],
   "source": [
    "y.value_counts()"
   ]
  },
  {
   "cell_type": "code",
   "execution_count": 21,
   "id": "33273ff4",
   "metadata": {},
   "outputs": [],
   "source": [
    "#subpipes that scale numeric data and use one hot encoder on categorical \n",
    "subpipe_num = Pipeline(steps=[\n",
    "    ('num_impute', SimpleImputer(strategy='mean')),\n",
    "    ('ss', StandardScaler())\n",
    "])\n",
    "\n",
    "\n",
    "subpipe_cat = Pipeline(steps=[\n",
    "    ('cat_impute',SimpleImputer(strategy='most_frequent')),\n",
    "    ('ohe', OneHotEncoder(sparse=False, handle_unknown='ignore'))\n",
    "])"
   ]
  },
  {
   "cell_type": "code",
   "execution_count": 22,
   "id": "db837647",
   "metadata": {},
   "outputs": [],
   "source": [
    "#Create a column transformer to apply the subpipes and transform the data\n",
    "CT = ColumnTransformer(transformers=[\n",
    "    ('subpipe_num', subpipe_num, selector(dtype_include=np.number)),\n",
    "     ('subpipe_cat', subpipe_cat, selector(dtype_include=object))], remainder='passthrough')"
   ]
  },
  {
   "cell_type": "code",
   "execution_count": 23,
   "id": "9126c6d6",
   "metadata": {},
   "outputs": [],
   "source": [
    "#Use modelwithcv function to get cross val scores\n",
    "class ModelWithCV():\n",
    "    '''Structure to save the model and more easily see its crossvalidation'''\n",
    "    \n",
    "    def __init__(self, model, model_name, X, y, cv_now=True):\n",
    "        self.model = model\n",
    "        self.name = model_name\n",
    "        self.X = X\n",
    "        self.y = y\n",
    "        # For CV results\n",
    "        self.cv_results = None\n",
    "        self.cv_mean = None\n",
    "        self.cv_median = None\n",
    "        self.cv_std = None\n",
    "        #\n",
    "        if cv_now:\n",
    "            self.cross_validate()\n",
    "        \n",
    "    def cross_validate(self, X=None, y=None, kfolds=10):\n",
    "        '''\n",
    "        Perform cross-validation and return results.\n",
    "        \n",
    "        Args: \n",
    "          X:\n",
    "            Optional; Training data to perform CV on. Otherwise use X from object\n",
    "          y:\n",
    "            Optional; Training data to perform CV on. Otherwise use y from object\n",
    "          kfolds:\n",
    "            Optional; Number of folds for CV (default is 10)  \n",
    "        '''\n",
    "        \n",
    "        cv_X = X if X else self.X\n",
    "        cv_y = y if y else self.y\n",
    "\n",
    "        self.cv_results = cross_val_score(self.model, cv_X, cv_y, cv=kfolds)\n",
    "        self.cv_mean = np.mean(self.cv_results)\n",
    "        self.cv_median = np.median(self.cv_results)\n",
    "        self.cv_std = np.std(self.cv_results)\n",
    "\n",
    "        \n",
    "    def print_cv_summary(self):\n",
    "        cv_summary = (\n",
    "        f'''CV Results for `{self.name}` model:\n",
    "            {self.cv_mean:.5f} ± {self.cv_std:.5f} accuracy\n",
    "        ''')\n",
    "        print(cv_summary)\n",
    "\n",
    "        \n",
    "    def plot_cv(self, ax):\n",
    "        '''\n",
    "        Plot the cross-validation values using the array of results and given \n",
    "        Axis for plotting.\n",
    "        '''\n",
    "        ax.set_title(f'CV Results for `{self.name}` Model')\n",
    "        # Thinner violinplot with higher bw\n",
    "        sns.violinplot(y=self.cv_results, ax=ax, bw=.4)\n",
    "        sns.swarmplot(\n",
    "                y=self.cv_results,\n",
    "                color='orange',\n",
    "                size=10,\n",
    "                alpha= 0.8,\n",
    "                ax=ax\n",
    "        )\n",
    "\n",
    "        return ax"
   ]
  },
  {
   "cell_type": "markdown",
   "id": "8a35accd",
   "metadata": {},
   "source": [
    "# Baseline Dummy Model"
   ]
  },
  {
   "cell_type": "code",
   "execution_count": 24,
   "id": "a2574d5b",
   "metadata": {},
   "outputs": [],
   "source": [
    "#Create a pipeline for dummy model using most_freq strategy\n",
    "dummy_model_pipe = Pipeline(steps=[\n",
    "    ('ct', CT),\n",
    "    ('dum', DummyClassifier(strategy='most_frequent'))\n",
    "])"
   ]
  },
  {
   "cell_type": "code",
   "execution_count": 25,
   "id": "d546d0b6",
   "metadata": {},
   "outputs": [
    {
     "data": {
      "text/plain": [
       "0.5219979944848333"
      ]
     },
     "execution_count": 25,
     "metadata": {},
     "output_type": "execute_result"
    }
   ],
   "source": [
    "dummy_model_pipe.fit(X_train, y_train)\n",
    "dummy_model_pipe.score(X_train,y_train)"
   ]
  },
  {
   "cell_type": "markdown",
   "id": "56a69da0",
   "metadata": {},
   "source": [
    "# Simple Untuned Models "
   ]
  },
  {
   "cell_type": "code",
   "execution_count": 26,
   "id": "dba51915",
   "metadata": {},
   "outputs": [],
   "source": [
    "classifiers = [\n",
    "    KNeighborsClassifier(3),\n",
    "    DecisionTreeClassifier(random_state=42),\n",
    "    RandomForestClassifier(random_state=42),\n",
    "    AdaBoostClassifier(random_state=42),\n",
    "    GradientBoostingClassifier(random_state=42),\n",
    "    LogisticRegression(random_state=42)]"
   ]
  },
  {
   "cell_type": "code",
   "execution_count": 27,
   "id": "b351c7e1",
   "metadata": {
    "scrolled": false
   },
   "outputs": [
    {
     "name": "stdout",
     "output_type": "stream",
     "text": [
      "KNeighborsClassifier(n_neighbors=3)\n",
      "model score: 0.802\n",
      "model score: 0.632\n",
      "DecisionTreeClassifier(random_state=42)\n",
      "model score: 1.000\n",
      "model score: 0.702\n",
      "RandomForestClassifier(random_state=42)\n",
      "model score: 1.000\n",
      "model score: 0.798\n",
      "AdaBoostClassifier(random_state=42)\n",
      "model score: 0.655\n",
      "model score: 0.662\n",
      "GradientBoostingClassifier(random_state=42)\n",
      "model score: 0.717\n",
      "model score: 0.712\n",
      "LogisticRegression(random_state=42)\n",
      "model score: 0.601\n",
      "model score: 0.605\n"
     ]
    }
   ],
   "source": [
    "for classifier in classifiers:\n",
    "    steps = [\n",
    "        ('ct', CT),\n",
    "        ('clf', classifier)\n",
    "    ]\n",
    "    pipeline = Pipeline(steps)\n",
    "    pipeline.fit(X_train, y_train)   \n",
    "    print(classifier)\n",
    "    print(\"model score: %.3f\" % pipeline.score(X_train, y_train))\n",
    "    print(\"model score: %.3f\" % pipeline.score(X_test, y_test))"
   ]
  },
  {
   "cell_type": "markdown",
   "id": "bf25df9c",
   "metadata": {},
   "source": [
    "# Gridsearch RFC"
   ]
  },
  {
   "cell_type": "code",
   "execution_count": 28,
   "id": "58fcd473",
   "metadata": {},
   "outputs": [],
   "source": [
    "rfc_model = Pipeline(steps=[('CT', CT),\n",
    "                              ('rfc',RandomForestClassifier(random_state=42,max_depth=10,n_estimators=200))])"
   ]
  },
  {
   "cell_type": "code",
   "execution_count": 29,
   "id": "a2730cb7",
   "metadata": {},
   "outputs": [
    {
     "data": {
      "text/plain": [
       "Pipeline(steps=[('CT',\n",
       "                 ColumnTransformer(remainder='passthrough',\n",
       "                                   transformers=[('subpipe_num',\n",
       "                                                  Pipeline(steps=[('num_impute',\n",
       "                                                                   SimpleImputer()),\n",
       "                                                                  ('ss',\n",
       "                                                                   StandardScaler())]),\n",
       "                                                  <sklearn.compose._column_transformer.make_column_selector object at 0x000001EFE4F97520>),\n",
       "                                                 ('subpipe_cat',\n",
       "                                                  Pipeline(steps=[('cat_impute',\n",
       "                                                                   SimpleImputer(strategy='most_frequent')),\n",
       "                                                                  ('ohe',\n",
       "                                                                   OneHotEncoder(handle_unknown='ignore',\n",
       "                                                                                 sparse=False))]),\n",
       "                                                  <sklearn.compose._column_transformer.make_column_selector object at 0x000001EFE4F974F0>)])),\n",
       "                ('rfc',\n",
       "                 RandomForestClassifier(max_depth=10, n_estimators=200,\n",
       "                                        random_state=42))])"
      ]
     },
     "execution_count": 29,
     "metadata": {},
     "output_type": "execute_result"
    }
   ],
   "source": [
    "rfc_model.fit(X_train,y_train)"
   ]
  },
  {
   "cell_type": "code",
   "execution_count": 30,
   "id": "e177e076",
   "metadata": {},
   "outputs": [
    {
     "data": {
      "text/plain": [
       "0.7622628896131027"
      ]
     },
     "execution_count": 30,
     "metadata": {},
     "output_type": "execute_result"
    }
   ],
   "source": [
    "rfc_model.score(X_train,y_train)"
   ]
  },
  {
   "cell_type": "code",
   "execution_count": 31,
   "id": "90a0f3cd",
   "metadata": {
    "scrolled": true
   },
   "outputs": [
    {
     "data": {
      "text/plain": [
       "0.729506141890198"
      ]
     },
     "execution_count": 31,
     "metadata": {},
     "output_type": "execute_result"
    }
   ],
   "source": [
    "rfc_model.score(X_test,y_test)"
   ]
  },
  {
   "cell_type": "code",
   "execution_count": 48,
   "id": "fccdd331",
   "metadata": {},
   "outputs": [],
   "source": [
    "xgb_third_model = Pipeline(steps=[('CT', CT),\n",
    "                              ('xgb', XGBClassifier(learning_rate=0.1,\n",
    "                    n_estimators=500,\n",
    "                    max_depth=7,\n",
    "                    min_child_weight=.1,\n",
    "                    max_delta_step=.5,\n",
    "                    gamma=.5,\n",
    "                    reg_alpha=.01,\n",
    "                    reg_lambda = .2,\n",
    "                    subsample=.5,\n",
    "                    colsample_bytree=.5,\n",
    "                    objective='multi:softmax',\n",
    "                    num_class=3,\n",
    "                    seed=27))])"
   ]
  },
  {
   "cell_type": "code",
   "execution_count": 49,
   "id": "d89d4f57",
   "metadata": {},
   "outputs": [
    {
     "name": "stdout",
     "output_type": "stream",
     "text": [
      "[22:42:22] WARNING: C:\\Windows\\Temp\\abs_557yfx631l\\croots\\recipe\\xgboost-split_1659548953302\\work\\src\\learner.cc:1115: Starting in XGBoost 1.3.0, the default evaluation metric used with the objective 'multi:softprob' was changed from 'merror' to 'mlogloss'. Explicitly set eval_metric if you'd like to restore the old behavior.\n"
     ]
    },
    {
     "data": {
      "text/plain": [
       "Pipeline(steps=[('CT',\n",
       "                 ColumnTransformer(remainder='passthrough',\n",
       "                                   transformers=[('subpipe_num',\n",
       "                                                  Pipeline(steps=[('num_impute',\n",
       "                                                                   SimpleImputer()),\n",
       "                                                                  ('ss',\n",
       "                                                                   StandardScaler())]),\n",
       "                                                  <sklearn.compose._column_transformer.make_column_selector object at 0x000001EFE4F97520>),\n",
       "                                                 ('subpipe_cat',\n",
       "                                                  Pipeline(steps=[('cat_impute',\n",
       "                                                                   SimpleImputer(strategy='most_frequent')),\n",
       "                                                                  ('ohe',\n",
       "                                                                   OneHo...\n",
       "                               interaction_constraints='', learning_rate=0.1,\n",
       "                               max_delta_step=0.5, max_depth=7,\n",
       "                               min_child_weight=0.1, missing=nan,\n",
       "                               monotone_constraints='()', n_estimators=500,\n",
       "                               n_jobs=8, num_class=3, num_parallel_tree=1,\n",
       "                               objective='multi:softprob', predictor='auto',\n",
       "                               random_state=27, reg_alpha=0.01, reg_lambda=0.2,\n",
       "                               scale_pos_weight=None, seed=27, subsample=0.5,\n",
       "                               tree_method='exact', validate_parameters=1, ...))])"
      ]
     },
     "execution_count": 49,
     "metadata": {},
     "output_type": "execute_result"
    }
   ],
   "source": [
    "xgb_third_model.fit(X_train,y_train)"
   ]
  },
  {
   "cell_type": "code",
   "execution_count": 50,
   "id": "28e5aa2d",
   "metadata": {},
   "outputs": [
    {
     "data": {
      "text/plain": [
       "0.9031503300743712"
      ]
     },
     "execution_count": 50,
     "metadata": {},
     "output_type": "execute_result"
    }
   ],
   "source": [
    "xgb_third_model.score(X_train,y_train)"
   ]
  },
  {
   "cell_type": "code",
   "execution_count": 51,
   "id": "a1ca5bb1",
   "metadata": {
    "scrolled": true
   },
   "outputs": [
    {
     "data": {
      "text/plain": [
       "0.786746887273335"
      ]
     },
     "execution_count": 51,
     "metadata": {},
     "output_type": "execute_result"
    }
   ],
   "source": [
    "xgb_third_model.score(X_test,y_test)"
   ]
  },
  {
   "cell_type": "code",
   "execution_count": 52,
   "id": "cf0e96b6",
   "metadata": {},
   "outputs": [],
   "source": [
    "xgb_gs_model = Pipeline(steps=[('CT', CT),\n",
    "                              ('xgb', XGBClassifier(learning_rate=0.1,\n",
    "                    n_estimators=250,\n",
    "                    max_depth=7,\n",
    "                    reg_alpha=.01,\n",
    "                    reg_lambda = .2,\n",
    "                    subsample=.5,\n",
    "                    colsample_bytree=.5,\n",
    "                    objective='multi:softmax',\n",
    "                    num_class=3,\n",
    "                    seed=27))])"
   ]
  },
  {
   "cell_type": "code",
   "execution_count": 53,
   "id": "1f3841c1",
   "metadata": {},
   "outputs": [
    {
     "name": "stdout",
     "output_type": "stream",
     "text": [
      "Fitting 3 folds for each of 64 candidates, totalling 192 fits\n"
     ]
    },
    {
     "name": "stderr",
     "output_type": "stream",
     "text": [
      "[Parallel(n_jobs=-1)]: Using backend LokyBackend with 8 concurrent workers.\n",
      "[Parallel(n_jobs=-1)]: Done   2 tasks      | elapsed:   34.3s\n",
      "[Parallel(n_jobs=-1)]: Done   9 tasks      | elapsed:  1.2min\n",
      "[Parallel(n_jobs=-1)]: Done  16 tasks      | elapsed:  1.3min\n",
      "[Parallel(n_jobs=-1)]: Done  25 tasks      | elapsed:  2.6min\n",
      "[Parallel(n_jobs=-1)]: Done  34 tasks      | elapsed:  3.2min\n",
      "[Parallel(n_jobs=-1)]: Done  45 tasks      | elapsed:  4.0min\n",
      "[Parallel(n_jobs=-1)]: Done  56 tasks      | elapsed:  4.7min\n",
      "[Parallel(n_jobs=-1)]: Done  69 tasks      | elapsed:  6.0min\n",
      "[Parallel(n_jobs=-1)]: Done  82 tasks      | elapsed:  7.1min\n",
      "[Parallel(n_jobs=-1)]: Done  97 tasks      | elapsed:  8.4min\n",
      "[Parallel(n_jobs=-1)]: Done 112 tasks      | elapsed:  9.3min\n",
      "[Parallel(n_jobs=-1)]: Done 129 tasks      | elapsed: 11.4min\n",
      "[Parallel(n_jobs=-1)]: Done 146 tasks      | elapsed: 13.2min\n",
      "[Parallel(n_jobs=-1)]: Done 165 tasks      | elapsed: 15.3min\n",
      "[Parallel(n_jobs=-1)]: Done 192 out of 192 | elapsed: 17.9min finished\n"
     ]
    },
    {
     "name": "stdout",
     "output_type": "stream",
     "text": [
      "[23:09:00] WARNING: C:\\Windows\\Temp\\abs_557yfx631l\\croots\\recipe\\xgboost-split_1659548953302\\work\\src\\learner.cc:1115: Starting in XGBoost 1.3.0, the default evaluation metric used with the objective 'multi:softprob' was changed from 'merror' to 'mlogloss'. Explicitly set eval_metric if you'd like to restore the old behavior.\n"
     ]
    },
    {
     "data": {
      "text/plain": [
       "GridSearchCV(cv=3,\n",
       "             estimator=Pipeline(steps=[('CT',\n",
       "                                        ColumnTransformer(remainder='passthrough',\n",
       "                                                          transformers=[('subpipe_num',\n",
       "                                                                         Pipeline(steps=[('num_impute',\n",
       "                                                                                          SimpleImputer()),\n",
       "                                                                                         ('ss',\n",
       "                                                                                          StandardScaler())]),\n",
       "                                                                         <sklearn.compose._column_transformer.make_column_selector object at 0x000001EFE4F97520>),\n",
       "                                                                        ('subpipe_cat',\n",
       "                                                                         Pipeline(steps=[('cat_impute',\n",
       "                                                                                          SimpleImputer(strategy='m...\n",
       "                                                      num_parallel_tree=None,\n",
       "                                                      objective='multi:softmax',\n",
       "                                                      predictor=None,\n",
       "                                                      random_state=None,\n",
       "                                                      reg_alpha=0.01,\n",
       "                                                      reg_lambda=0.2,\n",
       "                                                      scale_pos_weight=None,\n",
       "                                                      seed=27, subsample=0.5,\n",
       "                                                      tree_method=None,\n",
       "                                                      validate_parameters=None, ...))]),\n",
       "             n_jobs=-1,\n",
       "             param_grid={'xgb__gamma': [0.01, 0.1, 0.25, 0.5],\n",
       "                         'xgb__max_delta_step': [0.01, 0.1, 0.25, 0.5],\n",
       "                         'xgb__min_child_weight': [0.01, 0.1, 0.25, 0.5]},\n",
       "             verbose=10)"
      ]
     },
     "execution_count": 53,
     "metadata": {},
     "output_type": "execute_result"
    }
   ],
   "source": [
    "param_test2 = {\n",
    "     'xgb__min_child_weight':[.01,.1,.25,.5],\n",
    "     'xgb__max_delta_step':[.01,.1,.25,.5],\n",
    "     'xgb__gamma':[.01,.1,.25,.5],\n",
    "}\n",
    "gs_xgb2 = GridSearchCV(estimator = xgb_gs_model, param_grid = param_test2,n_jobs=-1,verbose = 10, cv=3)\n",
    "gs_xgb2.fit(X_train, y_train)"
   ]
  },
  {
   "cell_type": "code",
   "execution_count": 54,
   "id": "72b05a78",
   "metadata": {},
   "outputs": [
    {
     "data": {
      "text/plain": [
       "{'xgb__gamma': 0.25, 'xgb__max_delta_step': 0.5, 'xgb__min_child_weight': 0.1}"
      ]
     },
     "execution_count": 54,
     "metadata": {},
     "output_type": "execute_result"
    }
   ],
   "source": [
    "gs_xgb2.best_params_"
   ]
  },
  {
   "cell_type": "code",
   "execution_count": 211,
   "id": "cd5e59ce",
   "metadata": {},
   "outputs": [],
   "source": [
    "xgb_gs_model_1 = Pipeline(steps=[('CT', CT),\n",
    "                              ('xgb', XGBClassifier(random_state=42,learning_rate=0.1,\n",
    "                    n_estimators=300,\n",
    "                    max_depth=5,\n",
    "                    max_delta_step=.5,\n",
    "                    gamma=.25,\n",
    "                    min_child_weight=.5,\n",
    "                    reg_alpha=.01,\n",
    "                    reg_lambda = .2,\n",
    "                    subsample=.5,\n",
    "                    colsample_bytree=.5,\n",
    "                    objective='multi:softmax',\n",
    "                    num_class=3,\n",
    "                    seed=27))])"
   ]
  },
  {
   "cell_type": "code",
   "execution_count": 212,
   "id": "d76e4790",
   "metadata": {},
   "outputs": [
    {
     "name": "stdout",
     "output_type": "stream",
     "text": [
      "[01:04:43] WARNING: C:\\Windows\\Temp\\abs_557yfx631l\\croots\\recipe\\xgboost-split_1659548953302\\work\\src\\learner.cc:1115: Starting in XGBoost 1.3.0, the default evaluation metric used with the objective 'multi:softprob' was changed from 'merror' to 'mlogloss'. Explicitly set eval_metric if you'd like to restore the old behavior.\n"
     ]
    },
    {
     "data": {
      "text/plain": [
       "Pipeline(steps=[('CT',\n",
       "                 ColumnTransformer(remainder='passthrough',\n",
       "                                   transformers=[('subpipe_num',\n",
       "                                                  Pipeline(steps=[('num_impute',\n",
       "                                                                   SimpleImputer()),\n",
       "                                                                  ('ss',\n",
       "                                                                   StandardScaler())]),\n",
       "                                                  <sklearn.compose._column_transformer.make_column_selector object at 0x000001EFE4F97520>),\n",
       "                                                 ('subpipe_cat',\n",
       "                                                  Pipeline(steps=[('cat_impute',\n",
       "                                                                   SimpleImputer(strategy='most_frequent')),\n",
       "                                                                  ('ohe',\n",
       "                                                                   OneHo...\n",
       "                               interaction_constraints='', learning_rate=0.1,\n",
       "                               max_delta_step=0.5, max_depth=5,\n",
       "                               min_child_weight=0.5, missing=nan,\n",
       "                               monotone_constraints='()', n_estimators=300,\n",
       "                               n_jobs=8, num_class=3, num_parallel_tree=1,\n",
       "                               objective='multi:softprob', predictor='auto',\n",
       "                               random_state=42, reg_alpha=0.01, reg_lambda=0.2,\n",
       "                               scale_pos_weight=None, seed=27, subsample=0.5,\n",
       "                               tree_method='exact', validate_parameters=1, ...))])"
      ]
     },
     "execution_count": 212,
     "metadata": {},
     "output_type": "execute_result"
    }
   ],
   "source": [
    "xgb_gs_model_1.fit(X_train,y_train)"
   ]
  },
  {
   "cell_type": "code",
   "execution_count": 213,
   "id": "373d684a",
   "metadata": {},
   "outputs": [
    {
     "data": {
      "text/plain": [
       "0.7873527199799448"
      ]
     },
     "execution_count": 213,
     "metadata": {},
     "output_type": "execute_result"
    }
   ],
   "source": [
    "xgb_gs_model_1.score(X_train,y_train)"
   ]
  },
  {
   "cell_type": "code",
   "execution_count": 214,
   "id": "40c724ed",
   "metadata": {},
   "outputs": [
    {
     "data": {
      "text/plain": [
       "0.7503969248767444"
      ]
     },
     "execution_count": 214,
     "metadata": {},
     "output_type": "execute_result"
    }
   ],
   "source": [
    "xgb_gs_model_1.score(X_test,y_test)"
   ]
  },
  {
   "cell_type": "code",
   "execution_count": null,
   "id": "a79ac51e",
   "metadata": {},
   "outputs": [],
   "source": []
  }
 ],
 "metadata": {
  "kernelspec": {
   "display_name": "Python (learn-env)",
   "language": "python",
   "name": "learn-env"
  },
  "language_info": {
   "codemirror_mode": {
    "name": "ipython",
    "version": 3
   },
   "file_extension": ".py",
   "mimetype": "text/x-python",
   "name": "python",
   "nbconvert_exporter": "python",
   "pygments_lexer": "ipython3",
   "version": "3.8.5"
  }
 },
 "nbformat": 4,
 "nbformat_minor": 5
}
